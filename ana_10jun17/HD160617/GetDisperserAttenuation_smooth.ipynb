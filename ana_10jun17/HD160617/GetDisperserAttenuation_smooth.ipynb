{
 "cells": [
  {
   "cell_type": "markdown",
   "metadata": {},
   "source": [
    "# Smoothed Disperser Attenuation study for HD160617\n",
    "\n",
    "\n",
    "Study the true transmission wrt transmission in simulatio \n",
    "\n",
    "- author Sylvie Dagoret-Campagne\n",
    "- creation date : May 2018\n",
    "- affliliation : CNRS/IN2P3\n",
    "- project : DESC-LSST"
   ]
  },
  {
   "cell_type": "markdown",
   "metadata": {},
   "source": [
    "- need to increase the number of files to be open:\n",
    "\n",
    "    ulimit -a\n",
    "    \n",
    "    ulimit -n 2048\n",
    "    \n",
    "    ulimit -Sn 10000"
   ]
  },
  {
   "cell_type": "code",
   "execution_count": 1,
   "metadata": {},
   "outputs": [
    {
     "name": "stdout",
     "output_type": "stream",
     "text": [
      "core file size          (blocks, -c) 0\r\n",
      "data seg size           (kbytes, -d) unlimited\r\n",
      "file size               (blocks, -f) unlimited\r\n",
      "max locked memory       (kbytes, -l) unlimited\r\n",
      "max memory size         (kbytes, -m) unlimited\r\n",
      "open files                      (-n) 2048\r\n",
      "pipe size            (512 bytes, -p) 1\r\n",
      "stack size              (kbytes, -s) 8192\r\n",
      "cpu time               (seconds, -t) unlimited\r\n",
      "max user processes              (-u) 1418\r\n",
      "virtual memory          (kbytes, -v) unlimited\r\n"
     ]
    }
   ],
   "source": [
    "!ulimit -a"
   ]
  },
  {
   "cell_type": "markdown",
   "metadata": {},
   "source": [
    "## Setup"
   ]
  },
  {
   "cell_type": "markdown",
   "metadata": {},
   "source": [
    "### Notebook style"
   ]
  },
  {
   "cell_type": "code",
   "execution_count": 2,
   "metadata": {},
   "outputs": [
    {
     "data": {
      "text/html": [
       "<style>\n",
       "    @font-face {\n",
       "        font-family: \"Computer Modern\";\n",
       "        src: url('http://mirrors.ctan.org/fonts/cm-unicode/fonts/otf/cmunss.otf');\n",
       "    }\n",
       "    div.cell{\n",
       "        width: 90%;\n",
       "/*        margin-left:auto;*/\n",
       "/*        margin-right:auto;*/\n",
       "    }\n",
       "    ul {\n",
       "        line-height: 145%;\n",
       "        font-size: 90%;\n",
       "    }\n",
       "    li {\n",
       "        margin-bottom: 1em;\n",
       "    }\n",
       "    h1 {\n",
       "        font-family: Helvetica, serif;\n",
       "    }\n",
       "    h4{\n",
       "        margin-top: 12px;\n",
       "        margin-bottom: 3px;\n",
       "       }\n",
       "    div.text_cell_render{\n",
       "        font-family: Computer Modern, \"Helvetica Neue\", Arial, Helvetica, Geneva, sans-serif;\n",
       "        line-height: 145%;\n",
       "        font-size: 130%;\n",
       "        width: 90%;\n",
       "        margin-left:auto;\n",
       "        margin-right:auto;\n",
       "    }\n",
       "    .CodeMirror{\n",
       "            font-family: \"Source Code Pro\", source-code-pro,Consolas, monospace;\n",
       "    }\n",
       "/*    .prompt{\n",
       "        display: None;\n",
       "    }*/\n",
       "    .text_cell_render h5 {\n",
       "        font-weight: 300;\n",
       "        font-size: 16pt;\n",
       "        color: #4057A1;\n",
       "        font-style: italic;\n",
       "        margin-bottom: 0.5em;\n",
       "        margin-top: 0.5em;\n",
       "        display: block;\n",
       "    }\n",
       "\n",
       "    .warning{\n",
       "        color: rgb( 240, 20, 20 )\n",
       "        }\n",
       "</style>\n",
       "<script>\n",
       "    MathJax.Hub.Config({\n",
       "                        TeX: {\n",
       "                           extensions: [\"AMSmath.js\"]\n",
       "                           },\n",
       "                tex2jax: {\n",
       "                    inlineMath: [ ['$','$'], [\"\\\\(\",\"\\\\)\"] ],\n",
       "                    displayMath: [ ['$$','$$'], [\"\\\\[\",\"\\\\]\"] ]\n",
       "                },\n",
       "                displayAlign: 'center', // Change this to 'center' to center equations.\n",
       "                \"HTML-CSS\": {\n",
       "                    styles: {'.MathJax_Display': {\"margin\": 4}}\n",
       "                }\n",
       "        });\n",
       "</script>"
      ],
      "text/plain": [
       "<IPython.core.display.HTML object>"
      ]
     },
     "execution_count": 2,
     "metadata": {},
     "output_type": "execute_result"
    }
   ],
   "source": [
    "from IPython.core.display import HTML\n",
    "def css_styling():\n",
    "    styles = open(\"../../styles/custom.css\", \"r\").read()\n",
    "    return HTML(styles)\n",
    "css_styling()"
   ]
  },
  {
   "cell_type": "markdown",
   "metadata": {},
   "source": [
    "### import"
   ]
  },
  {
   "cell_type": "code",
   "execution_count": 3,
   "metadata": {},
   "outputs": [],
   "source": [
    "import matplotlib.pyplot as plt\n",
    "import matplotlib.colors as colors\n",
    "import matplotlib.cm as cmx\n",
    "%matplotlib inline\n",
    "import sys\n",
    "import os\n",
    "import pandas as pd\n",
    "import glob\n",
    "from matplotlib.backends.backend_pdf import PdfPages "
   ]
  },
  {
   "cell_type": "code",
   "execution_count": 4,
   "metadata": {},
   "outputs": [],
   "source": [
    "from scipy import interpolate"
   ]
  },
  {
   "cell_type": "code",
   "execution_count": 5,
   "metadata": {},
   "outputs": [],
   "source": [
    "import seaborn as sns"
   ]
  },
  {
   "cell_type": "code",
   "execution_count": 6,
   "metadata": {},
   "outputs": [],
   "source": [
    "%matplotlib inline\n",
    "%load_ext autoreload\n",
    "%autoreload 2"
   ]
  },
  {
   "cell_type": "code",
   "execution_count": null,
   "metadata": {},
   "outputs": [],
   "source": []
  },
  {
   "cell_type": "markdown",
   "metadata": {},
   "source": [
    "### Figure style"
   ]
  },
  {
   "cell_type": "code",
   "execution_count": 7,
   "metadata": {},
   "outputs": [],
   "source": [
    "# to enlarge the sizes\n",
    "params = {'legend.fontsize': 'x-large',\n",
    "          'figure.figsize': (15, 10),   #defines the default image size\n",
    "         'axes.labelsize': 'x-large',\n",
    "         'axes.titlesize':'x-large',\n",
    "         'xtick.labelsize':'x-large',\n",
    "         'ytick.labelsize':'x-large'}\n",
    "plt.rcParams.update(params)"
   ]
  },
  {
   "cell_type": "code",
   "execution_count": 8,
   "metadata": {},
   "outputs": [],
   "source": [
    "plt.rcParams.update({'figure.max_open_warning': 0}) # to see a large number of files"
   ]
  },
  {
   "cell_type": "markdown",
   "metadata": {},
   "source": [
    "## Initialisation"
   ]
  },
  {
   "cell_type": "markdown",
   "metadata": {},
   "source": [
    "### Spectractor"
   ]
  },
  {
   "cell_type": "code",
   "execution_count": 9,
   "metadata": {},
   "outputs": [],
   "source": [
    "PATH_SPECTRACTOR='../../../Spectractor'\n",
    "PATH_SPECTRACTORSIM='../../../SpectractorSim'\n",
    "PATH_SPECTRACTORANAATM='../../../SpectractorAnaAtm/common_tools'\n",
    "PATH_GMAOMERRA='../../merra2'"
   ]
  },
  {
   "cell_type": "code",
   "execution_count": 10,
   "metadata": {},
   "outputs": [],
   "source": [
    "sys.path.append(PATH_SPECTRACTOR)\n",
    "sys.path.append(PATH_SPECTRACTORSIM)\n",
    "sys.path.append(PATH_SPECTRACTORANAATM)\n",
    "sys.path.append(PATH_GMAOMERRA)"
   ]
  },
  {
   "cell_type": "code",
   "execution_count": 11,
   "metadata": {},
   "outputs": [
    {
     "name": "stdout",
     "output_type": "stream",
     "text": [
      "REL_PATH= ../../../SpectractorAnaAtm/common_tools\n",
      "ABS_PATH= /Users/dagoret/MacOSX/GitHub/LSST/SpectractorAnaAtm/common_tools/libspecana.pyc\n",
      "PYFILE_NAME= libspecana.pyc\n",
      "PATH_SPECTRACTORSIM= ../../../SpectractorAnaAtm/common_tools/../../SpectractorSim\n"
     ]
    }
   ],
   "source": [
    "from spectractor import *\n",
    "from spectractorsim import *\n",
    "from libspecana import *"
   ]
  },
  {
   "cell_type": "markdown",
   "metadata": {},
   "source": [
    "## Input spectra"
   ]
  },
  {
   "cell_type": "markdown",
   "metadata": {},
   "source": [
    "### LogBook"
   ]
  },
  {
   "cell_type": "code",
   "execution_count": 12,
   "metadata": {},
   "outputs": [],
   "source": [
    "file_logbook_csv=os.path.join(PATH_SPECTRACTOR,'ctiofulllogbook_jun2017_v4.csv')"
   ]
  },
  {
   "cell_type": "code",
   "execution_count": 13,
   "metadata": {},
   "outputs": [],
   "source": [
    "df_ctio_lbk=pd.read_csv(file_logbook_csv,sep=';')"
   ]
  },
  {
   "cell_type": "code",
   "execution_count": 14,
   "metadata": {},
   "outputs": [
    {
     "data": {
      "text/plain": [
       "Index([u'Unnamed: 0', u'date', u'subdir', u'index', u'object', u'filter',\n",
       "       u'disperser', u'airmass', u'exposure', u'focus', u'seeing', u'P', u'T',\n",
       "       u'RH', u'W', u'file', u'Obj-posXpix', u'Obj-posYpix', u'Dx', u'Dy',\n",
       "       u'comment', u'skip'],\n",
       "      dtype='object')"
      ]
     },
     "execution_count": 14,
     "metadata": {},
     "output_type": "execute_result"
    }
   ],
   "source": [
    "df_ctio_lbk.columns"
   ]
  },
  {
   "cell_type": "code",
   "execution_count": 15,
   "metadata": {},
   "outputs": [],
   "source": [
    "df_ctio_lbk=df_ctio_lbk.reindex(columns=['date','index','P','T','RH','airmass','seeing','exposure','object','filter','disperser','focus','W','subdir','file']).set_index('date').sort_index()"
   ]
  },
  {
   "cell_type": "markdown",
   "metadata": {},
   "source": [
    "### Spectra Data"
   ]
  },
  {
   "cell_type": "code",
   "execution_count": 16,
   "metadata": {},
   "outputs": [],
   "source": [
    "home=os.getenv('HOME')"
   ]
  },
  {
   "cell_type": "code",
   "execution_count": 17,
   "metadata": {},
   "outputs": [],
   "source": [
    "path_data=os.path.join(home,'DATA/CTIODataJune2017_reduced_RG715_v2_prod1')\n",
    "#path_data=os.path.join('/sps/lsst/data/AtmosphericCalibration','CTIODataJune2017_reduced_RG715_v2_prod1')"
   ]
  },
  {
   "cell_type": "code",
   "execution_count": 18,
   "metadata": {},
   "outputs": [],
   "source": [
    "All_Subdirs=np.array(['data_28may17','data_29may17','data_30may17','data_31may17','data_01jun17','data_02jun17',\n",
    "            'data_03jun17','data_04jun17','data_06jun17','data_08jun17','data_09jun17','data_10jun17',\n",
    "            'data_12jun17','data_13jun17'])"
   ]
  },
  {
   "cell_type": "code",
   "execution_count": 19,
   "metadata": {},
   "outputs": [],
   "source": [
    "Flag_Photometric_Nights=np.array([False,False,True,False,False,False,False,False,False,True,False,True,True,False])"
   ]
  },
  {
   "cell_type": "code",
   "execution_count": 20,
   "metadata": {},
   "outputs": [],
   "source": [
    "photometric_indexes=np.where(Flag_Photometric_Nights)[0]"
   ]
  },
  {
   "cell_type": "code",
   "execution_count": 21,
   "metadata": {},
   "outputs": [
    {
     "name": "stdout",
     "output_type": "stream",
     "text": [
      "Photometric indexes :  [ 2  9 11 12]\n"
     ]
    }
   ],
   "source": [
    "print 'Photometric indexes : ',photometric_indexes"
   ]
  },
  {
   "cell_type": "code",
   "execution_count": 22,
   "metadata": {},
   "outputs": [
    {
     "name": "stdout",
     "output_type": "stream",
     "text": [
      "Photometric nights :  ['data_30may17' 'data_08jun17' 'data_10jun17' 'data_12jun17']\n"
     ]
    }
   ],
   "source": [
    "print 'Photometric nights : ',All_Subdirs[photometric_indexes]"
   ]
  },
  {
   "cell_type": "markdown",
   "metadata": {},
   "source": [
    "### Sim spectra"
   ]
  },
  {
   "cell_type": "code",
   "execution_count": 23,
   "metadata": {},
   "outputs": [
    {
     "data": {
      "text/plain": [
       "'../../../SpectractorAnaAtm/common_tools/../../SpectractorSim'"
      ]
     },
     "execution_count": 23,
     "metadata": {},
     "output_type": "execute_result"
    }
   ],
   "source": [
    "PATH_SPECTRACTORSIM"
   ]
  },
  {
   "cell_type": "code",
   "execution_count": 24,
   "metadata": {},
   "outputs": [],
   "source": [
    "# laptop:\n",
    "path_sim=os.path.join(PATH_SPECTRACTORSIM,'sim_prod/CTIODataJune2017_reduced_RG715_v2_prod1_SimSpectra')\n",
    "# CCIN2P3:\n",
    "#path_sim=PATH_SPECTRACTORSIM+'/sim_prod/CTIODataJune2017_reduced_RG715_v2_prod1_SimSpectra'\n",
    "# Office desktop\n",
    "home=os.getenv('HOME')\n",
    "path_sim=os.path.join(home,'DATA/CTIODataJune2017_reduced_RG715_v2_prod1_SimSpectra')"
   ]
  },
  {
   "cell_type": "code",
   "execution_count": 25,
   "metadata": {},
   "outputs": [
    {
     "data": {
      "text/plain": [
       "'/Users/dagoret/DATA/CTIODataJune2017_reduced_RG715_v2_prod1_SimSpectra'"
      ]
     },
     "execution_count": 25,
     "metadata": {},
     "output_type": "execute_result"
    }
   ],
   "source": [
    "path_sim"
   ]
  },
  {
   "cell_type": "code",
   "execution_count": null,
   "metadata": {},
   "outputs": [],
   "source": []
  },
  {
   "cell_type": "markdown",
   "metadata": {},
   "source": [
    "## Selection of night"
   ]
  },
  {
   "cell_type": "code",
   "execution_count": 26,
   "metadata": {},
   "outputs": [],
   "source": [
    "date=\"20170610\""
   ]
  },
  {
   "cell_type": "code",
   "execution_count": 27,
   "metadata": {},
   "outputs": [],
   "source": [
    "idx_sel_subdir=11"
   ]
  },
  {
   "cell_type": "code",
   "execution_count": 28,
   "metadata": {},
   "outputs": [],
   "source": [
    "SelectTagRe='^reduc_%s_([0-9]+)_spectrum.fits$' % (date)"
   ]
  },
  {
   "cell_type": "markdown",
   "metadata": {},
   "source": [
    "### Logbook"
   ]
  },
  {
   "cell_type": "code",
   "execution_count": 29,
   "metadata": {},
   "outputs": [],
   "source": [
    "all_obs=df_ctio_lbk.loc[(df_ctio_lbk[\"subdir\"]==All_Subdirs[idx_sel_subdir])].sort_index()"
   ]
  },
  {
   "cell_type": "code",
   "execution_count": 30,
   "metadata": {},
   "outputs": [],
   "source": [
    "all_obs_extr=all_obs[[\"index\",\"object\"]]"
   ]
  },
  {
   "cell_type": "markdown",
   "metadata": {},
   "source": [
    "### Wavelength correction"
   ]
  },
  {
   "cell_type": "code",
   "execution_count": 31,
   "metadata": {},
   "outputs": [],
   "source": [
    "FLAG_WL_CORRECTION=True # specify if correction on wavelength can be performed from input file\n",
    "file_wavelengthshift=\"../wavelength_shift.csv\"\n",
    "wlshift=pd.read_csv(file_wavelengthshift)"
   ]
  },
  {
   "cell_type": "code",
   "execution_count": 32,
   "metadata": {},
   "outputs": [
    {
     "data": {
      "text/html": [
       "<div>\n",
       "<style scoped>\n",
       "    .dataframe tbody tr th:only-of-type {\n",
       "        vertical-align: middle;\n",
       "    }\n",
       "\n",
       "    .dataframe tbody tr th {\n",
       "        vertical-align: top;\n",
       "    }\n",
       "\n",
       "    .dataframe thead th {\n",
       "        text-align: right;\n",
       "    }\n",
       "</style>\n",
       "<table border=\"1\" class=\"dataframe\">\n",
       "  <thead>\n",
       "    <tr style=\"text-align: right;\">\n",
       "      <th></th>\n",
       "      <th>index</th>\n",
       "      <th>wlshift</th>\n",
       "    </tr>\n",
       "  </thead>\n",
       "  <tbody>\n",
       "    <tr>\n",
       "      <th>0</th>\n",
       "      <td>135</td>\n",
       "      <td>-5.834064</td>\n",
       "    </tr>\n",
       "    <tr>\n",
       "      <th>1</th>\n",
       "      <td>139</td>\n",
       "      <td>-5.594220</td>\n",
       "    </tr>\n",
       "    <tr>\n",
       "      <th>2</th>\n",
       "      <td>140</td>\n",
       "      <td>-8.303469</td>\n",
       "    </tr>\n",
       "    <tr>\n",
       "      <th>3</th>\n",
       "      <td>141</td>\n",
       "      <td>8.186024</td>\n",
       "    </tr>\n",
       "    <tr>\n",
       "      <th>4</th>\n",
       "      <td>142</td>\n",
       "      <td>-4.141106</td>\n",
       "    </tr>\n",
       "  </tbody>\n",
       "</table>\n",
       "</div>"
      ],
      "text/plain": [
       "   index   wlshift\n",
       "0    135 -5.834064\n",
       "1    139 -5.594220\n",
       "2    140 -8.303469\n",
       "3    141  8.186024\n",
       "4    142 -4.141106"
      ]
     },
     "execution_count": 32,
     "metadata": {},
     "output_type": "execute_result"
    }
   ],
   "source": [
    "wlshift.head()"
   ]
  },
  {
   "cell_type": "markdown",
   "metadata": {},
   "source": [
    "### path for spectra"
   ]
  },
  {
   "cell_type": "code",
   "execution_count": 33,
   "metadata": {},
   "outputs": [],
   "source": [
    "path_spectra=os.path.join(path_data,All_Subdirs[idx_sel_subdir])\n",
    "path_spectrasim=os.path.join(path_sim,All_Subdirs[idx_sel_subdir])"
   ]
  },
  {
   "cell_type": "markdown",
   "metadata": {},
   "source": [
    "### find filename for data spectra"
   ]
  },
  {
   "cell_type": "code",
   "execution_count": 34,
   "metadata": {},
   "outputs": [],
   "source": [
    "search_string=os.path.join(path_spectra,'*.fits')\n",
    "all_spectrafiles=glob.glob(search_string)\n",
    "all_spectrafiles=sorted(all_spectrafiles)"
   ]
  },
  {
   "cell_type": "markdown",
   "metadata": {},
   "source": [
    "### extract the index from the data spectra filename"
   ]
  },
  {
   "cell_type": "code",
   "execution_count": 35,
   "metadata": {},
   "outputs": [],
   "source": [
    "#SelectTagRe='^reduc_%s_([0-9]+)_spectrum.fits$' % (date)\n",
    "all_sel_indexes=[]\n",
    "for ffn in all_spectrafiles:\n",
    "    all_sel_indexes.append(get_index_from_filename(ffn,SelectTagRe))\n",
    "all_sel_indexes=np.array(all_sel_indexes)    "
   ]
  },
  {
   "cell_type": "markdown",
   "metadata": {},
   "source": [
    "### extract the logbook rows corrsponding to the spectra\n",
    "\n",
    "- use the indexes obtained to extract the relevant rows from the logbook"
   ]
  },
  {
   "cell_type": "code",
   "execution_count": 36,
   "metadata": {},
   "outputs": [],
   "source": [
    "sel_obs=all_obs.loc[all_obs['index'].isin(all_sel_indexes)]"
   ]
  },
  {
   "cell_type": "code",
   "execution_count": 37,
   "metadata": {},
   "outputs": [
    {
     "data": {
      "text/html": [
       "<div>\n",
       "<style scoped>\n",
       "    .dataframe tbody tr th:only-of-type {\n",
       "        vertical-align: middle;\n",
       "    }\n",
       "\n",
       "    .dataframe tbody tr th {\n",
       "        vertical-align: top;\n",
       "    }\n",
       "\n",
       "    .dataframe thead th {\n",
       "        text-align: right;\n",
       "    }\n",
       "</style>\n",
       "<table border=\"1\" class=\"dataframe\">\n",
       "  <thead>\n",
       "    <tr style=\"text-align: right;\">\n",
       "      <th></th>\n",
       "      <th>index</th>\n",
       "      <th>P</th>\n",
       "      <th>T</th>\n",
       "      <th>RH</th>\n",
       "      <th>airmass</th>\n",
       "      <th>seeing</th>\n",
       "      <th>exposure</th>\n",
       "      <th>object</th>\n",
       "      <th>filter</th>\n",
       "      <th>disperser</th>\n",
       "      <th>focus</th>\n",
       "      <th>W</th>\n",
       "      <th>subdir</th>\n",
       "      <th>file</th>\n",
       "    </tr>\n",
       "    <tr>\n",
       "      <th>date</th>\n",
       "      <th></th>\n",
       "      <th></th>\n",
       "      <th></th>\n",
       "      <th></th>\n",
       "      <th></th>\n",
       "      <th></th>\n",
       "      <th></th>\n",
       "      <th></th>\n",
       "      <th></th>\n",
       "      <th></th>\n",
       "      <th></th>\n",
       "      <th></th>\n",
       "      <th></th>\n",
       "      <th></th>\n",
       "    </tr>\n",
       "  </thead>\n",
       "  <tbody>\n",
       "    <tr>\n",
       "      <th>2017-06-11T05:27:03.156</th>\n",
       "      <td>135</td>\n",
       "      <td>778</td>\n",
       "      <td>13,2</td>\n",
       "      <td>24</td>\n",
       "      <td>1,018</td>\n",
       "      <td>0,667</td>\n",
       "      <td>30</td>\n",
       "      <td>HD160617</td>\n",
       "      <td>RG715</td>\n",
       "      <td>Thor300</td>\n",
       "      <td>12450</td>\n",
       "      <td>13,6</td>\n",
       "      <td>data_10jun17</td>\n",
       "      <td>reduc_20170610_135.fits</td>\n",
       "    </tr>\n",
       "    <tr>\n",
       "      <th>2017-06-11T05:28:25.696</th>\n",
       "      <td>136</td>\n",
       "      <td>778</td>\n",
       "      <td>13,4</td>\n",
       "      <td>23</td>\n",
       "      <td>1,019</td>\n",
       "      <td>0,667</td>\n",
       "      <td>30</td>\n",
       "      <td>HD160617</td>\n",
       "      <td>RG715</td>\n",
       "      <td>HoloPhP</td>\n",
       "      <td>12450</td>\n",
       "      <td>16,9</td>\n",
       "      <td>data_10jun17</td>\n",
       "      <td>reduc_20170610_136.fits</td>\n",
       "    </tr>\n",
       "    <tr>\n",
       "      <th>2017-06-11T05:29:51.205</th>\n",
       "      <td>137</td>\n",
       "      <td>778</td>\n",
       "      <td>13,4</td>\n",
       "      <td>23</td>\n",
       "      <td>1,019</td>\n",
       "      <td>0,802</td>\n",
       "      <td>60</td>\n",
       "      <td>HD160617</td>\n",
       "      <td>RG715</td>\n",
       "      <td>HoloPhAg</td>\n",
       "      <td>12450</td>\n",
       "      <td>12,5</td>\n",
       "      <td>data_10jun17</td>\n",
       "      <td>reduc_20170610_137.fits</td>\n",
       "    </tr>\n",
       "    <tr>\n",
       "      <th>2017-06-11T05:31:43.708</th>\n",
       "      <td>138</td>\n",
       "      <td>778</td>\n",
       "      <td>13,3</td>\n",
       "      <td>23</td>\n",
       "      <td>1,02</td>\n",
       "      <td>0,712</td>\n",
       "      <td>60</td>\n",
       "      <td>HD160617</td>\n",
       "      <td>RG715</td>\n",
       "      <td>HoloAmAg</td>\n",
       "      <td>12450</td>\n",
       "      <td>15,9</td>\n",
       "      <td>data_10jun17</td>\n",
       "      <td>reduc_20170610_138.fits</td>\n",
       "    </tr>\n",
       "    <tr>\n",
       "      <th>2017-06-11T05:34:06.396</th>\n",
       "      <td>139</td>\n",
       "      <td>778</td>\n",
       "      <td>13,5</td>\n",
       "      <td>23</td>\n",
       "      <td>1,874</td>\n",
       "      <td>0,712</td>\n",
       "      <td>30</td>\n",
       "      <td>HD185975</td>\n",
       "      <td>RG715</td>\n",
       "      <td>Thor300</td>\n",
       "      <td>12450</td>\n",
       "      <td>17,4</td>\n",
       "      <td>data_10jun17</td>\n",
       "      <td>reduc_20170610_139.fits</td>\n",
       "    </tr>\n",
       "  </tbody>\n",
       "</table>\n",
       "</div>"
      ],
      "text/plain": [
       "                         index    P     T  RH airmass seeing exposure  \\\n",
       "date                                                                    \n",
       "2017-06-11T05:27:03.156    135  778  13,2  24   1,018  0,667       30   \n",
       "2017-06-11T05:28:25.696    136  778  13,4  23   1,019  0,667       30   \n",
       "2017-06-11T05:29:51.205    137  778  13,4  23   1,019  0,802       60   \n",
       "2017-06-11T05:31:43.708    138  778  13,3  23    1,02  0,712       60   \n",
       "2017-06-11T05:34:06.396    139  778  13,5  23   1,874  0,712       30   \n",
       "\n",
       "                           object filter disperser  focus     W        subdir  \\\n",
       "date                                                                            \n",
       "2017-06-11T05:27:03.156  HD160617  RG715   Thor300  12450  13,6  data_10jun17   \n",
       "2017-06-11T05:28:25.696  HD160617  RG715   HoloPhP  12450  16,9  data_10jun17   \n",
       "2017-06-11T05:29:51.205  HD160617  RG715  HoloPhAg  12450  12,5  data_10jun17   \n",
       "2017-06-11T05:31:43.708  HD160617  RG715  HoloAmAg  12450  15,9  data_10jun17   \n",
       "2017-06-11T05:34:06.396  HD185975  RG715   Thor300  12450  17,4  data_10jun17   \n",
       "\n",
       "                                            file  \n",
       "date                                              \n",
       "2017-06-11T05:27:03.156  reduc_20170610_135.fits  \n",
       "2017-06-11T05:28:25.696  reduc_20170610_136.fits  \n",
       "2017-06-11T05:29:51.205  reduc_20170610_137.fits  \n",
       "2017-06-11T05:31:43.708  reduc_20170610_138.fits  \n",
       "2017-06-11T05:34:06.396  reduc_20170610_139.fits  "
      ]
     },
     "execution_count": 37,
     "metadata": {},
     "output_type": "execute_result"
    }
   ],
   "source": [
    "sel_obs.head()"
   ]
  },
  {
   "cell_type": "code",
   "execution_count": 38,
   "metadata": {},
   "outputs": [
    {
     "data": {
      "text/html": [
       "<div>\n",
       "<style scoped>\n",
       "    .dataframe tbody tr th:only-of-type {\n",
       "        vertical-align: middle;\n",
       "    }\n",
       "\n",
       "    .dataframe tbody tr th {\n",
       "        vertical-align: top;\n",
       "    }\n",
       "\n",
       "    .dataframe thead th {\n",
       "        text-align: right;\n",
       "    }\n",
       "</style>\n",
       "<table border=\"1\" class=\"dataframe\">\n",
       "  <thead>\n",
       "    <tr style=\"text-align: right;\">\n",
       "      <th></th>\n",
       "      <th>index</th>\n",
       "      <th>P</th>\n",
       "      <th>T</th>\n",
       "      <th>RH</th>\n",
       "      <th>airmass</th>\n",
       "      <th>seeing</th>\n",
       "      <th>exposure</th>\n",
       "      <th>object</th>\n",
       "      <th>filter</th>\n",
       "      <th>disperser</th>\n",
       "      <th>focus</th>\n",
       "      <th>W</th>\n",
       "      <th>subdir</th>\n",
       "      <th>file</th>\n",
       "    </tr>\n",
       "    <tr>\n",
       "      <th>date</th>\n",
       "      <th></th>\n",
       "      <th></th>\n",
       "      <th></th>\n",
       "      <th></th>\n",
       "      <th></th>\n",
       "      <th></th>\n",
       "      <th></th>\n",
       "      <th></th>\n",
       "      <th></th>\n",
       "      <th></th>\n",
       "      <th></th>\n",
       "      <th></th>\n",
       "      <th></th>\n",
       "      <th></th>\n",
       "    </tr>\n",
       "  </thead>\n",
       "  <tbody>\n",
       "    <tr>\n",
       "      <th>2017-06-11T10:18:34.256</th>\n",
       "      <td>299</td>\n",
       "      <td>778</td>\n",
       "      <td>12</td>\n",
       "      <td>23</td>\n",
       "      <td>1,044</td>\n",
       "      <td>0,753</td>\n",
       "      <td>30</td>\n",
       "      <td>HD205905</td>\n",
       "      <td>RG715</td>\n",
       "      <td>Thor300</td>\n",
       "      <td>12450</td>\n",
       "      <td>15,1</td>\n",
       "      <td>data_10jun17</td>\n",
       "      <td>reduc_20170610_299.fits</td>\n",
       "    </tr>\n",
       "    <tr>\n",
       "      <th>2017-06-11T10:19:56.704</th>\n",
       "      <td>300</td>\n",
       "      <td>778</td>\n",
       "      <td>12,1</td>\n",
       "      <td>23</td>\n",
       "      <td>1,046</td>\n",
       "      <td>0,753</td>\n",
       "      <td>30</td>\n",
       "      <td>HD205905</td>\n",
       "      <td>RG715</td>\n",
       "      <td>HoloPhP</td>\n",
       "      <td>12450</td>\n",
       "      <td>15,8</td>\n",
       "      <td>data_10jun17</td>\n",
       "      <td>reduc_20170610_300.fits</td>\n",
       "    </tr>\n",
       "    <tr>\n",
       "      <th>2017-06-11T10:21:22.002</th>\n",
       "      <td>301</td>\n",
       "      <td>778</td>\n",
       "      <td>12,1</td>\n",
       "      <td>23</td>\n",
       "      <td>1,047</td>\n",
       "      <td>0,753</td>\n",
       "      <td>60</td>\n",
       "      <td>HD205905</td>\n",
       "      <td>RG715</td>\n",
       "      <td>HoloPhAg</td>\n",
       "      <td>12450</td>\n",
       "      <td>12,8</td>\n",
       "      <td>data_10jun17</td>\n",
       "      <td>reduc_20170610_301.fits</td>\n",
       "    </tr>\n",
       "    <tr>\n",
       "      <th>2017-06-11T10:23:14.496</th>\n",
       "      <td>302</td>\n",
       "      <td>778</td>\n",
       "      <td>12,1</td>\n",
       "      <td>23</td>\n",
       "      <td>1,05</td>\n",
       "      <td>0,753</td>\n",
       "      <td>60</td>\n",
       "      <td>HD205905</td>\n",
       "      <td>RG715</td>\n",
       "      <td>HoloAmAg</td>\n",
       "      <td>12450</td>\n",
       "      <td>15,3</td>\n",
       "      <td>data_10jun17</td>\n",
       "      <td>reduc_20170610_302.fits</td>\n",
       "    </tr>\n",
       "    <tr>\n",
       "      <th>2017-06-11T10:25:41.750</th>\n",
       "      <td>303</td>\n",
       "      <td>778</td>\n",
       "      <td>12,1</td>\n",
       "      <td>23</td>\n",
       "      <td>2,241</td>\n",
       "      <td>0,753</td>\n",
       "      <td>30</td>\n",
       "      <td>HD160617</td>\n",
       "      <td>RG715</td>\n",
       "      <td>Thor300</td>\n",
       "      <td>12450</td>\n",
       "      <td>17</td>\n",
       "      <td>data_10jun17</td>\n",
       "      <td>reduc_20170610_303.fits</td>\n",
       "    </tr>\n",
       "  </tbody>\n",
       "</table>\n",
       "</div>"
      ],
      "text/plain": [
       "                         index    P     T  RH airmass seeing exposure  \\\n",
       "date                                                                    \n",
       "2017-06-11T10:18:34.256    299  778    12  23   1,044  0,753       30   \n",
       "2017-06-11T10:19:56.704    300  778  12,1  23   1,046  0,753       30   \n",
       "2017-06-11T10:21:22.002    301  778  12,1  23   1,047  0,753       60   \n",
       "2017-06-11T10:23:14.496    302  778  12,1  23    1,05  0,753       60   \n",
       "2017-06-11T10:25:41.750    303  778  12,1  23   2,241  0,753       30   \n",
       "\n",
       "                           object filter disperser  focus     W        subdir  \\\n",
       "date                                                                            \n",
       "2017-06-11T10:18:34.256  HD205905  RG715   Thor300  12450  15,1  data_10jun17   \n",
       "2017-06-11T10:19:56.704  HD205905  RG715   HoloPhP  12450  15,8  data_10jun17   \n",
       "2017-06-11T10:21:22.002  HD205905  RG715  HoloPhAg  12450  12,8  data_10jun17   \n",
       "2017-06-11T10:23:14.496  HD205905  RG715  HoloAmAg  12450  15,3  data_10jun17   \n",
       "2017-06-11T10:25:41.750  HD160617  RG715   Thor300  12450    17  data_10jun17   \n",
       "\n",
       "                                            file  \n",
       "date                                              \n",
       "2017-06-11T10:18:34.256  reduc_20170610_299.fits  \n",
       "2017-06-11T10:19:56.704  reduc_20170610_300.fits  \n",
       "2017-06-11T10:21:22.002  reduc_20170610_301.fits  \n",
       "2017-06-11T10:23:14.496  reduc_20170610_302.fits  \n",
       "2017-06-11T10:25:41.750  reduc_20170610_303.fits  "
      ]
     },
     "execution_count": 38,
     "metadata": {},
     "output_type": "execute_result"
    }
   ],
   "source": [
    "sel_obs.tail()"
   ]
  },
  {
   "cell_type": "markdown",
   "metadata": {},
   "source": [
    "### Quick view on the kind of sources"
   ]
  },
  {
   "cell_type": "code",
   "execution_count": 39,
   "metadata": {},
   "outputs": [
    {
     "data": {
      "image/png": "[encoded data removed]",
      "text/plain": [
       "<Figure size 360x216 with 1 Axes>"
      ]
     },
     "metadata": {},
     "output_type": "display_data"
    }
   ],
   "source": [
    "plt.figure(figsize=(5,3))\n",
    "sns.countplot(y='object', data=sel_obs)\n",
    "plt.grid(True)"
   ]
  },
  {
   "cell_type": "code",
   "execution_count": 40,
   "metadata": {},
   "outputs": [
    {
     "data": {
      "image/png": "[encoded data removed]",
      "text/plain": [
       "<Figure size 360x216 with 1 Axes>"
      ]
     },
     "metadata": {},
     "output_type": "display_data"
    }
   ],
   "source": [
    "plt.figure(figsize=(5,3))\n",
    "sel_obs['object'].value_counts().plot(kind='bar',rot=0)\n",
    "plt.xticks(rotation=-45)\n",
    "plt.grid(True)"
   ]
  },
  {
   "cell_type": "markdown",
   "metadata": {},
   "source": [
    "### Remove bad spectra"
   ]
  },
  {
   "cell_type": "markdown",
   "metadata": {},
   "source": [
    "### Remove bad sources\n",
    "\n",
    "- remove star **PNG336.3-05.6**"
   ]
  },
  {
   "cell_type": "code",
   "execution_count": 41,
   "metadata": {},
   "outputs": [],
   "source": [
    "bad_obs=sel_obs.loc[sel_obs['object'].isin(['PNG336.3-05.6','HD205905','HD185975'])]\n",
    "bad_indexes=bad_obs[\"index\"]"
   ]
  },
  {
   "cell_type": "code",
   "execution_count": 42,
   "metadata": {},
   "outputs": [
    {
     "data": {
      "text/html": [
       "<div>\n",
       "<style scoped>\n",
       "    .dataframe tbody tr th:only-of-type {\n",
       "        vertical-align: middle;\n",
       "    }\n",
       "\n",
       "    .dataframe tbody tr th {\n",
       "        vertical-align: top;\n",
       "    }\n",
       "\n",
       "    .dataframe thead th {\n",
       "        text-align: right;\n",
       "    }\n",
       "</style>\n",
       "<table border=\"1\" class=\"dataframe\">\n",
       "  <thead>\n",
       "    <tr style=\"text-align: right;\">\n",
       "      <th></th>\n",
       "      <th>index</th>\n",
       "      <th>P</th>\n",
       "      <th>T</th>\n",
       "      <th>RH</th>\n",
       "      <th>airmass</th>\n",
       "      <th>seeing</th>\n",
       "      <th>exposure</th>\n",
       "      <th>object</th>\n",
       "      <th>filter</th>\n",
       "      <th>disperser</th>\n",
       "      <th>focus</th>\n",
       "      <th>W</th>\n",
       "      <th>subdir</th>\n",
       "      <th>file</th>\n",
       "    </tr>\n",
       "    <tr>\n",
       "      <th>date</th>\n",
       "      <th></th>\n",
       "      <th></th>\n",
       "      <th></th>\n",
       "      <th></th>\n",
       "      <th></th>\n",
       "      <th></th>\n",
       "      <th></th>\n",
       "      <th></th>\n",
       "      <th></th>\n",
       "      <th></th>\n",
       "      <th></th>\n",
       "      <th></th>\n",
       "      <th></th>\n",
       "      <th></th>\n",
       "    </tr>\n",
       "  </thead>\n",
       "  <tbody>\n",
       "    <tr>\n",
       "      <th>2017-06-11T05:34:06.396</th>\n",
       "      <td>139</td>\n",
       "      <td>778</td>\n",
       "      <td>13,5</td>\n",
       "      <td>23</td>\n",
       "      <td>1,874</td>\n",
       "      <td>0,712</td>\n",
       "      <td>30</td>\n",
       "      <td>HD185975</td>\n",
       "      <td>RG715</td>\n",
       "      <td>Thor300</td>\n",
       "      <td>12450</td>\n",
       "      <td>17,4</td>\n",
       "      <td>data_10jun17</td>\n",
       "      <td>reduc_20170610_139.fits</td>\n",
       "    </tr>\n",
       "    <tr>\n",
       "      <th>2017-06-11T05:35:28.909</th>\n",
       "      <td>140</td>\n",
       "      <td>778</td>\n",
       "      <td>13,5</td>\n",
       "      <td>23</td>\n",
       "      <td>1,873</td>\n",
       "      <td>0,62</td>\n",
       "      <td>30</td>\n",
       "      <td>HD185975</td>\n",
       "      <td>RG715</td>\n",
       "      <td>HoloPhP</td>\n",
       "      <td>12450</td>\n",
       "      <td>13,2</td>\n",
       "      <td>data_10jun17</td>\n",
       "      <td>reduc_20170610_140.fits</td>\n",
       "    </tr>\n",
       "    <tr>\n",
       "      <th>2017-06-11T05:36:54.407</th>\n",
       "      <td>141</td>\n",
       "      <td>778</td>\n",
       "      <td>13,6</td>\n",
       "      <td>22</td>\n",
       "      <td>1,873</td>\n",
       "      <td>0,639</td>\n",
       "      <td>60</td>\n",
       "      <td>HD185975</td>\n",
       "      <td>RG715</td>\n",
       "      <td>HoloPhAg</td>\n",
       "      <td>12450</td>\n",
       "      <td>15,2</td>\n",
       "      <td>data_10jun17</td>\n",
       "      <td>reduc_20170610_141.fits</td>\n",
       "    </tr>\n",
       "    <tr>\n",
       "      <th>2017-06-11T05:38:47.099</th>\n",
       "      <td>142</td>\n",
       "      <td>778</td>\n",
       "      <td>13,6</td>\n",
       "      <td>22</td>\n",
       "      <td>1,873</td>\n",
       "      <td>0,747</td>\n",
       "      <td>60</td>\n",
       "      <td>HD185975</td>\n",
       "      <td>RG715</td>\n",
       "      <td>HoloAmAg</td>\n",
       "      <td>12450</td>\n",
       "      <td>16,4</td>\n",
       "      <td>data_10jun17</td>\n",
       "      <td>reduc_20170610_142.fits</td>\n",
       "    </tr>\n",
       "    <tr>\n",
       "      <th>2017-06-11T05:41:15.751</th>\n",
       "      <td>143</td>\n",
       "      <td>778</td>\n",
       "      <td>13,4</td>\n",
       "      <td>22</td>\n",
       "      <td>1,393</td>\n",
       "      <td>0,717</td>\n",
       "      <td>30</td>\n",
       "      <td>HD205905</td>\n",
       "      <td>RG715</td>\n",
       "      <td>Thor300</td>\n",
       "      <td>12450</td>\n",
       "      <td>13,1</td>\n",
       "      <td>data_10jun17</td>\n",
       "      <td>reduc_20170610_143.fits</td>\n",
       "    </tr>\n",
       "    <tr>\n",
       "      <th>2017-06-11T05:42:38.303</th>\n",
       "      <td>144</td>\n",
       "      <td>778</td>\n",
       "      <td>13,4</td>\n",
       "      <td>23</td>\n",
       "      <td>1,387</td>\n",
       "      <td>0,717</td>\n",
       "      <td>30</td>\n",
       "      <td>HD205905</td>\n",
       "      <td>RG715</td>\n",
       "      <td>HoloPhP</td>\n",
       "      <td>12450</td>\n",
       "      <td>15</td>\n",
       "      <td>data_10jun17</td>\n",
       "      <td>reduc_20170610_144.fits</td>\n",
       "    </tr>\n",
       "    <tr>\n",
       "      <th>2017-06-11T05:44:02.998</th>\n",
       "      <td>145</td>\n",
       "      <td>778</td>\n",
       "      <td>13,5</td>\n",
       "      <td>22</td>\n",
       "      <td>1,38</td>\n",
       "      <td>0,81</td>\n",
       "      <td>60</td>\n",
       "      <td>HD205905</td>\n",
       "      <td>RG715</td>\n",
       "      <td>HoloPhAg</td>\n",
       "      <td>12450</td>\n",
       "      <td>15,1</td>\n",
       "      <td>data_10jun17</td>\n",
       "      <td>reduc_20170610_145.fits</td>\n",
       "    </tr>\n",
       "    <tr>\n",
       "      <th>2017-06-11T05:45:55.408</th>\n",
       "      <td>146</td>\n",
       "      <td>778</td>\n",
       "      <td>13,5</td>\n",
       "      <td>22</td>\n",
       "      <td>1,371</td>\n",
       "      <td>0,708</td>\n",
       "      <td>60</td>\n",
       "      <td>HD205905</td>\n",
       "      <td>RG715</td>\n",
       "      <td>HoloAmAg</td>\n",
       "      <td>12450</td>\n",
       "      <td>14,1</td>\n",
       "      <td>data_10jun17</td>\n",
       "      <td>reduc_20170610_146.fits</td>\n",
       "    </tr>\n",
       "    <tr>\n",
       "      <th>2017-06-11T05:55:26.453</th>\n",
       "      <td>151</td>\n",
       "      <td>779</td>\n",
       "      <td>13,2</td>\n",
       "      <td>23</td>\n",
       "      <td>1,867</td>\n",
       "      <td>0,818</td>\n",
       "      <td>30</td>\n",
       "      <td>HD185975</td>\n",
       "      <td>RG715</td>\n",
       "      <td>Thor300</td>\n",
       "      <td>12450</td>\n",
       "      <td>15,4</td>\n",
       "      <td>data_10jun17</td>\n",
       "      <td>reduc_20170610_151.fits</td>\n",
       "    </tr>\n",
       "    <tr>\n",
       "      <th>2017-06-11T05:56:49.004</th>\n",
       "      <td>152</td>\n",
       "      <td>778</td>\n",
       "      <td>13,1</td>\n",
       "      <td>23</td>\n",
       "      <td>1,867</td>\n",
       "      <td>0,73</td>\n",
       "      <td>30</td>\n",
       "      <td>HD185975</td>\n",
       "      <td>RG715</td>\n",
       "      <td>HoloPhP</td>\n",
       "      <td>12450</td>\n",
       "      <td>14</td>\n",
       "      <td>data_10jun17</td>\n",
       "      <td>reduc_20170610_152.fits</td>\n",
       "    </tr>\n",
       "    <tr>\n",
       "      <th>2017-06-11T05:58:15.202</th>\n",
       "      <td>153</td>\n",
       "      <td>778</td>\n",
       "      <td>13,2</td>\n",
       "      <td>23</td>\n",
       "      <td>1,867</td>\n",
       "      <td>0,769</td>\n",
       "      <td>60</td>\n",
       "      <td>HD185975</td>\n",
       "      <td>RG715</td>\n",
       "      <td>HoloPhAg</td>\n",
       "      <td>12450</td>\n",
       "      <td>15</td>\n",
       "      <td>data_10jun17</td>\n",
       "      <td>reduc_20170610_153.fits</td>\n",
       "    </tr>\n",
       "    <tr>\n",
       "      <th>2017-06-11T06:00:07.706</th>\n",
       "      <td>154</td>\n",
       "      <td>778</td>\n",
       "      <td>13,2</td>\n",
       "      <td>23</td>\n",
       "      <td>1,866</td>\n",
       "      <td>0,787</td>\n",
       "      <td>60</td>\n",
       "      <td>HD185975</td>\n",
       "      <td>RG715</td>\n",
       "      <td>HoloAmAg</td>\n",
       "      <td>12450</td>\n",
       "      <td>21</td>\n",
       "      <td>data_10jun17</td>\n",
       "      <td>reduc_20170610_154.fits</td>\n",
       "    </tr>\n",
       "    <tr>\n",
       "      <th>2017-06-11T06:02:35.548</th>\n",
       "      <td>155</td>\n",
       "      <td>778</td>\n",
       "      <td>13,3</td>\n",
       "      <td>23</td>\n",
       "      <td>1,297</td>\n",
       "      <td>0,668</td>\n",
       "      <td>30</td>\n",
       "      <td>HD205905</td>\n",
       "      <td>RG715</td>\n",
       "      <td>Thor300</td>\n",
       "      <td>12450</td>\n",
       "      <td>15</td>\n",
       "      <td>data_10jun17</td>\n",
       "      <td>reduc_20170610_155.fits</td>\n",
       "    </tr>\n",
       "    <tr>\n",
       "      <th>2017-06-11T06:03:58.102</th>\n",
       "      <td>156</td>\n",
       "      <td>778</td>\n",
       "      <td>13,2</td>\n",
       "      <td>23</td>\n",
       "      <td>1,292</td>\n",
       "      <td>0,768</td>\n",
       "      <td>30</td>\n",
       "      <td>HD205905</td>\n",
       "      <td>RG715</td>\n",
       "      <td>HoloPhP</td>\n",
       "      <td>12450</td>\n",
       "      <td>20,6</td>\n",
       "      <td>data_10jun17</td>\n",
       "      <td>reduc_20170610_156.fits</td>\n",
       "    </tr>\n",
       "    <tr>\n",
       "      <th>2017-06-11T06:05:23.553</th>\n",
       "      <td>157</td>\n",
       "      <td>778</td>\n",
       "      <td>13</td>\n",
       "      <td>23</td>\n",
       "      <td>1,286</td>\n",
       "      <td>0,698</td>\n",
       "      <td>60</td>\n",
       "      <td>HD205905</td>\n",
       "      <td>RG715</td>\n",
       "      <td>HoloPhAg</td>\n",
       "      <td>12450</td>\n",
       "      <td>19,3</td>\n",
       "      <td>data_10jun17</td>\n",
       "      <td>reduc_20170610_157.fits</td>\n",
       "    </tr>\n",
       "    <tr>\n",
       "      <th>2017-06-11T06:07:16.094</th>\n",
       "      <td>158</td>\n",
       "      <td>778</td>\n",
       "      <td>12,9</td>\n",
       "      <td>23</td>\n",
       "      <td>1,279</td>\n",
       "      <td>0,827</td>\n",
       "      <td>60</td>\n",
       "      <td>HD205905</td>\n",
       "      <td>RG715</td>\n",
       "      <td>HoloAmAg</td>\n",
       "      <td>12450</td>\n",
       "      <td>21,8</td>\n",
       "      <td>data_10jun17</td>\n",
       "      <td>reduc_20170610_158.fits</td>\n",
       "    </tr>\n",
       "    <tr>\n",
       "      <th>2017-06-11T06:16:46.545</th>\n",
       "      <td>163</td>\n",
       "      <td>778</td>\n",
       "      <td>12,7</td>\n",
       "      <td>24</td>\n",
       "      <td>1,861</td>\n",
       "      <td>1,214</td>\n",
       "      <td>30</td>\n",
       "      <td>HD185975</td>\n",
       "      <td>RG715</td>\n",
       "      <td>Thor300</td>\n",
       "      <td>12450</td>\n",
       "      <td>21,8</td>\n",
       "      <td>data_10jun17</td>\n",
       "      <td>reduc_20170610_163.fits</td>\n",
       "    </tr>\n",
       "    <tr>\n",
       "      <th>2017-06-11T06:18:09.005</th>\n",
       "      <td>164</td>\n",
       "      <td>778</td>\n",
       "      <td>12,5</td>\n",
       "      <td>24</td>\n",
       "      <td>1,861</td>\n",
       "      <td>1,14</td>\n",
       "      <td>30</td>\n",
       "      <td>HD185975</td>\n",
       "      <td>RG715</td>\n",
       "      <td>HoloPhP</td>\n",
       "      <td>12450</td>\n",
       "      <td>21,3</td>\n",
       "      <td>data_10jun17</td>\n",
       "      <td>reduc_20170610_164.fits</td>\n",
       "    </tr>\n",
       "    <tr>\n",
       "      <th>2017-06-11T06:19:35.099</th>\n",
       "      <td>165</td>\n",
       "      <td>778</td>\n",
       "      <td>12,5</td>\n",
       "      <td>24</td>\n",
       "      <td>1,861</td>\n",
       "      <td>1,028</td>\n",
       "      <td>60</td>\n",
       "      <td>HD185975</td>\n",
       "      <td>RG715</td>\n",
       "      <td>HoloPhAg</td>\n",
       "      <td>12450</td>\n",
       "      <td>20,1</td>\n",
       "      <td>data_10jun17</td>\n",
       "      <td>reduc_20170610_165.fits</td>\n",
       "    </tr>\n",
       "    <tr>\n",
       "      <th>2017-06-11T06:21:27.606</th>\n",
       "      <td>166</td>\n",
       "      <td>778</td>\n",
       "      <td>12,5</td>\n",
       "      <td>24</td>\n",
       "      <td>1,861</td>\n",
       "      <td>0,895</td>\n",
       "      <td>60</td>\n",
       "      <td>HD185975</td>\n",
       "      <td>RG715</td>\n",
       "      <td>HoloAmAg</td>\n",
       "      <td>12450</td>\n",
       "      <td>23,8</td>\n",
       "      <td>data_10jun17</td>\n",
       "      <td>reduc_20170610_166.fits</td>\n",
       "    </tr>\n",
       "    <tr>\n",
       "      <th>2017-06-11T06:23:55.552</th>\n",
       "      <td>167</td>\n",
       "      <td>778</td>\n",
       "      <td>12,8</td>\n",
       "      <td>24</td>\n",
       "      <td>1,221</td>\n",
       "      <td>1,129</td>\n",
       "      <td>30</td>\n",
       "      <td>HD205905</td>\n",
       "      <td>RG715</td>\n",
       "      <td>Thor300</td>\n",
       "      <td>12450</td>\n",
       "      <td>22,6</td>\n",
       "      <td>data_10jun17</td>\n",
       "      <td>reduc_20170610_167.fits</td>\n",
       "    </tr>\n",
       "    <tr>\n",
       "      <th>2017-06-11T06:25:18.061</th>\n",
       "      <td>168</td>\n",
       "      <td>778</td>\n",
       "      <td>12,7</td>\n",
       "      <td>24</td>\n",
       "      <td>1,216</td>\n",
       "      <td>1,262</td>\n",
       "      <td>30</td>\n",
       "      <td>HD205905</td>\n",
       "      <td>RG715</td>\n",
       "      <td>HoloPhP</td>\n",
       "      <td>12450</td>\n",
       "      <td>19,2</td>\n",
       "      <td>data_10jun17</td>\n",
       "      <td>reduc_20170610_168.fits</td>\n",
       "    </tr>\n",
       "    <tr>\n",
       "      <th>2017-06-11T06:26:42.959</th>\n",
       "      <td>169</td>\n",
       "      <td>778</td>\n",
       "      <td>12,7</td>\n",
       "      <td>24</td>\n",
       "      <td>1,212</td>\n",
       "      <td>1,176</td>\n",
       "      <td>60</td>\n",
       "      <td>HD205905</td>\n",
       "      <td>RG715</td>\n",
       "      <td>HoloPhAg</td>\n",
       "      <td>12450</td>\n",
       "      <td>20,2</td>\n",
       "      <td>data_10jun17</td>\n",
       "      <td>reduc_20170610_169.fits</td>\n",
       "    </tr>\n",
       "    <tr>\n",
       "      <th>2017-06-11T06:28:36.351</th>\n",
       "      <td>170</td>\n",
       "      <td>778</td>\n",
       "      <td>12,7</td>\n",
       "      <td>24</td>\n",
       "      <td>1,206</td>\n",
       "      <td>1,134</td>\n",
       "      <td>60</td>\n",
       "      <td>HD205905</td>\n",
       "      <td>RG715</td>\n",
       "      <td>HoloAmAg</td>\n",
       "      <td>12450</td>\n",
       "      <td>21,7</td>\n",
       "      <td>data_10jun17</td>\n",
       "      <td>reduc_20170610_170.fits</td>\n",
       "    </tr>\n",
       "    <tr>\n",
       "      <th>2017-06-11T06:38:07.297</th>\n",
       "      <td>175</td>\n",
       "      <td>778</td>\n",
       "      <td>13</td>\n",
       "      <td>23</td>\n",
       "      <td>1,857</td>\n",
       "      <td>0,805</td>\n",
       "      <td>30</td>\n",
       "      <td>HD185975</td>\n",
       "      <td>RG715</td>\n",
       "      <td>Thor300</td>\n",
       "      <td>12450</td>\n",
       "      <td>14,3</td>\n",
       "      <td>data_10jun17</td>\n",
       "      <td>reduc_20170610_175.fits</td>\n",
       "    </tr>\n",
       "    <tr>\n",
       "      <th>2017-06-11T06:39:29.807</th>\n",
       "      <td>176</td>\n",
       "      <td>778</td>\n",
       "      <td>12,9</td>\n",
       "      <td>23</td>\n",
       "      <td>1,856</td>\n",
       "      <td>0,954</td>\n",
       "      <td>30</td>\n",
       "      <td>HD185975</td>\n",
       "      <td>RG715</td>\n",
       "      <td>HoloPhP</td>\n",
       "      <td>12450</td>\n",
       "      <td>15</td>\n",
       "      <td>data_10jun17</td>\n",
       "      <td>reduc_20170610_176.fits</td>\n",
       "    </tr>\n",
       "    <tr>\n",
       "      <th>2017-06-11T06:40:54.504</th>\n",
       "      <td>177</td>\n",
       "      <td>778</td>\n",
       "      <td>12,7</td>\n",
       "      <td>23</td>\n",
       "      <td>1,857</td>\n",
       "      <td>1,179</td>\n",
       "      <td>60</td>\n",
       "      <td>HD185975</td>\n",
       "      <td>RG715</td>\n",
       "      <td>HoloPhAg</td>\n",
       "      <td>12450</td>\n",
       "      <td>11,1</td>\n",
       "      <td>data_10jun17</td>\n",
       "      <td>reduc_20170610_177.fits</td>\n",
       "    </tr>\n",
       "    <tr>\n",
       "      <th>2017-06-11T06:42:47.746</th>\n",
       "      <td>178</td>\n",
       "      <td>778</td>\n",
       "      <td>12,8</td>\n",
       "      <td>23</td>\n",
       "      <td>1,856</td>\n",
       "      <td>0,845</td>\n",
       "      <td>60</td>\n",
       "      <td>HD185975</td>\n",
       "      <td>RG715</td>\n",
       "      <td>HoloAmAg</td>\n",
       "      <td>12450</td>\n",
       "      <td>11,2</td>\n",
       "      <td>data_10jun17</td>\n",
       "      <td>reduc_20170610_178.fits</td>\n",
       "    </tr>\n",
       "    <tr>\n",
       "      <th>2017-06-11T06:45:17.194</th>\n",
       "      <td>179</td>\n",
       "      <td>778</td>\n",
       "      <td>12,7</td>\n",
       "      <td>23</td>\n",
       "      <td>1,159</td>\n",
       "      <td>0,87</td>\n",
       "      <td>30</td>\n",
       "      <td>HD205905</td>\n",
       "      <td>RG715</td>\n",
       "      <td>Thor300</td>\n",
       "      <td>12450</td>\n",
       "      <td>12,3</td>\n",
       "      <td>data_10jun17</td>\n",
       "      <td>reduc_20170610_179.fits</td>\n",
       "    </tr>\n",
       "    <tr>\n",
       "      <th>2017-06-11T06:46:39.696</th>\n",
       "      <td>180</td>\n",
       "      <td>778</td>\n",
       "      <td>12,9</td>\n",
       "      <td>23</td>\n",
       "      <td>1,156</td>\n",
       "      <td>0,753</td>\n",
       "      <td>30</td>\n",
       "      <td>HD205905</td>\n",
       "      <td>RG715</td>\n",
       "      <td>HoloPhP</td>\n",
       "      <td>12450</td>\n",
       "      <td>16,2</td>\n",
       "      <td>data_10jun17</td>\n",
       "      <td>reduc_20170610_180.fits</td>\n",
       "    </tr>\n",
       "    <tr>\n",
       "      <th>...</th>\n",
       "      <td>...</td>\n",
       "      <td>...</td>\n",
       "      <td>...</td>\n",
       "      <td>...</td>\n",
       "      <td>...</td>\n",
       "      <td>...</td>\n",
       "      <td>...</td>\n",
       "      <td>...</td>\n",
       "      <td>...</td>\n",
       "      <td>...</td>\n",
       "      <td>...</td>\n",
       "      <td>...</td>\n",
       "      <td>...</td>\n",
       "      <td>...</td>\n",
       "    </tr>\n",
       "    <tr>\n",
       "      <th>2017-06-11T09:10:15.854</th>\n",
       "      <td>261</td>\n",
       "      <td>778</td>\n",
       "      <td>12</td>\n",
       "      <td>23</td>\n",
       "      <td>1,856</td>\n",
       "      <td>0,753</td>\n",
       "      <td>60</td>\n",
       "      <td>HD185975</td>\n",
       "      <td>RG715</td>\n",
       "      <td>HoloPhAg</td>\n",
       "      <td>12450</td>\n",
       "      <td>16,4</td>\n",
       "      <td>data_10jun17</td>\n",
       "      <td>reduc_20170610_261.fits</td>\n",
       "    </tr>\n",
       "    <tr>\n",
       "      <th>2017-06-11T09:12:09.158</th>\n",
       "      <td>262</td>\n",
       "      <td>778</td>\n",
       "      <td>12,1</td>\n",
       "      <td>23</td>\n",
       "      <td>1,856</td>\n",
       "      <td>0,753</td>\n",
       "      <td>60</td>\n",
       "      <td>HD185975</td>\n",
       "      <td>RG715</td>\n",
       "      <td>HoloAmAg</td>\n",
       "      <td>12450</td>\n",
       "      <td>16,9</td>\n",
       "      <td>data_10jun17</td>\n",
       "      <td>reduc_20170610_262.fits</td>\n",
       "    </tr>\n",
       "    <tr>\n",
       "      <th>2017-06-11T09:14:36.402</th>\n",
       "      <td>263</td>\n",
       "      <td>778</td>\n",
       "      <td>12,1</td>\n",
       "      <td>23</td>\n",
       "      <td>1,002</td>\n",
       "      <td>0,753</td>\n",
       "      <td>30</td>\n",
       "      <td>HD205905</td>\n",
       "      <td>RG715</td>\n",
       "      <td>Thor300</td>\n",
       "      <td>12450</td>\n",
       "      <td>21,8</td>\n",
       "      <td>data_10jun17</td>\n",
       "      <td>reduc_20170610_263.fits</td>\n",
       "    </tr>\n",
       "    <tr>\n",
       "      <th>2017-06-11T09:15:58.905</th>\n",
       "      <td>264</td>\n",
       "      <td>778</td>\n",
       "      <td>12,2</td>\n",
       "      <td>27</td>\n",
       "      <td>1,002</td>\n",
       "      <td>0,753</td>\n",
       "      <td>30</td>\n",
       "      <td>HD205905</td>\n",
       "      <td>RG715</td>\n",
       "      <td>HoloPhP</td>\n",
       "      <td>12450</td>\n",
       "      <td>16,1</td>\n",
       "      <td>data_10jun17</td>\n",
       "      <td>reduc_20170610_264.fits</td>\n",
       "    </tr>\n",
       "    <tr>\n",
       "      <th>2017-06-11T09:17:23.606</th>\n",
       "      <td>265</td>\n",
       "      <td>778</td>\n",
       "      <td>12,1</td>\n",
       "      <td>23</td>\n",
       "      <td>1,003</td>\n",
       "      <td>0,753</td>\n",
       "      <td>60</td>\n",
       "      <td>HD205905</td>\n",
       "      <td>RG715</td>\n",
       "      <td>HoloPhAg</td>\n",
       "      <td>12450</td>\n",
       "      <td>18,2</td>\n",
       "      <td>data_10jun17</td>\n",
       "      <td>reduc_20170610_265.fits</td>\n",
       "    </tr>\n",
       "    <tr>\n",
       "      <th>2017-06-11T09:19:16.099</th>\n",
       "      <td>266</td>\n",
       "      <td>778</td>\n",
       "      <td>12</td>\n",
       "      <td>23</td>\n",
       "      <td>1,003</td>\n",
       "      <td>0,753</td>\n",
       "      <td>60</td>\n",
       "      <td>HD205905</td>\n",
       "      <td>RG715</td>\n",
       "      <td>HoloAmAg</td>\n",
       "      <td>12450</td>\n",
       "      <td>17,7</td>\n",
       "      <td>data_10jun17</td>\n",
       "      <td>reduc_20170610_266.fits</td>\n",
       "    </tr>\n",
       "    <tr>\n",
       "      <th>2017-06-11T09:28:45.699</th>\n",
       "      <td>271</td>\n",
       "      <td>778</td>\n",
       "      <td>11,8</td>\n",
       "      <td>24</td>\n",
       "      <td>1,859</td>\n",
       "      <td>0,753</td>\n",
       "      <td>30</td>\n",
       "      <td>HD185975</td>\n",
       "      <td>RG715</td>\n",
       "      <td>Thor300</td>\n",
       "      <td>12450</td>\n",
       "      <td>16,1</td>\n",
       "      <td>data_10jun17</td>\n",
       "      <td>reduc_20170610_271.fits</td>\n",
       "    </tr>\n",
       "    <tr>\n",
       "      <th>2017-06-11T09:30:08.195</th>\n",
       "      <td>272</td>\n",
       "      <td>778</td>\n",
       "      <td>11,8</td>\n",
       "      <td>24</td>\n",
       "      <td>1,86</td>\n",
       "      <td>0,753</td>\n",
       "      <td>30</td>\n",
       "      <td>HD185975</td>\n",
       "      <td>RG715</td>\n",
       "      <td>HoloPhP</td>\n",
       "      <td>12450</td>\n",
       "      <td>18,3</td>\n",
       "      <td>data_10jun17</td>\n",
       "      <td>reduc_20170610_272.fits</td>\n",
       "    </tr>\n",
       "    <tr>\n",
       "      <th>2017-06-11T09:31:33.652</th>\n",
       "      <td>273</td>\n",
       "      <td>778</td>\n",
       "      <td>11,8</td>\n",
       "      <td>24</td>\n",
       "      <td>1,86</td>\n",
       "      <td>0,753</td>\n",
       "      <td>60</td>\n",
       "      <td>HD185975</td>\n",
       "      <td>RG715</td>\n",
       "      <td>HoloPhAg</td>\n",
       "      <td>12450</td>\n",
       "      <td>22,5</td>\n",
       "      <td>data_10jun17</td>\n",
       "      <td>reduc_20170610_273.fits</td>\n",
       "    </tr>\n",
       "    <tr>\n",
       "      <th>2017-06-11T09:33:26.102</th>\n",
       "      <td>274</td>\n",
       "      <td>778</td>\n",
       "      <td>11,7</td>\n",
       "      <td>24</td>\n",
       "      <td>1,86</td>\n",
       "      <td>0,753</td>\n",
       "      <td>60</td>\n",
       "      <td>HD185975</td>\n",
       "      <td>RG715</td>\n",
       "      <td>HoloAmAg</td>\n",
       "      <td>12450</td>\n",
       "      <td>16,2</td>\n",
       "      <td>data_10jun17</td>\n",
       "      <td>reduc_20170610_274.fits</td>\n",
       "    </tr>\n",
       "    <tr>\n",
       "      <th>2017-06-11T09:35:53.956</th>\n",
       "      <td>275</td>\n",
       "      <td>778</td>\n",
       "      <td>11,7</td>\n",
       "      <td>24</td>\n",
       "      <td>1,009</td>\n",
       "      <td>0,753</td>\n",
       "      <td>30</td>\n",
       "      <td>HD205905</td>\n",
       "      <td>RG715</td>\n",
       "      <td>Thor300</td>\n",
       "      <td>12450</td>\n",
       "      <td>19,5</td>\n",
       "      <td>data_10jun17</td>\n",
       "      <td>reduc_20170610_275.fits</td>\n",
       "    </tr>\n",
       "    <tr>\n",
       "      <th>2017-06-11T09:37:16.296</th>\n",
       "      <td>276</td>\n",
       "      <td>778</td>\n",
       "      <td>11,8</td>\n",
       "      <td>24</td>\n",
       "      <td>1,01</td>\n",
       "      <td>0,753</td>\n",
       "      <td>30</td>\n",
       "      <td>HD205905</td>\n",
       "      <td>RG715</td>\n",
       "      <td>HoloPhP</td>\n",
       "      <td>12450</td>\n",
       "      <td>18,2</td>\n",
       "      <td>data_10jun17</td>\n",
       "      <td>reduc_20170610_276.fits</td>\n",
       "    </tr>\n",
       "    <tr>\n",
       "      <th>2017-06-11T09:38:41.107</th>\n",
       "      <td>277</td>\n",
       "      <td>778</td>\n",
       "      <td>11,7</td>\n",
       "      <td>24</td>\n",
       "      <td>1,01</td>\n",
       "      <td>0,753</td>\n",
       "      <td>60</td>\n",
       "      <td>HD205905</td>\n",
       "      <td>RG715</td>\n",
       "      <td>HoloPhAg</td>\n",
       "      <td>12450</td>\n",
       "      <td>19</td>\n",
       "      <td>data_10jun17</td>\n",
       "      <td>reduc_20170610_277.fits</td>\n",
       "    </tr>\n",
       "    <tr>\n",
       "      <th>2017-06-11T09:40:33.605</th>\n",
       "      <td>278</td>\n",
       "      <td>778</td>\n",
       "      <td>11,7</td>\n",
       "      <td>24</td>\n",
       "      <td>1,011</td>\n",
       "      <td>0,753</td>\n",
       "      <td>60</td>\n",
       "      <td>HD205905</td>\n",
       "      <td>RG715</td>\n",
       "      <td>HoloAmAg</td>\n",
       "      <td>12450</td>\n",
       "      <td>18,7</td>\n",
       "      <td>data_10jun17</td>\n",
       "      <td>reduc_20170610_278.fits</td>\n",
       "    </tr>\n",
       "    <tr>\n",
       "      <th>2017-06-11T09:50:04.755</th>\n",
       "      <td>283</td>\n",
       "      <td>778</td>\n",
       "      <td>11,7</td>\n",
       "      <td>24</td>\n",
       "      <td>1,864</td>\n",
       "      <td>0,753</td>\n",
       "      <td>30</td>\n",
       "      <td>HD185975</td>\n",
       "      <td>RG715</td>\n",
       "      <td>Thor300</td>\n",
       "      <td>12450</td>\n",
       "      <td>16,2</td>\n",
       "      <td>data_10jun17</td>\n",
       "      <td>reduc_20170610_283.fits</td>\n",
       "    </tr>\n",
       "    <tr>\n",
       "      <th>2017-06-11T09:51:27.200</th>\n",
       "      <td>284</td>\n",
       "      <td>778</td>\n",
       "      <td>11,8</td>\n",
       "      <td>24</td>\n",
       "      <td>1,865</td>\n",
       "      <td>0,753</td>\n",
       "      <td>30</td>\n",
       "      <td>HD185975</td>\n",
       "      <td>RG715</td>\n",
       "      <td>HoloPhP</td>\n",
       "      <td>12450</td>\n",
       "      <td>14,2</td>\n",
       "      <td>data_10jun17</td>\n",
       "      <td>reduc_20170610_284.fits</td>\n",
       "    </tr>\n",
       "    <tr>\n",
       "      <th>2017-06-11T09:52:52.652</th>\n",
       "      <td>285</td>\n",
       "      <td>778</td>\n",
       "      <td>11,7</td>\n",
       "      <td>24</td>\n",
       "      <td>1,865</td>\n",
       "      <td>0,753</td>\n",
       "      <td>60</td>\n",
       "      <td>HD185975</td>\n",
       "      <td>RG715</td>\n",
       "      <td>HoloPhAg</td>\n",
       "      <td>12450</td>\n",
       "      <td>15,7</td>\n",
       "      <td>data_10jun17</td>\n",
       "      <td>reduc_20170610_285.fits</td>\n",
       "    </tr>\n",
       "    <tr>\n",
       "      <th>2017-06-11T09:54:45.203</th>\n",
       "      <td>286</td>\n",
       "      <td>778</td>\n",
       "      <td>11,7</td>\n",
       "      <td>24</td>\n",
       "      <td>1,866</td>\n",
       "      <td>0,753</td>\n",
       "      <td>60</td>\n",
       "      <td>HD185975</td>\n",
       "      <td>RG715</td>\n",
       "      <td>HoloAmAg</td>\n",
       "      <td>12450</td>\n",
       "      <td>15,9</td>\n",
       "      <td>data_10jun17</td>\n",
       "      <td>reduc_20170610_286.fits</td>\n",
       "    </tr>\n",
       "    <tr>\n",
       "      <th>2017-06-11T09:57:13.846</th>\n",
       "      <td>287</td>\n",
       "      <td>778</td>\n",
       "      <td>11,7</td>\n",
       "      <td>24</td>\n",
       "      <td>1,023</td>\n",
       "      <td>0,753</td>\n",
       "      <td>30</td>\n",
       "      <td>HD205905</td>\n",
       "      <td>RG715</td>\n",
       "      <td>Thor300</td>\n",
       "      <td>12450</td>\n",
       "      <td>11,5</td>\n",
       "      <td>data_10jun17</td>\n",
       "      <td>reduc_20170610_287.fits</td>\n",
       "    </tr>\n",
       "    <tr>\n",
       "      <th>2017-06-11T09:58:36.350</th>\n",
       "      <td>288</td>\n",
       "      <td>778</td>\n",
       "      <td>11,8</td>\n",
       "      <td>24</td>\n",
       "      <td>1,024</td>\n",
       "      <td>0,753</td>\n",
       "      <td>30</td>\n",
       "      <td>HD205905</td>\n",
       "      <td>RG715</td>\n",
       "      <td>HoloPhP</td>\n",
       "      <td>12450</td>\n",
       "      <td>12,6</td>\n",
       "      <td>data_10jun17</td>\n",
       "      <td>reduc_20170610_288.fits</td>\n",
       "    </tr>\n",
       "    <tr>\n",
       "      <th>2017-06-11T10:00:01.644</th>\n",
       "      <td>289</td>\n",
       "      <td>778</td>\n",
       "      <td>11,8</td>\n",
       "      <td>24</td>\n",
       "      <td>1,025</td>\n",
       "      <td>0,753</td>\n",
       "      <td>60</td>\n",
       "      <td>HD205905</td>\n",
       "      <td>RG715</td>\n",
       "      <td>HoloPhAg</td>\n",
       "      <td>12450</td>\n",
       "      <td>12,8</td>\n",
       "      <td>data_10jun17</td>\n",
       "      <td>reduc_20170610_289.fits</td>\n",
       "    </tr>\n",
       "    <tr>\n",
       "      <th>2017-06-11T10:01:54.107</th>\n",
       "      <td>290</td>\n",
       "      <td>778</td>\n",
       "      <td>11,8</td>\n",
       "      <td>24</td>\n",
       "      <td>1,027</td>\n",
       "      <td>0,753</td>\n",
       "      <td>60</td>\n",
       "      <td>HD205905</td>\n",
       "      <td>RG715</td>\n",
       "      <td>HoloAmAg</td>\n",
       "      <td>12450</td>\n",
       "      <td>11,2</td>\n",
       "      <td>data_10jun17</td>\n",
       "      <td>reduc_20170610_290.fits</td>\n",
       "    </tr>\n",
       "    <tr>\n",
       "      <th>2017-06-11T10:11:24.353</th>\n",
       "      <td>295</td>\n",
       "      <td>778</td>\n",
       "      <td>11,9</td>\n",
       "      <td>0</td>\n",
       "      <td>1,871</td>\n",
       "      <td>0,753</td>\n",
       "      <td>30</td>\n",
       "      <td>HD185975</td>\n",
       "      <td>RG715</td>\n",
       "      <td>Thor300</td>\n",
       "      <td>12450</td>\n",
       "      <td>12,2</td>\n",
       "      <td>data_10jun17</td>\n",
       "      <td>reduc_20170610_295.fits</td>\n",
       "    </tr>\n",
       "    <tr>\n",
       "      <th>2017-06-11T10:12:46.895</th>\n",
       "      <td>296</td>\n",
       "      <td>778</td>\n",
       "      <td>12</td>\n",
       "      <td>24</td>\n",
       "      <td>1,871</td>\n",
       "      <td>0,753</td>\n",
       "      <td>30</td>\n",
       "      <td>HD185975</td>\n",
       "      <td>RG715</td>\n",
       "      <td>HoloPhP</td>\n",
       "      <td>12450</td>\n",
       "      <td>14,1</td>\n",
       "      <td>data_10jun17</td>\n",
       "      <td>reduc_20170610_296.fits</td>\n",
       "    </tr>\n",
       "    <tr>\n",
       "      <th>2017-06-11T10:14:13.104</th>\n",
       "      <td>297</td>\n",
       "      <td>778</td>\n",
       "      <td>12,1</td>\n",
       "      <td>24</td>\n",
       "      <td>1,872</td>\n",
       "      <td>0,753</td>\n",
       "      <td>60</td>\n",
       "      <td>HD185975</td>\n",
       "      <td>RG715</td>\n",
       "      <td>HoloPhAg</td>\n",
       "      <td>12450</td>\n",
       "      <td>14</td>\n",
       "      <td>data_10jun17</td>\n",
       "      <td>reduc_20170610_297.fits</td>\n",
       "    </tr>\n",
       "    <tr>\n",
       "      <th>2017-06-11T10:16:05.606</th>\n",
       "      <td>298</td>\n",
       "      <td>778</td>\n",
       "      <td>11,9</td>\n",
       "      <td>24</td>\n",
       "      <td>1,872</td>\n",
       "      <td>0,753</td>\n",
       "      <td>60</td>\n",
       "      <td>HD185975</td>\n",
       "      <td>RG715</td>\n",
       "      <td>HoloAmAg</td>\n",
       "      <td>12450</td>\n",
       "      <td>15</td>\n",
       "      <td>data_10jun17</td>\n",
       "      <td>reduc_20170610_298.fits</td>\n",
       "    </tr>\n",
       "    <tr>\n",
       "      <th>2017-06-11T10:18:34.256</th>\n",
       "      <td>299</td>\n",
       "      <td>778</td>\n",
       "      <td>12</td>\n",
       "      <td>23</td>\n",
       "      <td>1,044</td>\n",
       "      <td>0,753</td>\n",
       "      <td>30</td>\n",
       "      <td>HD205905</td>\n",
       "      <td>RG715</td>\n",
       "      <td>Thor300</td>\n",
       "      <td>12450</td>\n",
       "      <td>15,1</td>\n",
       "      <td>data_10jun17</td>\n",
       "      <td>reduc_20170610_299.fits</td>\n",
       "    </tr>\n",
       "    <tr>\n",
       "      <th>2017-06-11T10:19:56.704</th>\n",
       "      <td>300</td>\n",
       "      <td>778</td>\n",
       "      <td>12,1</td>\n",
       "      <td>23</td>\n",
       "      <td>1,046</td>\n",
       "      <td>0,753</td>\n",
       "      <td>30</td>\n",
       "      <td>HD205905</td>\n",
       "      <td>RG715</td>\n",
       "      <td>HoloPhP</td>\n",
       "      <td>12450</td>\n",
       "      <td>15,8</td>\n",
       "      <td>data_10jun17</td>\n",
       "      <td>reduc_20170610_300.fits</td>\n",
       "    </tr>\n",
       "    <tr>\n",
       "      <th>2017-06-11T10:21:22.002</th>\n",
       "      <td>301</td>\n",
       "      <td>778</td>\n",
       "      <td>12,1</td>\n",
       "      <td>23</td>\n",
       "      <td>1,047</td>\n",
       "      <td>0,753</td>\n",
       "      <td>60</td>\n",
       "      <td>HD205905</td>\n",
       "      <td>RG715</td>\n",
       "      <td>HoloPhAg</td>\n",
       "      <td>12450</td>\n",
       "      <td>12,8</td>\n",
       "      <td>data_10jun17</td>\n",
       "      <td>reduc_20170610_301.fits</td>\n",
       "    </tr>\n",
       "    <tr>\n",
       "      <th>2017-06-11T10:23:14.496</th>\n",
       "      <td>302</td>\n",
       "      <td>778</td>\n",
       "      <td>12,1</td>\n",
       "      <td>23</td>\n",
       "      <td>1,05</td>\n",
       "      <td>0,753</td>\n",
       "      <td>60</td>\n",
       "      <td>HD205905</td>\n",
       "      <td>RG715</td>\n",
       "      <td>HoloAmAg</td>\n",
       "      <td>12450</td>\n",
       "      <td>15,3</td>\n",
       "      <td>data_10jun17</td>\n",
       "      <td>reduc_20170610_302.fits</td>\n",
       "    </tr>\n",
       "  </tbody>\n",
       "</table>\n",
       "<p>112 rows × 14 columns</p>\n",
       "</div>"
      ],
      "text/plain": [
       "                         index    P     T  RH airmass seeing exposure  \\\n",
       "date                                                                    \n",
       "2017-06-11T05:34:06.396    139  778  13,5  23   1,874  0,712       30   \n",
       "2017-06-11T05:35:28.909    140  778  13,5  23   1,873   0,62       30   \n",
       "2017-06-11T05:36:54.407    141  778  13,6  22   1,873  0,639       60   \n",
       "2017-06-11T05:38:47.099    142  778  13,6  22   1,873  0,747       60   \n",
       "2017-06-11T05:41:15.751    143  778  13,4  22   1,393  0,717       30   \n",
       "2017-06-11T05:42:38.303    144  778  13,4  23   1,387  0,717       30   \n",
       "2017-06-11T05:44:02.998    145  778  13,5  22    1,38   0,81       60   \n",
       "2017-06-11T05:45:55.408    146  778  13,5  22   1,371  0,708       60   \n",
       "2017-06-11T05:55:26.453    151  779  13,2  23   1,867  0,818       30   \n",
       "2017-06-11T05:56:49.004    152  778  13,1  23   1,867   0,73       30   \n",
       "2017-06-11T05:58:15.202    153  778  13,2  23   1,867  0,769       60   \n",
       "2017-06-11T06:00:07.706    154  778  13,2  23   1,866  0,787       60   \n",
       "2017-06-11T06:02:35.548    155  778  13,3  23   1,297  0,668       30   \n",
       "2017-06-11T06:03:58.102    156  778  13,2  23   1,292  0,768       30   \n",
       "2017-06-11T06:05:23.553    157  778    13  23   1,286  0,698       60   \n",
       "2017-06-11T06:07:16.094    158  778  12,9  23   1,279  0,827       60   \n",
       "2017-06-11T06:16:46.545    163  778  12,7  24   1,861  1,214       30   \n",
       "2017-06-11T06:18:09.005    164  778  12,5  24   1,861   1,14       30   \n",
       "2017-06-11T06:19:35.099    165  778  12,5  24   1,861  1,028       60   \n",
       "2017-06-11T06:21:27.606    166  778  12,5  24   1,861  0,895       60   \n",
       "2017-06-11T06:23:55.552    167  778  12,8  24   1,221  1,129       30   \n",
       "2017-06-11T06:25:18.061    168  778  12,7  24   1,216  1,262       30   \n",
       "2017-06-11T06:26:42.959    169  778  12,7  24   1,212  1,176       60   \n",
       "2017-06-11T06:28:36.351    170  778  12,7  24   1,206  1,134       60   \n",
       "2017-06-11T06:38:07.297    175  778    13  23   1,857  0,805       30   \n",
       "2017-06-11T06:39:29.807    176  778  12,9  23   1,856  0,954       30   \n",
       "2017-06-11T06:40:54.504    177  778  12,7  23   1,857  1,179       60   \n",
       "2017-06-11T06:42:47.746    178  778  12,8  23   1,856  0,845       60   \n",
       "2017-06-11T06:45:17.194    179  778  12,7  23   1,159   0,87       30   \n",
       "2017-06-11T06:46:39.696    180  778  12,9  23   1,156  0,753       30   \n",
       "...                        ...  ...   ...  ..     ...    ...      ...   \n",
       "2017-06-11T09:10:15.854    261  778    12  23   1,856  0,753       60   \n",
       "2017-06-11T09:12:09.158    262  778  12,1  23   1,856  0,753       60   \n",
       "2017-06-11T09:14:36.402    263  778  12,1  23   1,002  0,753       30   \n",
       "2017-06-11T09:15:58.905    264  778  12,2  27   1,002  0,753       30   \n",
       "2017-06-11T09:17:23.606    265  778  12,1  23   1,003  0,753       60   \n",
       "2017-06-11T09:19:16.099    266  778    12  23   1,003  0,753       60   \n",
       "2017-06-11T09:28:45.699    271  778  11,8  24   1,859  0,753       30   \n",
       "2017-06-11T09:30:08.195    272  778  11,8  24    1,86  0,753       30   \n",
       "2017-06-11T09:31:33.652    273  778  11,8  24    1,86  0,753       60   \n",
       "2017-06-11T09:33:26.102    274  778  11,7  24    1,86  0,753       60   \n",
       "2017-06-11T09:35:53.956    275  778  11,7  24   1,009  0,753       30   \n",
       "2017-06-11T09:37:16.296    276  778  11,8  24    1,01  0,753       30   \n",
       "2017-06-11T09:38:41.107    277  778  11,7  24    1,01  0,753       60   \n",
       "2017-06-11T09:40:33.605    278  778  11,7  24   1,011  0,753       60   \n",
       "2017-06-11T09:50:04.755    283  778  11,7  24   1,864  0,753       30   \n",
       "2017-06-11T09:51:27.200    284  778  11,8  24   1,865  0,753       30   \n",
       "2017-06-11T09:52:52.652    285  778  11,7  24   1,865  0,753       60   \n",
       "2017-06-11T09:54:45.203    286  778  11,7  24   1,866  0,753       60   \n",
       "2017-06-11T09:57:13.846    287  778  11,7  24   1,023  0,753       30   \n",
       "2017-06-11T09:58:36.350    288  778  11,8  24   1,024  0,753       30   \n",
       "2017-06-11T10:00:01.644    289  778  11,8  24   1,025  0,753       60   \n",
       "2017-06-11T10:01:54.107    290  778  11,8  24   1,027  0,753       60   \n",
       "2017-06-11T10:11:24.353    295  778  11,9   0   1,871  0,753       30   \n",
       "2017-06-11T10:12:46.895    296  778    12  24   1,871  0,753       30   \n",
       "2017-06-11T10:14:13.104    297  778  12,1  24   1,872  0,753       60   \n",
       "2017-06-11T10:16:05.606    298  778  11,9  24   1,872  0,753       60   \n",
       "2017-06-11T10:18:34.256    299  778    12  23   1,044  0,753       30   \n",
       "2017-06-11T10:19:56.704    300  778  12,1  23   1,046  0,753       30   \n",
       "2017-06-11T10:21:22.002    301  778  12,1  23   1,047  0,753       60   \n",
       "2017-06-11T10:23:14.496    302  778  12,1  23    1,05  0,753       60   \n",
       "\n",
       "                           object filter disperser  focus     W        subdir  \\\n",
       "date                                                                            \n",
       "2017-06-11T05:34:06.396  HD185975  RG715   Thor300  12450  17,4  data_10jun17   \n",
       "2017-06-11T05:35:28.909  HD185975  RG715   HoloPhP  12450  13,2  data_10jun17   \n",
       "2017-06-11T05:36:54.407  HD185975  RG715  HoloPhAg  12450  15,2  data_10jun17   \n",
       "2017-06-11T05:38:47.099  HD185975  RG715  HoloAmAg  12450  16,4  data_10jun17   \n",
       "2017-06-11T05:41:15.751  HD205905  RG715   Thor300  12450  13,1  data_10jun17   \n",
       "2017-06-11T05:42:38.303  HD205905  RG715   HoloPhP  12450    15  data_10jun17   \n",
       "2017-06-11T05:44:02.998  HD205905  RG715  HoloPhAg  12450  15,1  data_10jun17   \n",
       "2017-06-11T05:45:55.408  HD205905  RG715  HoloAmAg  12450  14,1  data_10jun17   \n",
       "2017-06-11T05:55:26.453  HD185975  RG715   Thor300  12450  15,4  data_10jun17   \n",
       "2017-06-11T05:56:49.004  HD185975  RG715   HoloPhP  12450    14  data_10jun17   \n",
       "2017-06-11T05:58:15.202  HD185975  RG715  HoloPhAg  12450    15  data_10jun17   \n",
       "2017-06-11T06:00:07.706  HD185975  RG715  HoloAmAg  12450    21  data_10jun17   \n",
       "2017-06-11T06:02:35.548  HD205905  RG715   Thor300  12450    15  data_10jun17   \n",
       "2017-06-11T06:03:58.102  HD205905  RG715   HoloPhP  12450  20,6  data_10jun17   \n",
       "2017-06-11T06:05:23.553  HD205905  RG715  HoloPhAg  12450  19,3  data_10jun17   \n",
       "2017-06-11T06:07:16.094  HD205905  RG715  HoloAmAg  12450  21,8  data_10jun17   \n",
       "2017-06-11T06:16:46.545  HD185975  RG715   Thor300  12450  21,8  data_10jun17   \n",
       "2017-06-11T06:18:09.005  HD185975  RG715   HoloPhP  12450  21,3  data_10jun17   \n",
       "2017-06-11T06:19:35.099  HD185975  RG715  HoloPhAg  12450  20,1  data_10jun17   \n",
       "2017-06-11T06:21:27.606  HD185975  RG715  HoloAmAg  12450  23,8  data_10jun17   \n",
       "2017-06-11T06:23:55.552  HD205905  RG715   Thor300  12450  22,6  data_10jun17   \n",
       "2017-06-11T06:25:18.061  HD205905  RG715   HoloPhP  12450  19,2  data_10jun17   \n",
       "2017-06-11T06:26:42.959  HD205905  RG715  HoloPhAg  12450  20,2  data_10jun17   \n",
       "2017-06-11T06:28:36.351  HD205905  RG715  HoloAmAg  12450  21,7  data_10jun17   \n",
       "2017-06-11T06:38:07.297  HD185975  RG715   Thor300  12450  14,3  data_10jun17   \n",
       "2017-06-11T06:39:29.807  HD185975  RG715   HoloPhP  12450    15  data_10jun17   \n",
       "2017-06-11T06:40:54.504  HD185975  RG715  HoloPhAg  12450  11,1  data_10jun17   \n",
       "2017-06-11T06:42:47.746  HD185975  RG715  HoloAmAg  12450  11,2  data_10jun17   \n",
       "2017-06-11T06:45:17.194  HD205905  RG715   Thor300  12450  12,3  data_10jun17   \n",
       "2017-06-11T06:46:39.696  HD205905  RG715   HoloPhP  12450  16,2  data_10jun17   \n",
       "...                           ...    ...       ...    ...   ...           ...   \n",
       "2017-06-11T09:10:15.854  HD185975  RG715  HoloPhAg  12450  16,4  data_10jun17   \n",
       "2017-06-11T09:12:09.158  HD185975  RG715  HoloAmAg  12450  16,9  data_10jun17   \n",
       "2017-06-11T09:14:36.402  HD205905  RG715   Thor300  12450  21,8  data_10jun17   \n",
       "2017-06-11T09:15:58.905  HD205905  RG715   HoloPhP  12450  16,1  data_10jun17   \n",
       "2017-06-11T09:17:23.606  HD205905  RG715  HoloPhAg  12450  18,2  data_10jun17   \n",
       "2017-06-11T09:19:16.099  HD205905  RG715  HoloAmAg  12450  17,7  data_10jun17   \n",
       "2017-06-11T09:28:45.699  HD185975  RG715   Thor300  12450  16,1  data_10jun17   \n",
       "2017-06-11T09:30:08.195  HD185975  RG715   HoloPhP  12450  18,3  data_10jun17   \n",
       "2017-06-11T09:31:33.652  HD185975  RG715  HoloPhAg  12450  22,5  data_10jun17   \n",
       "2017-06-11T09:33:26.102  HD185975  RG715  HoloAmAg  12450  16,2  data_10jun17   \n",
       "2017-06-11T09:35:53.956  HD205905  RG715   Thor300  12450  19,5  data_10jun17   \n",
       "2017-06-11T09:37:16.296  HD205905  RG715   HoloPhP  12450  18,2  data_10jun17   \n",
       "2017-06-11T09:38:41.107  HD205905  RG715  HoloPhAg  12450    19  data_10jun17   \n",
       "2017-06-11T09:40:33.605  HD205905  RG715  HoloAmAg  12450  18,7  data_10jun17   \n",
       "2017-06-11T09:50:04.755  HD185975  RG715   Thor300  12450  16,2  data_10jun17   \n",
       "2017-06-11T09:51:27.200  HD185975  RG715   HoloPhP  12450  14,2  data_10jun17   \n",
       "2017-06-11T09:52:52.652  HD185975  RG715  HoloPhAg  12450  15,7  data_10jun17   \n",
       "2017-06-11T09:54:45.203  HD185975  RG715  HoloAmAg  12450  15,9  data_10jun17   \n",
       "2017-06-11T09:57:13.846  HD205905  RG715   Thor300  12450  11,5  data_10jun17   \n",
       "2017-06-11T09:58:36.350  HD205905  RG715   HoloPhP  12450  12,6  data_10jun17   \n",
       "2017-06-11T10:00:01.644  HD205905  RG715  HoloPhAg  12450  12,8  data_10jun17   \n",
       "2017-06-11T10:01:54.107  HD205905  RG715  HoloAmAg  12450  11,2  data_10jun17   \n",
       "2017-06-11T10:11:24.353  HD185975  RG715   Thor300  12450  12,2  data_10jun17   \n",
       "2017-06-11T10:12:46.895  HD185975  RG715   HoloPhP  12450  14,1  data_10jun17   \n",
       "2017-06-11T10:14:13.104  HD185975  RG715  HoloPhAg  12450    14  data_10jun17   \n",
       "2017-06-11T10:16:05.606  HD185975  RG715  HoloAmAg  12450    15  data_10jun17   \n",
       "2017-06-11T10:18:34.256  HD205905  RG715   Thor300  12450  15,1  data_10jun17   \n",
       "2017-06-11T10:19:56.704  HD205905  RG715   HoloPhP  12450  15,8  data_10jun17   \n",
       "2017-06-11T10:21:22.002  HD205905  RG715  HoloPhAg  12450  12,8  data_10jun17   \n",
       "2017-06-11T10:23:14.496  HD205905  RG715  HoloAmAg  12450  15,3  data_10jun17   \n",
       "\n",
       "                                            file  \n",
       "date                                              \n",
       "2017-06-11T05:34:06.396  reduc_20170610_139.fits  \n",
       "2017-06-11T05:35:28.909  reduc_20170610_140.fits  \n",
       "2017-06-11T05:36:54.407  reduc_20170610_141.fits  \n",
       "2017-06-11T05:38:47.099  reduc_20170610_142.fits  \n",
       "2017-06-11T05:41:15.751  reduc_20170610_143.fits  \n",
       "2017-06-11T05:42:38.303  reduc_20170610_144.fits  \n",
       "2017-06-11T05:44:02.998  reduc_20170610_145.fits  \n",
       "2017-06-11T05:45:55.408  reduc_20170610_146.fits  \n",
       "2017-06-11T05:55:26.453  reduc_20170610_151.fits  \n",
       "2017-06-11T05:56:49.004  reduc_20170610_152.fits  \n",
       "2017-06-11T05:58:15.202  reduc_20170610_153.fits  \n",
       "2017-06-11T06:00:07.706  reduc_20170610_154.fits  \n",
       "2017-06-11T06:02:35.548  reduc_20170610_155.fits  \n",
       "2017-06-11T06:03:58.102  reduc_20170610_156.fits  \n",
       "2017-06-11T06:05:23.553  reduc_20170610_157.fits  \n",
       "2017-06-11T06:07:16.094  reduc_20170610_158.fits  \n",
       "2017-06-11T06:16:46.545  reduc_20170610_163.fits  \n",
       "2017-06-11T06:18:09.005  reduc_20170610_164.fits  \n",
       "2017-06-11T06:19:35.099  reduc_20170610_165.fits  \n",
       "2017-06-11T06:21:27.606  reduc_20170610_166.fits  \n",
       "2017-06-11T06:23:55.552  reduc_20170610_167.fits  \n",
       "2017-06-11T06:25:18.061  reduc_20170610_168.fits  \n",
       "2017-06-11T06:26:42.959  reduc_20170610_169.fits  \n",
       "2017-06-11T06:28:36.351  reduc_20170610_170.fits  \n",
       "2017-06-11T06:38:07.297  reduc_20170610_175.fits  \n",
       "2017-06-11T06:39:29.807  reduc_20170610_176.fits  \n",
       "2017-06-11T06:40:54.504  reduc_20170610_177.fits  \n",
       "2017-06-11T06:42:47.746  reduc_20170610_178.fits  \n",
       "2017-06-11T06:45:17.194  reduc_20170610_179.fits  \n",
       "2017-06-11T06:46:39.696  reduc_20170610_180.fits  \n",
       "...                                          ...  \n",
       "2017-06-11T09:10:15.854  reduc_20170610_261.fits  \n",
       "2017-06-11T09:12:09.158  reduc_20170610_262.fits  \n",
       "2017-06-11T09:14:36.402  reduc_20170610_263.fits  \n",
       "2017-06-11T09:15:58.905  reduc_20170610_264.fits  \n",
       "2017-06-11T09:17:23.606  reduc_20170610_265.fits  \n",
       "2017-06-11T09:19:16.099  reduc_20170610_266.fits  \n",
       "2017-06-11T09:28:45.699  reduc_20170610_271.fits  \n",
       "2017-06-11T09:30:08.195  reduc_20170610_272.fits  \n",
       "2017-06-11T09:31:33.652  reduc_20170610_273.fits  \n",
       "2017-06-11T09:33:26.102  reduc_20170610_274.fits  \n",
       "2017-06-11T09:35:53.956  reduc_20170610_275.fits  \n",
       "2017-06-11T09:37:16.296  reduc_20170610_276.fits  \n",
       "2017-06-11T09:38:41.107  reduc_20170610_277.fits  \n",
       "2017-06-11T09:40:33.605  reduc_20170610_278.fits  \n",
       "2017-06-11T09:50:04.755  reduc_20170610_283.fits  \n",
       "2017-06-11T09:51:27.200  reduc_20170610_284.fits  \n",
       "2017-06-11T09:52:52.652  reduc_20170610_285.fits  \n",
       "2017-06-11T09:54:45.203  reduc_20170610_286.fits  \n",
       "2017-06-11T09:57:13.846  reduc_20170610_287.fits  \n",
       "2017-06-11T09:58:36.350  reduc_20170610_288.fits  \n",
       "2017-06-11T10:00:01.644  reduc_20170610_289.fits  \n",
       "2017-06-11T10:01:54.107  reduc_20170610_290.fits  \n",
       "2017-06-11T10:11:24.353  reduc_20170610_295.fits  \n",
       "2017-06-11T10:12:46.895  reduc_20170610_296.fits  \n",
       "2017-06-11T10:14:13.104  reduc_20170610_297.fits  \n",
       "2017-06-11T10:16:05.606  reduc_20170610_298.fits  \n",
       "2017-06-11T10:18:34.256  reduc_20170610_299.fits  \n",
       "2017-06-11T10:19:56.704  reduc_20170610_300.fits  \n",
       "2017-06-11T10:21:22.002  reduc_20170610_301.fits  \n",
       "2017-06-11T10:23:14.496  reduc_20170610_302.fits  \n",
       "\n",
       "[112 rows x 14 columns]"
      ]
     },
     "execution_count": 42,
     "metadata": {},
     "output_type": "execute_result"
    }
   ],
   "source": [
    "bad_obs"
   ]
  },
  {
   "cell_type": "code",
   "execution_count": 43,
   "metadata": {},
   "outputs": [],
   "source": [
    "bad_indexes=bad_obs.loc[:,\"index\"]"
   ]
  },
  {
   "cell_type": "code",
   "execution_count": 44,
   "metadata": {},
   "outputs": [
    {
     "data": {
      "text/plain": [
       "Index([u'2017-06-11T05:34:06.396', u'2017-06-11T05:35:28.909',\n",
       "       u'2017-06-11T05:36:54.407', u'2017-06-11T05:38:47.099',\n",
       "       u'2017-06-11T05:41:15.751', u'2017-06-11T05:42:38.303',\n",
       "       u'2017-06-11T05:44:02.998', u'2017-06-11T05:45:55.408',\n",
       "       u'2017-06-11T05:55:26.453', u'2017-06-11T05:56:49.004',\n",
       "       ...\n",
       "       u'2017-06-11T10:00:01.644', u'2017-06-11T10:01:54.107',\n",
       "       u'2017-06-11T10:11:24.353', u'2017-06-11T10:12:46.895',\n",
       "       u'2017-06-11T10:14:13.104', u'2017-06-11T10:16:05.606',\n",
       "       u'2017-06-11T10:18:34.256', u'2017-06-11T10:19:56.704',\n",
       "       u'2017-06-11T10:21:22.002', u'2017-06-11T10:23:14.496'],\n",
       "      dtype='object', name=u'date', length=112)"
      ]
     },
     "execution_count": 44,
     "metadata": {},
     "output_type": "execute_result"
    }
   ],
   "source": [
    "bad_indexes.index"
   ]
  },
  {
   "cell_type": "code",
   "execution_count": 45,
   "metadata": {},
   "outputs": [
    {
     "data": {
      "text/plain": [
       "array([139, 140, 141, 142, 143, 144, 145, 146, 151, 152, 153, 154, 155,\n",
       "       156, 157, 158, 163, 164, 165, 166, 167, 168, 169, 170, 175, 176,\n",
       "       177, 178, 179, 180, 181, 182, 187, 188, 189, 190, 191, 192, 193,\n",
       "       194, 199, 200, 201, 202, 203, 204, 205, 206, 211, 212, 213, 214,\n",
       "       215, 216, 217, 218, 223, 224, 225, 226, 227, 228, 229, 230, 235,\n",
       "       236, 237, 238, 239, 240, 241, 242, 247, 248, 249, 250, 251, 252,\n",
       "       253, 254, 259, 260, 261, 262, 263, 264, 265, 266, 271, 272, 273,\n",
       "       274, 275, 276, 277, 278, 283, 284, 285, 286, 287, 288, 289, 290,\n",
       "       295, 296, 297, 298, 299, 300, 301, 302])"
      ]
     },
     "execution_count": 45,
     "metadata": {},
     "output_type": "execute_result"
    }
   ],
   "source": [
    "bad_indexes.values"
   ]
  },
  {
   "cell_type": "markdown",
   "metadata": {},
   "source": [
    "### Concatenate bad obs"
   ]
  },
  {
   "cell_type": "code",
   "execution_count": 46,
   "metadata": {},
   "outputs": [],
   "source": [
    "#bad_obs=pd.concat([bad_obs,bad_obs_0])"
   ]
  },
  {
   "cell_type": "code",
   "execution_count": 47,
   "metadata": {},
   "outputs": [
    {
     "data": {
      "text/html": [
       "<div>\n",
       "<style scoped>\n",
       "    .dataframe tbody tr th:only-of-type {\n",
       "        vertical-align: middle;\n",
       "    }\n",
       "\n",
       "    .dataframe tbody tr th {\n",
       "        vertical-align: top;\n",
       "    }\n",
       "\n",
       "    .dataframe thead th {\n",
       "        text-align: right;\n",
       "    }\n",
       "</style>\n",
       "<table border=\"1\" class=\"dataframe\">\n",
       "  <thead>\n",
       "    <tr style=\"text-align: right;\">\n",
       "      <th></th>\n",
       "      <th>index</th>\n",
       "      <th>P</th>\n",
       "      <th>T</th>\n",
       "      <th>RH</th>\n",
       "      <th>airmass</th>\n",
       "      <th>seeing</th>\n",
       "      <th>exposure</th>\n",
       "      <th>object</th>\n",
       "      <th>filter</th>\n",
       "      <th>disperser</th>\n",
       "      <th>focus</th>\n",
       "      <th>W</th>\n",
       "      <th>subdir</th>\n",
       "      <th>file</th>\n",
       "    </tr>\n",
       "    <tr>\n",
       "      <th>date</th>\n",
       "      <th></th>\n",
       "      <th></th>\n",
       "      <th></th>\n",
       "      <th></th>\n",
       "      <th></th>\n",
       "      <th></th>\n",
       "      <th></th>\n",
       "      <th></th>\n",
       "      <th></th>\n",
       "      <th></th>\n",
       "      <th></th>\n",
       "      <th></th>\n",
       "      <th></th>\n",
       "      <th></th>\n",
       "    </tr>\n",
       "  </thead>\n",
       "  <tbody>\n",
       "    <tr>\n",
       "      <th>2017-06-11T05:34:06.396</th>\n",
       "      <td>139</td>\n",
       "      <td>778</td>\n",
       "      <td>13,5</td>\n",
       "      <td>23</td>\n",
       "      <td>1,874</td>\n",
       "      <td>0,712</td>\n",
       "      <td>30</td>\n",
       "      <td>HD185975</td>\n",
       "      <td>RG715</td>\n",
       "      <td>Thor300</td>\n",
       "      <td>12450</td>\n",
       "      <td>17,4</td>\n",
       "      <td>data_10jun17</td>\n",
       "      <td>reduc_20170610_139.fits</td>\n",
       "    </tr>\n",
       "    <tr>\n",
       "      <th>2017-06-11T05:35:28.909</th>\n",
       "      <td>140</td>\n",
       "      <td>778</td>\n",
       "      <td>13,5</td>\n",
       "      <td>23</td>\n",
       "      <td>1,873</td>\n",
       "      <td>0,62</td>\n",
       "      <td>30</td>\n",
       "      <td>HD185975</td>\n",
       "      <td>RG715</td>\n",
       "      <td>HoloPhP</td>\n",
       "      <td>12450</td>\n",
       "      <td>13,2</td>\n",
       "      <td>data_10jun17</td>\n",
       "      <td>reduc_20170610_140.fits</td>\n",
       "    </tr>\n",
       "    <tr>\n",
       "      <th>2017-06-11T05:36:54.407</th>\n",
       "      <td>141</td>\n",
       "      <td>778</td>\n",
       "      <td>13,6</td>\n",
       "      <td>22</td>\n",
       "      <td>1,873</td>\n",
       "      <td>0,639</td>\n",
       "      <td>60</td>\n",
       "      <td>HD185975</td>\n",
       "      <td>RG715</td>\n",
       "      <td>HoloPhAg</td>\n",
       "      <td>12450</td>\n",
       "      <td>15,2</td>\n",
       "      <td>data_10jun17</td>\n",
       "      <td>reduc_20170610_141.fits</td>\n",
       "    </tr>\n",
       "    <tr>\n",
       "      <th>2017-06-11T05:38:47.099</th>\n",
       "      <td>142</td>\n",
       "      <td>778</td>\n",
       "      <td>13,6</td>\n",
       "      <td>22</td>\n",
       "      <td>1,873</td>\n",
       "      <td>0,747</td>\n",
       "      <td>60</td>\n",
       "      <td>HD185975</td>\n",
       "      <td>RG715</td>\n",
       "      <td>HoloAmAg</td>\n",
       "      <td>12450</td>\n",
       "      <td>16,4</td>\n",
       "      <td>data_10jun17</td>\n",
       "      <td>reduc_20170610_142.fits</td>\n",
       "    </tr>\n",
       "    <tr>\n",
       "      <th>2017-06-11T05:41:15.751</th>\n",
       "      <td>143</td>\n",
       "      <td>778</td>\n",
       "      <td>13,4</td>\n",
       "      <td>22</td>\n",
       "      <td>1,393</td>\n",
       "      <td>0,717</td>\n",
       "      <td>30</td>\n",
       "      <td>HD205905</td>\n",
       "      <td>RG715</td>\n",
       "      <td>Thor300</td>\n",
       "      <td>12450</td>\n",
       "      <td>13,1</td>\n",
       "      <td>data_10jun17</td>\n",
       "      <td>reduc_20170610_143.fits</td>\n",
       "    </tr>\n",
       "  </tbody>\n",
       "</table>\n",
       "</div>"
      ],
      "text/plain": [
       "                         index    P     T  RH airmass seeing exposure  \\\n",
       "date                                                                    \n",
       "2017-06-11T05:34:06.396    139  778  13,5  23   1,874  0,712       30   \n",
       "2017-06-11T05:35:28.909    140  778  13,5  23   1,873   0,62       30   \n",
       "2017-06-11T05:36:54.407    141  778  13,6  22   1,873  0,639       60   \n",
       "2017-06-11T05:38:47.099    142  778  13,6  22   1,873  0,747       60   \n",
       "2017-06-11T05:41:15.751    143  778  13,4  22   1,393  0,717       30   \n",
       "\n",
       "                           object filter disperser  focus     W        subdir  \\\n",
       "date                                                                            \n",
       "2017-06-11T05:34:06.396  HD185975  RG715   Thor300  12450  17,4  data_10jun17   \n",
       "2017-06-11T05:35:28.909  HD185975  RG715   HoloPhP  12450  13,2  data_10jun17   \n",
       "2017-06-11T05:36:54.407  HD185975  RG715  HoloPhAg  12450  15,2  data_10jun17   \n",
       "2017-06-11T05:38:47.099  HD185975  RG715  HoloAmAg  12450  16,4  data_10jun17   \n",
       "2017-06-11T05:41:15.751  HD205905  RG715   Thor300  12450  13,1  data_10jun17   \n",
       "\n",
       "                                            file  \n",
       "date                                              \n",
       "2017-06-11T05:34:06.396  reduc_20170610_139.fits  \n",
       "2017-06-11T05:35:28.909  reduc_20170610_140.fits  \n",
       "2017-06-11T05:36:54.407  reduc_20170610_141.fits  \n",
       "2017-06-11T05:38:47.099  reduc_20170610_142.fits  \n",
       "2017-06-11T05:41:15.751  reduc_20170610_143.fits  "
      ]
     },
     "execution_count": 47,
     "metadata": {},
     "output_type": "execute_result"
    }
   ],
   "source": [
    "bad_obs.head()"
   ]
  },
  {
   "cell_type": "code",
   "execution_count": 48,
   "metadata": {},
   "outputs": [
    {
     "name": "stderr",
     "output_type": "stream",
     "text": [
      "/Users/dagoret/anaconda/lib/python2.7/site-packages/ipykernel_launcher.py:1: SettingWithCopyWarning: \n",
      "A value is trying to be set on a copy of a slice from a DataFrame\n",
      "\n",
      "See the caveats in the documentation: http://pandas.pydata.org/pandas-docs/stable/indexing.html#indexing-view-versus-copy\n",
      "  \"\"\"Entry point for launching an IPython kernel.\n"
     ]
    }
   ],
   "source": [
    "bad_obs.sort_values(by=\"index\",inplace=True)"
   ]
  },
  {
   "cell_type": "code",
   "execution_count": 49,
   "metadata": {},
   "outputs": [],
   "source": [
    "bad_indexes=bad_obs.loc[:,\"index\"]"
   ]
  },
  {
   "cell_type": "code",
   "execution_count": 50,
   "metadata": {},
   "outputs": [
    {
     "data": {
      "text/plain": [
       "Index([u'2017-06-11T05:34:06.396', u'2017-06-11T05:35:28.909',\n",
       "       u'2017-06-11T05:36:54.407', u'2017-06-11T05:38:47.099',\n",
       "       u'2017-06-11T05:41:15.751', u'2017-06-11T05:42:38.303',\n",
       "       u'2017-06-11T05:44:02.998', u'2017-06-11T05:45:55.408',\n",
       "       u'2017-06-11T05:55:26.453', u'2017-06-11T05:56:49.004',\n",
       "       ...\n",
       "       u'2017-06-11T10:00:01.644', u'2017-06-11T10:01:54.107',\n",
       "       u'2017-06-11T10:11:24.353', u'2017-06-11T10:12:46.895',\n",
       "       u'2017-06-11T10:14:13.104', u'2017-06-11T10:16:05.606',\n",
       "       u'2017-06-11T10:18:34.256', u'2017-06-11T10:19:56.704',\n",
       "       u'2017-06-11T10:21:22.002', u'2017-06-11T10:23:14.496'],\n",
       "      dtype='object', name=u'date', length=112)"
      ]
     },
     "execution_count": 50,
     "metadata": {},
     "output_type": "execute_result"
    }
   ],
   "source": [
    "bad_indexes.index"
   ]
  },
  {
   "cell_type": "code",
   "execution_count": 51,
   "metadata": {},
   "outputs": [
    {
     "data": {
      "text/plain": [
       "array([139, 140, 141, 142, 143, 144, 145, 146, 151, 152, 153, 154, 155,\n",
       "       156, 157, 158, 163, 164, 165, 166, 167, 168, 169, 170, 175, 176,\n",
       "       177, 178, 179, 180, 181, 182, 187, 188, 189, 190, 191, 192, 193,\n",
       "       194, 199, 200, 201, 202, 203, 204, 205, 206, 211, 212, 213, 214,\n",
       "       215, 216, 217, 218, 223, 224, 225, 226, 227, 228, 229, 230, 235,\n",
       "       236, 237, 238, 239, 240, 241, 242, 247, 248, 249, 250, 251, 252,\n",
       "       253, 254, 259, 260, 261, 262, 263, 264, 265, 266, 271, 272, 273,\n",
       "       274, 275, 276, 277, 278, 283, 284, 285, 286, 287, 288, 289, 290,\n",
       "       295, 296, 297, 298, 299, 300, 301, 302])"
      ]
     },
     "execution_count": 51,
     "metadata": {},
     "output_type": "execute_result"
    }
   ],
   "source": [
    "bad_indexes.values"
   ]
  },
  {
   "cell_type": "markdown",
   "metadata": {},
   "source": [
    "- keep stars **HD111980**, **HD205905**"
   ]
  },
  {
   "cell_type": "code",
   "execution_count": 52,
   "metadata": {},
   "outputs": [],
   "source": [
    "sel2_obs=sel_obs.loc[sel_obs['object'].isin(['HD160617'])]"
   ]
  },
  {
   "cell_type": "code",
   "execution_count": 53,
   "metadata": {},
   "outputs": [
    {
     "data": {
      "image/png": "[encoded data removed]",
      "text/plain": [
       "<Figure size 360x216 with 1 Axes>"
      ]
     },
     "metadata": {},
     "output_type": "display_data"
    }
   ],
   "source": [
    "plt.figure(figsize=(5,3))\n",
    "sns.countplot(y='object', data=sel2_obs)\n",
    "plt.grid(True)"
   ]
  },
  {
   "cell_type": "markdown",
   "metadata": {},
   "source": [
    "#### Make a list of the object names"
   ]
  },
  {
   "cell_type": "code",
   "execution_count": 54,
   "metadata": {},
   "outputs": [],
   "source": [
    "list_of_objects=sel2_obs['object'].values"
   ]
  },
  {
   "cell_type": "code",
   "execution_count": 55,
   "metadata": {},
   "outputs": [],
   "source": [
    "list_of_objects=set(list_of_objects)"
   ]
  },
  {
   "cell_type": "code",
   "execution_count": 56,
   "metadata": {},
   "outputs": [],
   "source": [
    "list_of_objects=list(list_of_objects)"
   ]
  },
  {
   "cell_type": "code",
   "execution_count": 57,
   "metadata": {},
   "outputs": [],
   "source": [
    "list_of_objects_str=','.join(list_of_objects)"
   ]
  },
  {
   "cell_type": "markdown",
   "metadata": {},
   "source": [
    "### find filename for sim spectra"
   ]
  },
  {
   "cell_type": "code",
   "execution_count": 58,
   "metadata": {},
   "outputs": [],
   "source": [
    "path_sim1=os.path.join(path_spectrasim,'clearsky')\n",
    "path_sim2=os.path.join(path_spectrasim,'standard')\n",
    "path_sim3=os.path.join(path_spectrasim,'merra2')"
   ]
  },
  {
   "cell_type": "code",
   "execution_count": 59,
   "metadata": {},
   "outputs": [],
   "source": [
    "search_string=os.path.join(path_sim1,'*.fits')\n",
    "all_simspectrafiles1=glob.glob(search_string)\n",
    "all_simspectrafiles1=sorted(all_simspectrafiles1)"
   ]
  },
  {
   "cell_type": "code",
   "execution_count": 60,
   "metadata": {},
   "outputs": [
    {
     "data": {
      "text/plain": [
       "['/Users/dagoret/DATA/CTIODataJune2017_reduced_RG715_v2_prod1_SimSpectra/data_10jun17/clearsky/specsim_20170610_135_spectrum.fits',\n",
       " '/Users/dagoret/DATA/CTIODataJune2017_reduced_RG715_v2_prod1_SimSpectra/data_10jun17/clearsky/specsim_20170610_136_spectrum.fits',\n",
       " '/Users/dagoret/DATA/CTIODataJune2017_reduced_RG715_v2_prod1_SimSpectra/data_10jun17/clearsky/specsim_20170610_137_spectrum.fits']"
      ]
     },
     "execution_count": 60,
     "metadata": {},
     "output_type": "execute_result"
    }
   ],
   "source": [
    "all_simspectrafiles1[:3]"
   ]
  },
  {
   "cell_type": "code",
   "execution_count": 61,
   "metadata": {},
   "outputs": [],
   "source": [
    "search_string=os.path.join(path_sim2,'*.fits')\n",
    "all_simspectrafiles2=glob.glob(search_string)\n",
    "all_simspectrafiles2=sorted(all_simspectrafiles2)"
   ]
  },
  {
   "cell_type": "code",
   "execution_count": 62,
   "metadata": {},
   "outputs": [
    {
     "data": {
      "text/plain": [
       "['/Users/dagoret/DATA/CTIODataJune2017_reduced_RG715_v2_prod1_SimSpectra/data_10jun17/standard/specsim_20170610_135_spectrum.fits',\n",
       " '/Users/dagoret/DATA/CTIODataJune2017_reduced_RG715_v2_prod1_SimSpectra/data_10jun17/standard/specsim_20170610_136_spectrum.fits',\n",
       " '/Users/dagoret/DATA/CTIODataJune2017_reduced_RG715_v2_prod1_SimSpectra/data_10jun17/standard/specsim_20170610_137_spectrum.fits']"
      ]
     },
     "execution_count": 62,
     "metadata": {},
     "output_type": "execute_result"
    }
   ],
   "source": [
    "all_simspectrafiles2[:3]"
   ]
  },
  {
   "cell_type": "code",
   "execution_count": 63,
   "metadata": {},
   "outputs": [],
   "source": [
    "search_string=os.path.join(path_sim3,'*.fits')\n",
    "all_simspectrafiles3=glob.glob(search_string)\n",
    "all_simspectrafiles3=sorted(all_simspectrafiles3)"
   ]
  },
  {
   "cell_type": "code",
   "execution_count": 64,
   "metadata": {},
   "outputs": [
    {
     "data": {
      "text/plain": [
       "['/Users/dagoret/DATA/CTIODataJune2017_reduced_RG715_v2_prod1_SimSpectra/data_10jun17/merra2/specsim_20170610_135_spectrum.fits',\n",
       " '/Users/dagoret/DATA/CTIODataJune2017_reduced_RG715_v2_prod1_SimSpectra/data_10jun17/merra2/specsim_20170610_136_spectrum.fits',\n",
       " '/Users/dagoret/DATA/CTIODataJune2017_reduced_RG715_v2_prod1_SimSpectra/data_10jun17/merra2/specsim_20170610_137_spectrum.fits']"
      ]
     },
     "execution_count": 64,
     "metadata": {},
     "output_type": "execute_result"
    }
   ],
   "source": [
    "all_simspectrafiles3[:3]"
   ]
  },
  {
   "cell_type": "markdown",
   "metadata": {},
   "source": [
    "# Remove bad indexes"
   ]
  },
  {
   "cell_type": "code",
   "execution_count": 65,
   "metadata": {},
   "outputs": [
    {
     "name": "stdout",
     "output_type": "stream",
     "text": [
      " remove  reduc_20170610_139_spectrum.fits\n",
      " remove  reduc_20170610_140_spectrum.fits\n",
      " remove  reduc_20170610_141_spectrum.fits\n",
      " remove  reduc_20170610_142_spectrum.fits\n",
      " remove  reduc_20170610_143_spectrum.fits\n",
      " remove  reduc_20170610_144_spectrum.fits\n",
      " remove  reduc_20170610_145_spectrum.fits\n",
      " remove  reduc_20170610_146_spectrum.fits\n",
      " remove  reduc_20170610_151_spectrum.fits\n",
      " remove  reduc_20170610_152_spectrum.fits\n",
      " remove  reduc_20170610_153_spectrum.fits\n",
      " remove  reduc_20170610_154_spectrum.fits\n",
      " remove  reduc_20170610_155_spectrum.fits\n",
      " remove  reduc_20170610_156_spectrum.fits\n",
      " remove  reduc_20170610_157_spectrum.fits\n",
      " remove  reduc_20170610_158_spectrum.fits\n",
      " remove  reduc_20170610_163_spectrum.fits\n",
      " remove  reduc_20170610_164_spectrum.fits\n",
      " remove  reduc_20170610_165_spectrum.fits\n",
      " remove  reduc_20170610_166_spectrum.fits\n",
      " remove  reduc_20170610_167_spectrum.fits\n",
      " remove  reduc_20170610_168_spectrum.fits\n",
      " remove  reduc_20170610_169_spectrum.fits\n",
      " remove  reduc_20170610_170_spectrum.fits\n",
      " remove  reduc_20170610_175_spectrum.fits\n",
      " remove  reduc_20170610_176_spectrum.fits\n",
      " remove  reduc_20170610_177_spectrum.fits\n",
      " remove  reduc_20170610_178_spectrum.fits\n",
      " remove  reduc_20170610_179_spectrum.fits\n",
      " remove  reduc_20170610_180_spectrum.fits\n",
      " remove  reduc_20170610_181_spectrum.fits\n",
      " remove  reduc_20170610_182_spectrum.fits\n",
      " remove  reduc_20170610_187_spectrum.fits\n",
      " remove  reduc_20170610_188_spectrum.fits\n",
      " remove  reduc_20170610_189_spectrum.fits\n",
      " remove  reduc_20170610_190_spectrum.fits\n",
      " remove  reduc_20170610_191_spectrum.fits\n",
      " remove  reduc_20170610_192_spectrum.fits\n",
      " remove  reduc_20170610_193_spectrum.fits\n",
      " remove  reduc_20170610_194_spectrum.fits\n",
      " remove  reduc_20170610_199_spectrum.fits\n",
      " remove  reduc_20170610_200_spectrum.fits\n",
      " remove  reduc_20170610_201_spectrum.fits\n",
      " remove  reduc_20170610_202_spectrum.fits\n",
      " remove  reduc_20170610_203_spectrum.fits\n",
      " remove  reduc_20170610_204_spectrum.fits\n",
      " remove  reduc_20170610_205_spectrum.fits\n",
      " remove  reduc_20170610_206_spectrum.fits\n",
      " remove  reduc_20170610_211_spectrum.fits\n",
      " remove  reduc_20170610_212_spectrum.fits\n",
      " remove  reduc_20170610_213_spectrum.fits\n",
      " remove  reduc_20170610_214_spectrum.fits\n",
      " remove  reduc_20170610_215_spectrum.fits\n",
      " remove  reduc_20170610_216_spectrum.fits\n",
      " remove  reduc_20170610_217_spectrum.fits\n",
      " remove  reduc_20170610_218_spectrum.fits\n",
      " remove  reduc_20170610_223_spectrum.fits\n",
      " remove  reduc_20170610_224_spectrum.fits\n",
      " remove  reduc_20170610_225_spectrum.fits\n",
      " remove  reduc_20170610_226_spectrum.fits\n",
      " remove  reduc_20170610_227_spectrum.fits\n",
      " remove  reduc_20170610_228_spectrum.fits\n",
      " remove  reduc_20170610_229_spectrum.fits\n",
      " remove  reduc_20170610_230_spectrum.fits\n",
      " remove  reduc_20170610_235_spectrum.fits\n",
      " remove  reduc_20170610_236_spectrum.fits\n",
      " remove  reduc_20170610_237_spectrum.fits\n",
      " remove  reduc_20170610_238_spectrum.fits\n",
      " remove  reduc_20170610_239_spectrum.fits\n",
      " remove  reduc_20170610_240_spectrum.fits\n",
      " remove  reduc_20170610_241_spectrum.fits\n",
      " remove  reduc_20170610_242_spectrum.fits\n",
      " remove  reduc_20170610_247_spectrum.fits\n",
      " remove  reduc_20170610_248_spectrum.fits\n",
      " remove  reduc_20170610_249_spectrum.fits\n",
      " remove  reduc_20170610_250_spectrum.fits\n",
      " remove  reduc_20170610_251_spectrum.fits\n",
      " remove  reduc_20170610_252_spectrum.fits\n",
      " remove  reduc_20170610_253_spectrum.fits\n",
      " remove  reduc_20170610_254_spectrum.fits\n",
      " remove  reduc_20170610_259_spectrum.fits\n",
      " remove  reduc_20170610_260_spectrum.fits\n",
      " remove  reduc_20170610_261_spectrum.fits\n",
      " remove  reduc_20170610_262_spectrum.fits\n",
      " remove  reduc_20170610_263_spectrum.fits\n",
      " remove  reduc_20170610_264_spectrum.fits\n",
      " remove  reduc_20170610_265_spectrum.fits\n",
      " remove  reduc_20170610_266_spectrum.fits\n",
      " remove  reduc_20170610_271_spectrum.fits\n",
      " remove  reduc_20170610_272_spectrum.fits\n",
      " remove  reduc_20170610_273_spectrum.fits\n",
      " remove  reduc_20170610_274_spectrum.fits\n",
      " remove  reduc_20170610_275_spectrum.fits\n",
      " remove  reduc_20170610_276_spectrum.fits\n",
      " remove  reduc_20170610_277_spectrum.fits\n",
      " remove  reduc_20170610_278_spectrum.fits\n",
      " remove  reduc_20170610_283_spectrum.fits\n",
      " remove  reduc_20170610_284_spectrum.fits\n",
      " remove  reduc_20170610_285_spectrum.fits\n",
      " remove  reduc_20170610_286_spectrum.fits\n",
      " remove  reduc_20170610_287_spectrum.fits\n",
      " remove  reduc_20170610_288_spectrum.fits\n",
      " remove  reduc_20170610_289_spectrum.fits\n",
      " remove  reduc_20170610_290_spectrum.fits\n",
      " remove  reduc_20170610_295_spectrum.fits\n",
      " remove  reduc_20170610_296_spectrum.fits\n",
      " remove  reduc_20170610_297_spectrum.fits\n",
      " remove  reduc_20170610_298_spectrum.fits\n",
      " remove  reduc_20170610_299_spectrum.fits\n",
      " remove  reduc_20170610_300_spectrum.fits\n",
      " remove  reduc_20170610_301_spectrum.fits\n",
      " remove  reduc_20170610_302_spectrum.fits\n"
     ]
    }
   ],
   "source": [
    "file_toremove=[]\n",
    "SelectTagRe='^reduc_%s_([0-9]+)_spectrum.fits$' % (date)\n",
    "for ffn in all_spectrafiles:\n",
    "    fn=ffn.split('/')[-1]\n",
    "    sel_index= int(re.findall(SelectTagRe,fn)[0])\n",
    "    if sel_index in bad_indexes.values:\n",
    "        print ' remove ', fn\n",
    "        file_toremove.append(ffn)\n",
    "for f in file_toremove:\n",
    "    all_spectrafiles.remove(f)        "
   ]
  },
  {
   "cell_type": "code",
   "execution_count": 66,
   "metadata": {},
   "outputs": [
    {
     "name": "stdout",
     "output_type": "stream",
     "text": [
      " remove  specsim_20170610_139_spectrum.fits\n",
      " remove  specsim_20170610_140_spectrum.fits\n",
      " remove  specsim_20170610_141_spectrum.fits\n",
      " remove  specsim_20170610_142_spectrum.fits\n",
      " remove  specsim_20170610_143_spectrum.fits\n",
      " remove  specsim_20170610_144_spectrum.fits\n",
      " remove  specsim_20170610_145_spectrum.fits\n",
      " remove  specsim_20170610_146_spectrum.fits\n",
      " remove  specsim_20170610_151_spectrum.fits\n",
      " remove  specsim_20170610_152_spectrum.fits\n",
      " remove  specsim_20170610_153_spectrum.fits\n",
      " remove  specsim_20170610_154_spectrum.fits\n",
      " remove  specsim_20170610_155_spectrum.fits\n",
      " remove  specsim_20170610_156_spectrum.fits\n",
      " remove  specsim_20170610_157_spectrum.fits\n",
      " remove  specsim_20170610_158_spectrum.fits\n",
      " remove  specsim_20170610_163_spectrum.fits\n",
      " remove  specsim_20170610_164_spectrum.fits\n",
      " remove  specsim_20170610_165_spectrum.fits\n",
      " remove  specsim_20170610_166_spectrum.fits\n",
      " remove  specsim_20170610_167_spectrum.fits\n",
      " remove  specsim_20170610_168_spectrum.fits\n",
      " remove  specsim_20170610_169_spectrum.fits\n",
      " remove  specsim_20170610_170_spectrum.fits\n",
      " remove  specsim_20170610_175_spectrum.fits\n",
      " remove  specsim_20170610_176_spectrum.fits\n",
      " remove  specsim_20170610_177_spectrum.fits\n",
      " remove  specsim_20170610_178_spectrum.fits\n",
      " remove  specsim_20170610_179_spectrum.fits\n",
      " remove  specsim_20170610_180_spectrum.fits\n",
      " remove  specsim_20170610_181_spectrum.fits\n",
      " remove  specsim_20170610_182_spectrum.fits\n",
      " remove  specsim_20170610_187_spectrum.fits\n",
      " remove  specsim_20170610_188_spectrum.fits\n",
      " remove  specsim_20170610_189_spectrum.fits\n",
      " remove  specsim_20170610_190_spectrum.fits\n",
      " remove  specsim_20170610_191_spectrum.fits\n",
      " remove  specsim_20170610_192_spectrum.fits\n",
      " remove  specsim_20170610_193_spectrum.fits\n",
      " remove  specsim_20170610_194_spectrum.fits\n",
      " remove  specsim_20170610_199_spectrum.fits\n",
      " remove  specsim_20170610_200_spectrum.fits\n",
      " remove  specsim_20170610_201_spectrum.fits\n",
      " remove  specsim_20170610_202_spectrum.fits\n",
      " remove  specsim_20170610_203_spectrum.fits\n",
      " remove  specsim_20170610_204_spectrum.fits\n",
      " remove  specsim_20170610_205_spectrum.fits\n",
      " remove  specsim_20170610_206_spectrum.fits\n",
      " remove  specsim_20170610_211_spectrum.fits\n",
      " remove  specsim_20170610_212_spectrum.fits\n",
      " remove  specsim_20170610_213_spectrum.fits\n",
      " remove  specsim_20170610_214_spectrum.fits\n",
      " remove  specsim_20170610_215_spectrum.fits\n",
      " remove  specsim_20170610_216_spectrum.fits\n",
      " remove  specsim_20170610_217_spectrum.fits\n",
      " remove  specsim_20170610_218_spectrum.fits\n",
      " remove  specsim_20170610_223_spectrum.fits\n",
      " remove  specsim_20170610_224_spectrum.fits\n",
      " remove  specsim_20170610_225_spectrum.fits\n",
      " remove  specsim_20170610_226_spectrum.fits\n",
      " remove  specsim_20170610_227_spectrum.fits\n",
      " remove  specsim_20170610_228_spectrum.fits\n",
      " remove  specsim_20170610_229_spectrum.fits\n",
      " remove  specsim_20170610_230_spectrum.fits\n",
      " remove  specsim_20170610_235_spectrum.fits\n",
      " remove  specsim_20170610_236_spectrum.fits\n",
      " remove  specsim_20170610_237_spectrum.fits\n",
      " remove  specsim_20170610_238_spectrum.fits\n",
      " remove  specsim_20170610_239_spectrum.fits\n",
      " remove  specsim_20170610_240_spectrum.fits\n",
      " remove  specsim_20170610_241_spectrum.fits\n",
      " remove  specsim_20170610_242_spectrum.fits\n",
      " remove  specsim_20170610_247_spectrum.fits\n",
      " remove  specsim_20170610_248_spectrum.fits\n",
      " remove  specsim_20170610_249_spectrum.fits\n",
      " remove  specsim_20170610_250_spectrum.fits\n",
      " remove  specsim_20170610_251_spectrum.fits\n",
      " remove  specsim_20170610_252_spectrum.fits\n",
      " remove  specsim_20170610_253_spectrum.fits\n",
      " remove  specsim_20170610_254_spectrum.fits\n",
      " remove  specsim_20170610_259_spectrum.fits\n",
      " remove  specsim_20170610_260_spectrum.fits\n",
      " remove  specsim_20170610_261_spectrum.fits\n",
      " remove  specsim_20170610_262_spectrum.fits\n",
      " remove  specsim_20170610_263_spectrum.fits\n",
      " remove  specsim_20170610_264_spectrum.fits\n",
      " remove  specsim_20170610_265_spectrum.fits\n",
      " remove  specsim_20170610_266_spectrum.fits\n",
      " remove  specsim_20170610_271_spectrum.fits\n",
      " remove  specsim_20170610_272_spectrum.fits\n",
      " remove  specsim_20170610_273_spectrum.fits\n",
      " remove  specsim_20170610_274_spectrum.fits\n",
      " remove  specsim_20170610_275_spectrum.fits\n",
      " remove  specsim_20170610_276_spectrum.fits\n",
      " remove  specsim_20170610_277_spectrum.fits\n",
      " remove  specsim_20170610_278_spectrum.fits\n",
      " remove  specsim_20170610_283_spectrum.fits\n",
      " remove  specsim_20170610_284_spectrum.fits\n",
      " remove  specsim_20170610_285_spectrum.fits\n",
      " remove  specsim_20170610_286_spectrum.fits\n",
      " remove  specsim_20170610_287_spectrum.fits\n",
      " remove  specsim_20170610_288_spectrum.fits\n",
      " remove  specsim_20170610_289_spectrum.fits\n",
      " remove  specsim_20170610_290_spectrum.fits\n",
      " remove  specsim_20170610_295_spectrum.fits\n",
      " remove  specsim_20170610_296_spectrum.fits\n",
      " remove  specsim_20170610_297_spectrum.fits\n",
      " remove  specsim_20170610_298_spectrum.fits\n",
      " remove  specsim_20170610_299_spectrum.fits\n",
      " remove  specsim_20170610_300_spectrum.fits\n",
      " remove  specsim_20170610_301_spectrum.fits\n",
      " remove  specsim_20170610_302_spectrum.fits\n"
     ]
    }
   ],
   "source": [
    "file_toremove=[]\n",
    "SelectTagRe='^specsim_%s_([0-9]+)_spectrum.fits$' % (date)\n",
    "for ffn in all_simspectrafiles1:\n",
    "    fn=ffn.split('/')[-1]\n",
    "    sel_index= int(re.findall(SelectTagRe,fn)[0])\n",
    "    if sel_index in bad_indexes.values:\n",
    "        print ' remove ', fn\n",
    "        file_toremove.append(ffn)\n",
    "for f in file_toremove:\n",
    "    all_simspectrafiles1.remove(f)   "
   ]
  },
  {
   "cell_type": "code",
   "execution_count": 67,
   "metadata": {},
   "outputs": [
    {
     "name": "stdout",
     "output_type": "stream",
     "text": [
      " remove  specsim_20170610_139_spectrum.fits\n",
      " remove  specsim_20170610_140_spectrum.fits\n",
      " remove  specsim_20170610_141_spectrum.fits\n",
      " remove  specsim_20170610_142_spectrum.fits\n",
      " remove  specsim_20170610_143_spectrum.fits\n",
      " remove  specsim_20170610_144_spectrum.fits\n",
      " remove  specsim_20170610_145_spectrum.fits\n",
      " remove  specsim_20170610_146_spectrum.fits\n",
      " remove  specsim_20170610_151_spectrum.fits\n",
      " remove  specsim_20170610_152_spectrum.fits\n",
      " remove  specsim_20170610_153_spectrum.fits\n",
      " remove  specsim_20170610_154_spectrum.fits\n",
      " remove  specsim_20170610_155_spectrum.fits\n",
      " remove  specsim_20170610_156_spectrum.fits\n",
      " remove  specsim_20170610_157_spectrum.fits\n",
      " remove  specsim_20170610_158_spectrum.fits\n",
      " remove  specsim_20170610_163_spectrum.fits\n",
      " remove  specsim_20170610_164_spectrum.fits\n",
      " remove  specsim_20170610_165_spectrum.fits\n",
      " remove  specsim_20170610_166_spectrum.fits\n",
      " remove  specsim_20170610_167_spectrum.fits\n",
      " remove  specsim_20170610_168_spectrum.fits\n",
      " remove  specsim_20170610_169_spectrum.fits\n",
      " remove  specsim_20170610_170_spectrum.fits\n",
      " remove  specsim_20170610_175_spectrum.fits\n",
      " remove  specsim_20170610_176_spectrum.fits\n",
      " remove  specsim_20170610_177_spectrum.fits\n",
      " remove  specsim_20170610_178_spectrum.fits\n",
      " remove  specsim_20170610_179_spectrum.fits\n",
      " remove  specsim_20170610_180_spectrum.fits\n",
      " remove  specsim_20170610_181_spectrum.fits\n",
      " remove  specsim_20170610_182_spectrum.fits\n",
      " remove  specsim_20170610_187_spectrum.fits\n",
      " remove  specsim_20170610_188_spectrum.fits\n",
      " remove  specsim_20170610_189_spectrum.fits\n",
      " remove  specsim_20170610_190_spectrum.fits\n",
      " remove  specsim_20170610_191_spectrum.fits\n",
      " remove  specsim_20170610_192_spectrum.fits\n",
      " remove  specsim_20170610_193_spectrum.fits\n",
      " remove  specsim_20170610_194_spectrum.fits\n",
      " remove  specsim_20170610_199_spectrum.fits\n",
      " remove  specsim_20170610_200_spectrum.fits\n",
      " remove  specsim_20170610_201_spectrum.fits\n",
      " remove  specsim_20170610_202_spectrum.fits\n",
      " remove  specsim_20170610_203_spectrum.fits\n",
      " remove  specsim_20170610_204_spectrum.fits\n",
      " remove  specsim_20170610_205_spectrum.fits\n",
      " remove  specsim_20170610_206_spectrum.fits\n",
      " remove  specsim_20170610_211_spectrum.fits\n",
      " remove  specsim_20170610_212_spectrum.fits\n",
      " remove  specsim_20170610_213_spectrum.fits\n",
      " remove  specsim_20170610_214_spectrum.fits\n",
      " remove  specsim_20170610_215_spectrum.fits\n",
      " remove  specsim_20170610_216_spectrum.fits\n",
      " remove  specsim_20170610_217_spectrum.fits\n",
      " remove  specsim_20170610_218_spectrum.fits\n",
      " remove  specsim_20170610_223_spectrum.fits\n",
      " remove  specsim_20170610_224_spectrum.fits\n",
      " remove  specsim_20170610_225_spectrum.fits\n",
      " remove  specsim_20170610_226_spectrum.fits\n",
      " remove  specsim_20170610_227_spectrum.fits\n",
      " remove  specsim_20170610_228_spectrum.fits\n",
      " remove  specsim_20170610_229_spectrum.fits\n",
      " remove  specsim_20170610_230_spectrum.fits\n",
      " remove  specsim_20170610_235_spectrum.fits\n",
      " remove  specsim_20170610_236_spectrum.fits\n",
      " remove  specsim_20170610_237_spectrum.fits\n",
      " remove  specsim_20170610_238_spectrum.fits\n",
      " remove  specsim_20170610_239_spectrum.fits\n",
      " remove  specsim_20170610_240_spectrum.fits\n",
      " remove  specsim_20170610_241_spectrum.fits\n",
      " remove  specsim_20170610_242_spectrum.fits\n",
      " remove  specsim_20170610_247_spectrum.fits\n",
      " remove  specsim_20170610_248_spectrum.fits\n",
      " remove  specsim_20170610_249_spectrum.fits\n",
      " remove  specsim_20170610_250_spectrum.fits\n",
      " remove  specsim_20170610_251_spectrum.fits\n",
      " remove  specsim_20170610_252_spectrum.fits\n",
      " remove  specsim_20170610_253_spectrum.fits\n",
      " remove  specsim_20170610_254_spectrum.fits\n",
      " remove  specsim_20170610_259_spectrum.fits\n",
      " remove  specsim_20170610_260_spectrum.fits\n",
      " remove  specsim_20170610_261_spectrum.fits\n",
      " remove  specsim_20170610_262_spectrum.fits\n",
      " remove  specsim_20170610_263_spectrum.fits\n",
      " remove  specsim_20170610_264_spectrum.fits\n",
      " remove  specsim_20170610_265_spectrum.fits\n",
      " remove  specsim_20170610_266_spectrum.fits\n",
      " remove  specsim_20170610_271_spectrum.fits\n",
      " remove  specsim_20170610_272_spectrum.fits\n",
      " remove  specsim_20170610_273_spectrum.fits\n",
      " remove  specsim_20170610_274_spectrum.fits\n",
      " remove  specsim_20170610_275_spectrum.fits\n",
      " remove  specsim_20170610_276_spectrum.fits\n",
      " remove  specsim_20170610_277_spectrum.fits\n",
      " remove  specsim_20170610_278_spectrum.fits\n",
      " remove  specsim_20170610_283_spectrum.fits\n",
      " remove  specsim_20170610_284_spectrum.fits\n",
      " remove  specsim_20170610_285_spectrum.fits\n",
      " remove  specsim_20170610_286_spectrum.fits\n",
      " remove  specsim_20170610_287_spectrum.fits\n",
      " remove  specsim_20170610_288_spectrum.fits\n",
      " remove  specsim_20170610_289_spectrum.fits\n",
      " remove  specsim_20170610_290_spectrum.fits\n",
      " remove  specsim_20170610_295_spectrum.fits\n",
      " remove  specsim_20170610_296_spectrum.fits\n",
      " remove  specsim_20170610_297_spectrum.fits\n",
      " remove  specsim_20170610_298_spectrum.fits\n",
      " remove  specsim_20170610_299_spectrum.fits\n",
      " remove  specsim_20170610_300_spectrum.fits\n",
      " remove  specsim_20170610_301_spectrum.fits\n",
      " remove  specsim_20170610_302_spectrum.fits\n"
     ]
    }
   ],
   "source": [
    "file_toremove=[]\n",
    "SelectTagRe='^specsim_%s_([0-9]+)_spectrum.fits$' % (date)\n",
    "for ffn in all_simspectrafiles2:\n",
    "    fn=ffn.split('/')[-1]\n",
    "    sel_index= int(re.findall(SelectTagRe,fn)[0])\n",
    "    if sel_index in bad_indexes.values:\n",
    "        print ' remove ', fn\n",
    "        file_toremove.append(ffn)\n",
    "for f in file_toremove:\n",
    "    all_simspectrafiles2.remove(f)"
   ]
  },
  {
   "cell_type": "code",
   "execution_count": 68,
   "metadata": {},
   "outputs": [
    {
     "name": "stdout",
     "output_type": "stream",
     "text": [
      " remove  specsim_20170610_139_spectrum.fits\n",
      " remove  specsim_20170610_140_spectrum.fits\n",
      " remove  specsim_20170610_141_spectrum.fits\n",
      " remove  specsim_20170610_142_spectrum.fits\n",
      " remove  specsim_20170610_143_spectrum.fits\n",
      " remove  specsim_20170610_144_spectrum.fits\n",
      " remove  specsim_20170610_145_spectrum.fits\n",
      " remove  specsim_20170610_146_spectrum.fits\n",
      " remove  specsim_20170610_151_spectrum.fits\n",
      " remove  specsim_20170610_152_spectrum.fits\n",
      " remove  specsim_20170610_153_spectrum.fits\n",
      " remove  specsim_20170610_154_spectrum.fits\n",
      " remove  specsim_20170610_155_spectrum.fits\n",
      " remove  specsim_20170610_156_spectrum.fits\n",
      " remove  specsim_20170610_157_spectrum.fits\n",
      " remove  specsim_20170610_158_spectrum.fits\n",
      " remove  specsim_20170610_163_spectrum.fits\n",
      " remove  specsim_20170610_164_spectrum.fits\n",
      " remove  specsim_20170610_165_spectrum.fits\n",
      " remove  specsim_20170610_166_spectrum.fits\n",
      " remove  specsim_20170610_167_spectrum.fits\n",
      " remove  specsim_20170610_168_spectrum.fits\n",
      " remove  specsim_20170610_169_spectrum.fits\n",
      " remove  specsim_20170610_170_spectrum.fits\n",
      " remove  specsim_20170610_175_spectrum.fits\n",
      " remove  specsim_20170610_176_spectrum.fits\n",
      " remove  specsim_20170610_177_spectrum.fits\n",
      " remove  specsim_20170610_178_spectrum.fits\n",
      " remove  specsim_20170610_179_spectrum.fits\n",
      " remove  specsim_20170610_180_spectrum.fits\n",
      " remove  specsim_20170610_181_spectrum.fits\n",
      " remove  specsim_20170610_182_spectrum.fits\n",
      " remove  specsim_20170610_187_spectrum.fits\n",
      " remove  specsim_20170610_188_spectrum.fits\n",
      " remove  specsim_20170610_189_spectrum.fits\n",
      " remove  specsim_20170610_190_spectrum.fits\n",
      " remove  specsim_20170610_191_spectrum.fits\n",
      " remove  specsim_20170610_192_spectrum.fits\n",
      " remove  specsim_20170610_193_spectrum.fits\n",
      " remove  specsim_20170610_194_spectrum.fits\n",
      " remove  specsim_20170610_199_spectrum.fits\n",
      " remove  specsim_20170610_200_spectrum.fits\n",
      " remove  specsim_20170610_201_spectrum.fits\n",
      " remove  specsim_20170610_202_spectrum.fits\n",
      " remove  specsim_20170610_203_spectrum.fits\n",
      " remove  specsim_20170610_204_spectrum.fits\n",
      " remove  specsim_20170610_205_spectrum.fits\n",
      " remove  specsim_20170610_206_spectrum.fits\n",
      " remove  specsim_20170610_211_spectrum.fits\n",
      " remove  specsim_20170610_212_spectrum.fits\n",
      " remove  specsim_20170610_213_spectrum.fits\n",
      " remove  specsim_20170610_214_spectrum.fits\n",
      " remove  specsim_20170610_215_spectrum.fits\n",
      " remove  specsim_20170610_216_spectrum.fits\n",
      " remove  specsim_20170610_217_spectrum.fits\n",
      " remove  specsim_20170610_218_spectrum.fits\n",
      " remove  specsim_20170610_223_spectrum.fits\n",
      " remove  specsim_20170610_224_spectrum.fits\n",
      " remove  specsim_20170610_225_spectrum.fits\n",
      " remove  specsim_20170610_226_spectrum.fits\n",
      " remove  specsim_20170610_227_spectrum.fits\n",
      " remove  specsim_20170610_228_spectrum.fits\n",
      " remove  specsim_20170610_229_spectrum.fits\n",
      " remove  specsim_20170610_230_spectrum.fits\n",
      " remove  specsim_20170610_235_spectrum.fits\n",
      " remove  specsim_20170610_236_spectrum.fits\n",
      " remove  specsim_20170610_237_spectrum.fits\n",
      " remove  specsim_20170610_238_spectrum.fits\n",
      " remove  specsim_20170610_239_spectrum.fits\n",
      " remove  specsim_20170610_240_spectrum.fits\n",
      " remove  specsim_20170610_241_spectrum.fits\n",
      " remove  specsim_20170610_242_spectrum.fits\n",
      " remove  specsim_20170610_247_spectrum.fits\n",
      " remove  specsim_20170610_248_spectrum.fits\n",
      " remove  specsim_20170610_249_spectrum.fits\n",
      " remove  specsim_20170610_250_spectrum.fits\n",
      " remove  specsim_20170610_251_spectrum.fits\n",
      " remove  specsim_20170610_252_spectrum.fits\n",
      " remove  specsim_20170610_253_spectrum.fits\n",
      " remove  specsim_20170610_254_spectrum.fits\n",
      " remove  specsim_20170610_259_spectrum.fits\n",
      " remove  specsim_20170610_260_spectrum.fits\n",
      " remove  specsim_20170610_261_spectrum.fits\n",
      " remove  specsim_20170610_262_spectrum.fits\n",
      " remove  specsim_20170610_263_spectrum.fits\n",
      " remove  specsim_20170610_264_spectrum.fits\n",
      " remove  specsim_20170610_265_spectrum.fits\n",
      " remove  specsim_20170610_266_spectrum.fits\n",
      " remove  specsim_20170610_271_spectrum.fits\n",
      " remove  specsim_20170610_272_spectrum.fits\n",
      " remove  specsim_20170610_273_spectrum.fits\n",
      " remove  specsim_20170610_274_spectrum.fits\n",
      " remove  specsim_20170610_275_spectrum.fits\n",
      " remove  specsim_20170610_276_spectrum.fits\n",
      " remove  specsim_20170610_277_spectrum.fits\n",
      " remove  specsim_20170610_278_spectrum.fits\n",
      " remove  specsim_20170610_283_spectrum.fits\n",
      " remove  specsim_20170610_284_spectrum.fits\n",
      " remove  specsim_20170610_285_spectrum.fits\n",
      " remove  specsim_20170610_286_spectrum.fits\n",
      " remove  specsim_20170610_287_spectrum.fits\n",
      " remove  specsim_20170610_288_spectrum.fits\n",
      " remove  specsim_20170610_289_spectrum.fits\n",
      " remove  specsim_20170610_290_spectrum.fits\n",
      " remove  specsim_20170610_295_spectrum.fits\n",
      " remove  specsim_20170610_296_spectrum.fits\n",
      " remove  specsim_20170610_297_spectrum.fits\n",
      " remove  specsim_20170610_298_spectrum.fits\n",
      " remove  specsim_20170610_299_spectrum.fits\n",
      " remove  specsim_20170610_300_spectrum.fits\n",
      " remove  specsim_20170610_301_spectrum.fits\n",
      " remove  specsim_20170610_302_spectrum.fits\n"
     ]
    }
   ],
   "source": [
    "file_toremove=[]\n",
    "SelectTagRe='^specsim_%s_([0-9]+)_spectrum.fits$' % (date)\n",
    "for ffn in all_simspectrafiles3:\n",
    "    fn=ffn.split('/')[-1]\n",
    "    sel_index= int(re.findall(SelectTagRe,fn)[0])\n",
    "    if sel_index in bad_indexes.values:\n",
    "        print ' remove ', fn\n",
    "        file_toremove.append(ffn)\n",
    "for f in file_toremove:\n",
    "    all_simspectrafiles3.remove(f)"
   ]
  },
  {
   "cell_type": "markdown",
   "metadata": {},
   "source": [
    "# which filters"
   ]
  },
  {
   "cell_type": "code",
   "execution_count": 69,
   "metadata": {},
   "outputs": [
    {
     "data": {
      "image/png": "[encoded data removed]",
      "text/plain": [
       "<Figure size 360x216 with 1 Axes>"
      ]
     },
     "metadata": {},
     "output_type": "display_data"
    }
   ],
   "source": [
    "plt.figure(figsize=(5,3))\n",
    "sns.countplot(y='filter', data=sel2_obs)\n",
    "plt.grid(True)"
   ]
  },
  {
   "cell_type": "markdown",
   "metadata": {},
   "source": [
    "# which are the dispersers ?"
   ]
  },
  {
   "cell_type": "code",
   "execution_count": 70,
   "metadata": {},
   "outputs": [
    {
     "data": {
      "image/png": "[encoded data removed]",
      "text/plain": [
       "<Figure size 360x216 with 1 Axes>"
      ]
     },
     "metadata": {},
     "output_type": "display_data"
    }
   ],
   "source": [
    "plt.figure(figsize=(5,3))\n",
    "sns.countplot(y='disperser', data=sel2_obs)\n",
    "plt.grid(True)"
   ]
  },
  {
   "cell_type": "code",
   "execution_count": 71,
   "metadata": {},
   "outputs": [],
   "source": [
    "sel_obs_Ron400=sel2_obs.loc[sel2_obs['disperser'].isin(['Ron400'])]"
   ]
  },
  {
   "cell_type": "code",
   "execution_count": 72,
   "metadata": {},
   "outputs": [],
   "source": [
    "sel_obs_Thor300=sel2_obs.loc[sel2_obs['disperser'].isin(['Thor300'])]"
   ]
  },
  {
   "cell_type": "code",
   "execution_count": 73,
   "metadata": {},
   "outputs": [],
   "source": [
    "sel_obs_HoloPhP=sel2_obs.loc[sel2_obs['disperser'].isin(['HoloPhP'])]"
   ]
  },
  {
   "cell_type": "code",
   "execution_count": 74,
   "metadata": {},
   "outputs": [],
   "source": [
    "sel_obs_HoloPhAg=sel2_obs.loc[sel2_obs['disperser'].isin(['HoloPhAg'])]"
   ]
  },
  {
   "cell_type": "code",
   "execution_count": 75,
   "metadata": {},
   "outputs": [],
   "source": [
    "sel_obs_HoloAmAg=sel2_obs.loc[sel2_obs['disperser'].isin(['HoloAmAg'])]"
   ]
  },
  {
   "cell_type": "markdown",
   "metadata": {},
   "source": [
    "# Airmass vs Time"
   ]
  },
  {
   "cell_type": "code",
   "execution_count": 76,
   "metadata": {},
   "outputs": [
    {
     "data": {
      "image/png": "[encoded data removed]",
      "text/plain": [
       "<Figure size 1080x360 with 1 Axes>"
      ]
     },
     "metadata": {},
     "output_type": "display_data"
    }
   ],
   "source": [
    "plt.figure(figsize=(15,5))\n",
    "plt.plot(sel2_obs[\"index\"],Convert_InFloat(sel2_obs[\"airmass\"]),'bo')\n",
    "plt.xlabel(\"image index number\")\n",
    "plt.ylabel(\"airmass\")\n",
    "plt.title('Airmass vs image index number')\n",
    "plt.grid()"
   ]
  },
  {
   "cell_type": "markdown",
   "metadata": {},
   "source": [
    "# Show the spectra"
   ]
  },
  {
   "cell_type": "markdown",
   "metadata": {},
   "source": [
    "## Show the reconstructed spectra"
   ]
  },
  {
   "cell_type": "code",
   "execution_count": 77,
   "metadata": {},
   "outputs": [
    {
     "name": "stdout",
     "output_type": "stream",
     "text": [
      "^reduc_20170610_([0-9]+)_spectrum.fits$\n"
     ]
    }
   ],
   "source": [
    "SearchTagRe='^reduc_%s_([0-9]+)_spectrum.fits$' % (date)\n",
    "print SearchTagRe"
   ]
  },
  {
   "cell_type": "markdown",
   "metadata": {},
   "source": [
    "### Ronchi 400 spectra"
   ]
  },
  {
   "cell_type": "code",
   "execution_count": 78,
   "metadata": {},
   "outputs": [],
   "source": [
    "thetitle=\"Smoothed Reconstructed spectra for night \"+All_Subdirs[idx_sel_subdir]+\" target :\"+list_of_objects_str+\" Ronchi400\""
   ]
  },
  {
   "cell_type": "code",
   "execution_count": 79,
   "metadata": {},
   "outputs": [
    {
     "data": {
      "image/png": "[encoded data removed]",
      "text/plain": [
       "<Figure size 720x576 with 1 Axes>"
      ]
     },
     "metadata": {},
     "output_type": "display_data"
    }
   ],
   "source": [
    "PlotSpectraDataSimSmooth(all_spectrafiles,sel_obs_Ron400,SearchTagRe,wlshift,thetitle,FLAG_WL_CORRECTION,Flag_corr_wl=True,Wwidth=51)"
   ]
  },
  {
   "cell_type": "markdown",
   "metadata": {},
   "source": [
    "### Thor 300"
   ]
  },
  {
   "cell_type": "code",
   "execution_count": 80,
   "metadata": {},
   "outputs": [],
   "source": [
    "thetitle=\"Reconstructed smoothed spectra for night \"+All_Subdirs[idx_sel_subdir]+\" target :\"+list_of_objects_str+\" Thor300\""
   ]
  },
  {
   "cell_type": "code",
   "execution_count": 81,
   "metadata": {},
   "outputs": [
    {
     "ename": "IndexError",
     "evalue": "index 0 is out of bounds for axis 0 with size 0",
     "output_type": "error",
     "traceback": [
      "\u001b[0;31m---------------------------------------------------------------------------\u001b[0m",
      "\u001b[0;31mIndexError\u001b[0m                                Traceback (most recent call last)",
      "\u001b[0;32m<ipython-input-81-fe91031c253e>\u001b[0m in \u001b[0;36m<module>\u001b[0;34m()\u001b[0m\n\u001b[0;32m----> 1\u001b[0;31m \u001b[0mPlotSpectraDataSimSmooth\u001b[0m\u001b[0;34m(\u001b[0m\u001b[0mall_spectrafiles\u001b[0m\u001b[0;34m,\u001b[0m\u001b[0msel_obs_Thor300\u001b[0m\u001b[0;34m,\u001b[0m\u001b[0mSearchTagRe\u001b[0m\u001b[0;34m,\u001b[0m\u001b[0mwlshift\u001b[0m\u001b[0;34m,\u001b[0m\u001b[0mthetitle\u001b[0m\u001b[0;34m,\u001b[0m\u001b[0mFLAG_WL_CORRECTION\u001b[0m\u001b[0;34m,\u001b[0m\u001b[0mFlag_corr_wl\u001b[0m\u001b[0;34m=\u001b[0m\u001b[0mTrue\u001b[0m\u001b[0;34m,\u001b[0m\u001b[0mWwidth\u001b[0m\u001b[0;34m=\u001b[0m\u001b[0;36m51\u001b[0m\u001b[0;34m)\u001b[0m\u001b[0;34m\u001b[0m\u001b[0m\n\u001b[0m",
      "\u001b[0;32m/Users/dagoret/MacOSX/GitHub/LSST/SpectractorAnaAtm/common_tools/libspecana.pyc\u001b[0m in \u001b[0;36mPlotSpectraDataSimSmooth\u001b[0;34m(the_filelist, the_obs, the_searchtag, wlshift, the_title, FLAG_WL_CORRECTION, Flag_corr_wl, Wwidth)\u001b[0m\n\u001b[1;32m    498\u001b[0m         \u001b[0;32mif\u001b[0m \u001b[0midx\u001b[0m \u001b[0;32min\u001b[0m \u001b[0mthe_selected_indexes\u001b[0m\u001b[0;34m:\u001b[0m\u001b[0;34m\u001b[0m\u001b[0m\n\u001b[1;32m    499\u001b[0m             \u001b[0;32mif\u001b[0m \u001b[0mFLAG_WL_CORRECTION\u001b[0m \u001b[0;32mand\u001b[0m \u001b[0mFlag_corr_wl\u001b[0m\u001b[0;34m:\u001b[0m\u001b[0;34m\u001b[0m\u001b[0m\n\u001b[0;32m--> 500\u001b[0;31m                 \u001b[0mwl_correction\u001b[0m\u001b[0;34m=\u001b[0m\u001b[0mwlshift\u001b[0m\u001b[0;34m[\u001b[0m\u001b[0mwlshift\u001b[0m\u001b[0;34m[\u001b[0m\u001b[0;34m\"index\"\u001b[0m\u001b[0;34m]\u001b[0m\u001b[0;34m==\u001b[0m\u001b[0midx\u001b[0m\u001b[0;34m]\u001b[0m\u001b[0;34m.\u001b[0m\u001b[0mloc\u001b[0m\u001b[0;34m[\u001b[0m\u001b[0;34m:\u001b[0m\u001b[0;34m,\u001b[0m\u001b[0;34m\"wlshift\"\u001b[0m\u001b[0;34m]\u001b[0m\u001b[0;34m.\u001b[0m\u001b[0mvalues\u001b[0m\u001b[0;34m[\u001b[0m\u001b[0;36m0\u001b[0m\u001b[0;34m]\u001b[0m\u001b[0;34m\u001b[0m\u001b[0m\n\u001b[0m\u001b[1;32m    501\u001b[0m             \u001b[0;32melse\u001b[0m\u001b[0;34m:\u001b[0m\u001b[0;34m\u001b[0m\u001b[0m\n\u001b[1;32m    502\u001b[0m                 \u001b[0mwl_correction\u001b[0m\u001b[0;34m=\u001b[0m\u001b[0;36m0\u001b[0m\u001b[0;34m\u001b[0m\u001b[0m\n",
      "\u001b[0;31mIndexError\u001b[0m: index 0 is out of bounds for axis 0 with size 0"
     ]
    },
    {
     "data": {
      "image/png": "[encoded data removed]",
      "text/plain": [
       "<Figure size 720x576 with 1 Axes>"
      ]
     },
     "metadata": {},
     "output_type": "display_data"
    }
   ],
   "source": [
    "PlotSpectraDataSimSmooth(all_spectrafiles,sel_obs_Thor300,SearchTagRe,wlshift,thetitle,FLAG_WL_CORRECTION,Flag_corr_wl=True,Wwidth=51)"
   ]
  },
  {
   "cell_type": "markdown",
   "metadata": {},
   "source": [
    "### HoloPhP"
   ]
  },
  {
   "cell_type": "code",
   "execution_count": null,
   "metadata": {},
   "outputs": [],
   "source": [
    "thetitle=\"Reconstructed smooth spectra for night \"+All_Subdirs[idx_sel_subdir]+\" target :\"+list_of_objects_str+\" HoloPhP\""
   ]
  },
  {
   "cell_type": "code",
   "execution_count": null,
   "metadata": {},
   "outputs": [],
   "source": [
    "PlotSpectraDataSimSmooth(all_spectrafiles,sel_obs_HoloPhP,SearchTagRe,wlshift,thetitle,FLAG_WL_CORRECTION,Flag_corr_wl=True,Wwidth=51)"
   ]
  },
  {
   "cell_type": "markdown",
   "metadata": {},
   "source": [
    "### HoloPhAg"
   ]
  },
  {
   "cell_type": "code",
   "execution_count": null,
   "metadata": {},
   "outputs": [],
   "source": [
    "thetitle=\"Reconstructed smooth spectra for night \"+All_Subdirs[idx_sel_subdir]+\" target :\"+list_of_objects_str+\" HoloPhAg\""
   ]
  },
  {
   "cell_type": "code",
   "execution_count": null,
   "metadata": {},
   "outputs": [],
   "source": [
    "PlotSpectraDataSimSmooth(all_spectrafiles,sel_obs_HoloPhAg,SearchTagRe,wlshift,thetitle,FLAG_WL_CORRECTION,Flag_corr_wl=True,Wwidth=51)"
   ]
  },
  {
   "cell_type": "markdown",
   "metadata": {},
   "source": [
    "### HoloAmAg"
   ]
  },
  {
   "cell_type": "code",
   "execution_count": null,
   "metadata": {},
   "outputs": [],
   "source": [
    "thetitle=\"Reconstructed smoothed spectra for night \"+All_Subdirs[idx_sel_subdir]+\" target :\"+list_of_objects_str+\" HoloAmAg\""
   ]
  },
  {
   "cell_type": "code",
   "execution_count": null,
   "metadata": {},
   "outputs": [],
   "source": [
    "PlotSpectraDataSimSmooth(all_spectrafiles,sel_obs_HoloAmAg,SearchTagRe,wlshift,thetitle,FLAG_WL_CORRECTION,Flag_corr_wl=True,Wwidth=51)"
   ]
  },
  {
   "cell_type": "markdown",
   "metadata": {},
   "source": [
    "## Show the simulated spectra"
   ]
  },
  {
   "cell_type": "code",
   "execution_count": null,
   "metadata": {},
   "outputs": [],
   "source": [
    "SearchTagRe='^specsim_%s_([0-9]+)_spectrum.fits$' % (date)"
   ]
  },
  {
   "cell_type": "markdown",
   "metadata": {},
   "source": [
    "### Clear sky"
   ]
  },
  {
   "cell_type": "code",
   "execution_count": null,
   "metadata": {},
   "outputs": [],
   "source": [
    "thetitle=\"Smoothed sim spectra for night (clearsky) \"+All_Subdirs[idx_sel_subdir]+' target :'+list_of_objects_str"
   ]
  },
  {
   "cell_type": "code",
   "execution_count": null,
   "metadata": {},
   "outputs": [],
   "source": [
    "PlotSpectraDataSimSmooth(all_simspectrafiles1,sel2_obs,SearchTagRe,np.zeros(len(wlshift)),thetitle,FLAG_WL_CORRECTION,Flag_corr_wl=False,Wwidth=51)"
   ]
  },
  {
   "cell_type": "markdown",
   "metadata": {},
   "source": [
    "### standard sky"
   ]
  },
  {
   "cell_type": "code",
   "execution_count": null,
   "metadata": {},
   "outputs": [],
   "source": [
    "thetitle=\"Smoothed sim spectra for night (standard) \"+All_Subdirs[idx_sel_subdir]+' target :'+list_of_objects_str"
   ]
  },
  {
   "cell_type": "code",
   "execution_count": null,
   "metadata": {},
   "outputs": [],
   "source": [
    "PlotSpectraDataSimSmooth(all_simspectrafiles2,sel2_obs,SearchTagRe,np.zeros(len(wlshift)),thetitle,FLAG_WL_CORRECTION,Flag_corr_wl=False,Wwidth=51)"
   ]
  },
  {
   "cell_type": "markdown",
   "metadata": {},
   "source": [
    "### merra2 sky"
   ]
  },
  {
   "cell_type": "code",
   "execution_count": null,
   "metadata": {},
   "outputs": [],
   "source": [
    "thetitle=\"Smoothed sim spectra for night (merra2) \"+All_Subdirs[idx_sel_subdir]+' target :'+list_of_objects_str"
   ]
  },
  {
   "cell_type": "code",
   "execution_count": null,
   "metadata": {},
   "outputs": [],
   "source": [
    "PlotSpectraDataSimSmooth(all_simspectrafiles3,sel2_obs,SearchTagRe,np.zeros(len(wlshift)),thetitle,FLAG_WL_CORRECTION,Flag_corr_wl=False,Wwidth=51)"
   ]
  },
  {
   "cell_type": "markdown",
   "metadata": {},
   "source": [
    "# Attenuation"
   ]
  },
  {
   "cell_type": "markdown",
   "metadata": {},
   "source": [
    "## Ronchi 400"
   ]
  },
  {
   "cell_type": "code",
   "execution_count": null,
   "metadata": {},
   "outputs": [],
   "source": [
    "SearchTagRe='^reduc_%s_([0-9]+)_spectrum.fits$' % (date)"
   ]
  },
  {
   "cell_type": "code",
   "execution_count": null,
   "metadata": {},
   "outputs": [],
   "source": [
    "#thetitle=\"Attenuation 400-600 nm wrt airmass for night \"+All_Subdirs[idx_sel_subdir]+\" target :\"+list_of_objects_str+\" Ronchi400\""
   ]
  },
  {
   "cell_type": "code",
   "execution_count": null,
   "metadata": {},
   "outputs": [],
   "source": [
    "#PlotSpectraDataSimAttenuationSmooth(all_spectrafiles,sel_obs_Ron400,SearchTagRe,wlshift,thetitle,FLAG_WL_CORRECTION,Flag_corr_wl=True,XMIN=400,XMAX=1000.,YMIN=0,YMAX=0,ZMIN=400,ZMAX=600,Wwidth=51)   "
   ]
  },
  {
   "cell_type": "code",
   "execution_count": null,
   "metadata": {},
   "outputs": [],
   "source": [
    "#thetitle=\"Binned Attenuation 400-600 nm wrt airmass for night \"+All_Subdirs[idx_sel_subdir]+\" target :\"+list_of_objects_str+\" Ronchi400\""
   ]
  },
  {
   "cell_type": "code",
   "execution_count": null,
   "metadata": {},
   "outputs": [],
   "source": [
    "#PlotSpectraDataSimAttenuationSmoothBin(all_spectrafiles,sel_obs_Ron400,SearchTagRe,wlshift,thetitle,FLAG_WL_CORRECTION,Flag_corr_wl=True,XMIN=0,XMAX=0,YMIN=0,YMAX=0,ZMIN=400,ZMAX=600,Wwidth=21,Bwidth=20)   "
   ]
  },
  {
   "cell_type": "code",
   "execution_count": null,
   "metadata": {},
   "outputs": [],
   "source": [
    "#thetitle=\"Binned Attenuation 600-1000 nm wrt airmass for night \"+All_Subdirs[idx_sel_subdir]+\" target :\"+list_of_objects_str+\" Ronchi400\""
   ]
  },
  {
   "cell_type": "code",
   "execution_count": null,
   "metadata": {},
   "outputs": [],
   "source": [
    "#PlotSpectraDataSimAttenuationSmoothBin(all_spectrafiles,sel_obs_Ron400,SearchTagRe,wlshift,thetitle,FLAG_WL_CORRECTION,Flag_corr_wl=True,XMIN=0,XMAX=0,YMIN=0,YMAX=0,ZMIN=600,ZMAX=1000,Wwidth=21,Bwidth=20) "
   ]
  },
  {
   "cell_type": "markdown",
   "metadata": {},
   "source": [
    "## Thor300"
   ]
  },
  {
   "cell_type": "code",
   "execution_count": null,
   "metadata": {},
   "outputs": [],
   "source": [
    "thetitle=\"Attenuation 700-1000 nm wrt airmass for night \"+All_Subdirs[idx_sel_subdir]+\" target :\"+list_of_objects_str+\" Thor300\""
   ]
  },
  {
   "cell_type": "code",
   "execution_count": null,
   "metadata": {},
   "outputs": [],
   "source": [
    "PlotSpectraDataSimAttenuationSmooth(all_spectrafiles,sel_obs_Thor300,SearchTagRe,wlshift,thetitle,FLAG_WL_CORRECTION,Flag_corr_wl=True,XMIN=400,XMAX=1000.,YMIN=0,YMAX=0,ZMIN=700,ZMAX=1000,Wwidth=51)   "
   ]
  },
  {
   "cell_type": "code",
   "execution_count": null,
   "metadata": {},
   "outputs": [],
   "source": [
    "thetitle=\"Binned Attenuation 400-600 nm wrt airmass for night \"+All_Subdirs[idx_sel_subdir]+\" target :\"+list_of_objects_str+\" Thor300\""
   ]
  },
  {
   "cell_type": "code",
   "execution_count": null,
   "metadata": {},
   "outputs": [],
   "source": [
    "PlotSpectraDataSimAttenuationSmoothBin(all_spectrafiles,sel_obs_Thor300,SearchTagRe,wlshift,thetitle,FLAG_WL_CORRECTION,Flag_corr_wl=True,XMIN=0,XMAX=0,YMIN=0,YMAX=0,ZMIN=400,ZMAX=600,Wwidth=21,Bwidth=20)   "
   ]
  },
  {
   "cell_type": "code",
   "execution_count": null,
   "metadata": {},
   "outputs": [],
   "source": [
    "thetitle=\"Binned Attenuation 700-1000 nm wrt airmass for night \"+All_Subdirs[idx_sel_subdir]+\" target :\"+list_of_objects_str+\" Thor300\""
   ]
  },
  {
   "cell_type": "code",
   "execution_count": null,
   "metadata": {},
   "outputs": [],
   "source": [
    "PlotSpectraDataSimAttenuationSmoothBin(all_spectrafiles,sel_obs_Thor300,SearchTagRe,wlshift,thetitle,FLAG_WL_CORRECTION,Flag_corr_wl=True,XMIN=0,XMAX=0,YMIN=0,YMAX=0,ZMIN=700,ZMAX=1000,Wwidth=21,Bwidth=20)   "
   ]
  },
  {
   "cell_type": "markdown",
   "metadata": {},
   "source": [
    "## HoloPhP"
   ]
  },
  {
   "cell_type": "code",
   "execution_count": null,
   "metadata": {},
   "outputs": [],
   "source": [
    "thetitle=\"Attenuation 700-1000 nm wrt airmass for night \"+All_Subdirs[idx_sel_subdir]+\" target :\"+list_of_objects_str+\" HoloPhP\""
   ]
  },
  {
   "cell_type": "code",
   "execution_count": null,
   "metadata": {},
   "outputs": [],
   "source": [
    "PlotSpectraDataSimAttenuationSmooth(all_spectrafiles,sel_obs_HoloPhP,SearchTagRe,wlshift,thetitle,FLAG_WL_CORRECTION,Flag_corr_wl=True,XMIN=400,XMAX=1000.,YMIN=0,YMAX=0,ZMIN=700,ZMAX=1000,Wwidth=51)   "
   ]
  },
  {
   "cell_type": "code",
   "execution_count": null,
   "metadata": {},
   "outputs": [],
   "source": [
    "thetitle=\"Binned Attenuation 700-1000 nm wrt airmass for night \"+All_Subdirs[idx_sel_subdir]+\" target :\"+list_of_objects_str+\" HoloPhP\""
   ]
  },
  {
   "cell_type": "code",
   "execution_count": null,
   "metadata": {},
   "outputs": [],
   "source": [
    "PlotSpectraDataSimAttenuationSmoothBin(all_spectrafiles,sel_obs_HoloPhP,SearchTagRe,wlshift,thetitle,FLAG_WL_CORRECTION,Flag_corr_wl=True,XMIN=0,XMAX=0,YMIN=0,YMAX=0,ZMIN=700,ZMAX=1000,Wwidth=21,Bwidth=20)   "
   ]
  },
  {
   "cell_type": "code",
   "execution_count": null,
   "metadata": {},
   "outputs": [],
   "source": [
    "thetitle=\"Binned Attenuation 700-1000 nm wrt airmass for night \"+All_Subdirs[idx_sel_subdir]+\" target :\"+list_of_objects_str+\" HoloPhP\""
   ]
  },
  {
   "cell_type": "code",
   "execution_count": null,
   "metadata": {},
   "outputs": [],
   "source": [
    "PlotSpectraDataSimAttenuationSmoothBin(all_spectrafiles,sel_obs_HoloPhP,SearchTagRe,wlshift,thetitle,FLAG_WL_CORRECTION,Flag_corr_wl=True,XMIN=0,XMAX=0,YMIN=0,YMAX=0,ZMIN=700,ZMAX=1000,Wwidth=21,Bwidth=20)   "
   ]
  },
  {
   "cell_type": "markdown",
   "metadata": {},
   "source": [
    "## HoloPhAg"
   ]
  },
  {
   "cell_type": "code",
   "execution_count": null,
   "metadata": {},
   "outputs": [],
   "source": [
    "thetitle=\"Attenuation 700-1000 nm wrt airmass for night \"+All_Subdirs[idx_sel_subdir]+\" target :\"+list_of_objects_str+\" HoloPhAg\""
   ]
  },
  {
   "cell_type": "code",
   "execution_count": null,
   "metadata": {},
   "outputs": [],
   "source": [
    "PlotSpectraDataSimAttenuationSmooth(all_spectrafiles,sel_obs_HoloPhAg,SearchTagRe,wlshift,thetitle,FLAG_WL_CORRECTION,Flag_corr_wl=True,XMIN=400,XMAX=1000.,YMIN=0,YMAX=0,ZMIN=700,ZMAX=1000,Wwidth=51)   "
   ]
  },
  {
   "cell_type": "code",
   "execution_count": null,
   "metadata": {},
   "outputs": [],
   "source": [
    "thetitle=\"Binned Attenuation 700-1000 nm wrt airmass for night \"+All_Subdirs[idx_sel_subdir]+\" target :\"+list_of_objects_str+\" HoloPhAg\""
   ]
  },
  {
   "cell_type": "code",
   "execution_count": null,
   "metadata": {},
   "outputs": [],
   "source": [
    "PlotSpectraDataSimAttenuationSmoothBin(all_spectrafiles,sel_obs_HoloPhAg,SearchTagRe,wlshift,thetitle,FLAG_WL_CORRECTION,Flag_corr_wl=True,XMIN=0,XMAX=0,YMIN=0,YMAX=0,ZMIN=700,ZMAX=1000,Wwidth=21,Bwidth=20)   "
   ]
  },
  {
   "cell_type": "code",
   "execution_count": null,
   "metadata": {},
   "outputs": [],
   "source": [
    "thetitle=\"Binned Attenuation 700-1000 nm wrt airmass for night \"+All_Subdirs[idx_sel_subdir]+\" target :\"+list_of_objects_str+\" HoloPhAg\""
   ]
  },
  {
   "cell_type": "code",
   "execution_count": null,
   "metadata": {},
   "outputs": [],
   "source": [
    "PlotSpectraDataSimAttenuationSmoothBin(all_spectrafiles,sel_obs_HoloPhAg,SearchTagRe,wlshift,thetitle,FLAG_WL_CORRECTION,Flag_corr_wl=True,XMIN=0,XMAX=0,YMIN=0,YMAX=0,ZMIN=700,ZMAX=1000,Wwidth=21,Bwidth=20)   "
   ]
  },
  {
   "cell_type": "markdown",
   "metadata": {},
   "source": [
    "## HoloAmAg"
   ]
  },
  {
   "cell_type": "code",
   "execution_count": null,
   "metadata": {},
   "outputs": [],
   "source": [
    "thetitle=\"Attenuation 700-1000 nm wrt airmass for night \"+All_Subdirs[idx_sel_subdir]+\" target :\"+list_of_objects_str+\" HoloAmAg\""
   ]
  },
  {
   "cell_type": "code",
   "execution_count": null,
   "metadata": {},
   "outputs": [],
   "source": [
    "PlotSpectraDataSimAttenuationSmooth(all_spectrafiles,sel_obs_HoloAmAg,SearchTagRe,wlshift,thetitle,FLAG_WL_CORRECTION,Flag_corr_wl=True,XMIN=400,XMAX=1000.,YMIN=0,YMAX=0,ZMIN=700,ZMAX=1000,Wwidth=51)   "
   ]
  },
  {
   "cell_type": "code",
   "execution_count": null,
   "metadata": {},
   "outputs": [],
   "source": [
    "thetitle=\"Binned Attenuation 700-1000 nm wrt airmass for night \"+All_Subdirs[idx_sel_subdir]+\" target :\"+list_of_objects_str+\" HoloAmAg\""
   ]
  },
  {
   "cell_type": "code",
   "execution_count": null,
   "metadata": {},
   "outputs": [],
   "source": [
    "PlotSpectraDataSimAttenuationSmoothBin(all_spectrafiles,sel_obs_HoloAmAg,SearchTagRe,wlshift,thetitle,FLAG_WL_CORRECTION,Flag_corr_wl=True,XMIN=0,XMAX=0,YMIN=0,YMAX=0,ZMIN=700,ZMAX=1000,Wwidth=21,Bwidth=20)   "
   ]
  },
  {
   "cell_type": "code",
   "execution_count": null,
   "metadata": {},
   "outputs": [],
   "source": [
    "thetitle=\"Binned Attenuation 700-1000 nm wrt airmass for night \"+All_Subdirs[idx_sel_subdir]+\" target :\"+list_of_objects_str+\" HoloAmAg\""
   ]
  },
  {
   "cell_type": "code",
   "execution_count": null,
   "metadata": {},
   "outputs": [],
   "source": [
    "PlotSpectraDataSimAttenuationSmoothBin(all_spectrafiles,sel_obs_HoloAmAg,SearchTagRe,wlshift,thetitle,FLAG_WL_CORRECTION,Flag_corr_wl=True,XMIN=0,XMAX=0,YMIN=0,YMAX=0,ZMIN=700,ZMAX=1000,Wwidth=21,Bwidth=20)   "
   ]
  },
  {
   "cell_type": "markdown",
   "metadata": {},
   "source": [
    "# Simulation"
   ]
  },
  {
   "cell_type": "code",
   "execution_count": null,
   "metadata": {},
   "outputs": [],
   "source": [
    "%matplotlib inline\n",
    "%load_ext autoreload\n",
    "%autoreload 2"
   ]
  },
  {
   "cell_type": "code",
   "execution_count": null,
   "metadata": {},
   "outputs": [],
   "source": [
    "#SearchTagRe='^reduc_%s_([0-9]+)_spectrum.fits$' % (date)\n",
    "SearchTagRe='^specsim_%s_([0-9]+)_spectrum.fits$' % (date)"
   ]
  },
  {
   "cell_type": "markdown",
   "metadata": {},
   "source": [
    "## Simulation with ClearSky"
   ]
  },
  {
   "cell_type": "code",
   "execution_count": null,
   "metadata": {},
   "outputs": [],
   "source": [
    "thetitle=\"Attenuation 700-1000 nm wrt airmass for night \"+All_Subdirs[idx_sel_subdir]+\" target :\"+list_of_objects_str+\" Simulation ClearSky\""
   ]
  },
  {
   "cell_type": "code",
   "execution_count": null,
   "metadata": {},
   "outputs": [],
   "source": [
    "PlotSpectraDataSimAttenuationSmooth(all_simspectrafiles1,sel2_obs,SearchTagRe,np.zeros(len(wlshift)),thetitle,FLAG_WL_CORRECTION,Flag_corr_wl=False,XMIN=400,XMAX=1000.,YMIN=0,YMAX=0,ZMIN=700,ZMAX=1000,Wwidth=51)   "
   ]
  },
  {
   "cell_type": "code",
   "execution_count": null,
   "metadata": {},
   "outputs": [],
   "source": [
    "thetitle=\"Attenuation 700-1000 nm wrt airmass for night \"+All_Subdirs[idx_sel_subdir]+\" target :\"+list_of_objects_str+\" Simulation ClearSky\""
   ]
  },
  {
   "cell_type": "code",
   "execution_count": null,
   "metadata": {},
   "outputs": [],
   "source": [
    "PlotSpectraDataSimAttenuationSmooth(all_simspectrafiles1,sel2_obs,SearchTagRe,np.zeros(len(wlshift)),thetitle,FLAG_WL_CORRECTION,Flag_corr_wl=False,XMIN=0,XMAX=0,YMIN=0,YMAX=0,ZMIN=700,ZMAX=1000,Wwidth=51)   "
   ]
  },
  {
   "cell_type": "code",
   "execution_count": null,
   "metadata": {},
   "outputs": [],
   "source": [
    "thetitle=\"Binned Attenuation 400-600 nm wrt airmass for night \"+All_Subdirs[idx_sel_subdir]+\" target :\"+list_of_objects_str+\" Simulation ClearSky\""
   ]
  },
  {
   "cell_type": "code",
   "execution_count": null,
   "metadata": {},
   "outputs": [],
   "source": [
    "PlotSpectraDataSimAttenuationSmoothBin(all_simspectrafiles1,sel2_obs,SearchTagRe,np.zeros(len(wlshift)),thetitle,FLAG_WL_CORRECTION,Flag_corr_wl=False,XMIN=0,XMAX=0,YMIN=0,YMAX=0,ZMIN=400,ZMAX=600,Wwidth=21,Bwidth=20) "
   ]
  },
  {
   "cell_type": "code",
   "execution_count": null,
   "metadata": {},
   "outputs": [],
   "source": [
    "thetitle=\"Binned Attenuation 700-1000 nm wrt airmass for night \"+All_Subdirs[idx_sel_subdir]+\" target :\"+list_of_objects_str+\" Simulation ClearSky\""
   ]
  },
  {
   "cell_type": "code",
   "execution_count": null,
   "metadata": {},
   "outputs": [],
   "source": [
    "PlotSpectraDataSimAttenuationSmoothBin(all_simspectrafiles1,sel2_obs,SearchTagRe,np.zeros(len(wlshift)),thetitle,FLAG_WL_CORRECTION,Flag_corr_wl=False,XMIN=0,XMAX=0,YMIN=0,YMAX=0,ZMIN=700,ZMAX=1000,Wwidth=21,Bwidth=20) "
   ]
  },
  {
   "cell_type": "markdown",
   "metadata": {},
   "source": [
    "## Simulation with average Sky"
   ]
  },
  {
   "cell_type": "code",
   "execution_count": null,
   "metadata": {},
   "outputs": [],
   "source": [
    "thetitle=\"Binned Attenuation 400-600 nm wrt airmass for night \"+All_Subdirs[idx_sel_subdir]+\" target :\"+list_of_objects_str+\" Simulation Average Sky\""
   ]
  },
  {
   "cell_type": "code",
   "execution_count": null,
   "metadata": {
    "scrolled": true
   },
   "outputs": [],
   "source": [
    "PlotSpectraDataSimAttenuationSmoothBin(all_simspectrafiles2,sel2_obs,SearchTagRe,np.zeros(len(wlshift)),thetitle,FLAG_WL_CORRECTION,Flag_corr_wl=False,XMIN=0,XMAX=0,YMIN=0,YMAX=0,ZMIN=400,ZMAX=600,Wwidth=21,Bwidth=20) "
   ]
  },
  {
   "cell_type": "code",
   "execution_count": null,
   "metadata": {},
   "outputs": [],
   "source": [
    "thetitle=\"Binned Attenuation 700-1000 nm wrt airmass for night \"+All_Subdirs[idx_sel_subdir]+\" target :\"+list_of_objects_str+\" Simulation Average Sky\""
   ]
  },
  {
   "cell_type": "code",
   "execution_count": null,
   "metadata": {},
   "outputs": [],
   "source": [
    "PlotSpectraDataSimAttenuationSmoothBin(all_simspectrafiles2,sel2_obs,SearchTagRe,np.zeros(len(wlshift)),thetitle,FLAG_WL_CORRECTION,Flag_corr_wl=False,XMIN=0,XMAX=0,YMIN=0,YMAX=0,ZMIN=700,ZMAX=1000,Wwidth=21,Bwidth=20) "
   ]
  },
  {
   "cell_type": "markdown",
   "metadata": {},
   "source": [
    "## Simulation with MERRA2 Sky"
   ]
  },
  {
   "cell_type": "code",
   "execution_count": null,
   "metadata": {},
   "outputs": [],
   "source": [
    "thetitle=\"Binned Attenuation 700-1000 nm wrt airmass for night \"+All_Subdirs[idx_sel_subdir]+\" target :\"+list_of_objects_str+\" Simulation MERRA2 Sky\""
   ]
  },
  {
   "cell_type": "code",
   "execution_count": null,
   "metadata": {},
   "outputs": [],
   "source": [
    "PlotSpectraDataSimAttenuationSmoothBin(all_simspectrafiles3,sel2_obs,SearchTagRe,np.zeros(len(wlshift)),thetitle,FLAG_WL_CORRECTION,Flag_corr_wl=False,XMIN=0,XMAX=0,YMIN=0,YMAX=0,ZMIN=700,ZMAX=1000,Wwidth=21,Bwidth=20) "
   ]
  },
  {
   "cell_type": "code",
   "execution_count": null,
   "metadata": {},
   "outputs": [],
   "source": []
  }
 ],
 "metadata": {
  "kernelspec": {
   "display_name": "Python 2",
   "language": "python",
   "name": "python2"
  },
  "language_info": {
   "codemirror_mode": {
    "name": "ipython",
    "version": 2
   },
   "file_extension": ".py",
   "mimetype": "text/x-python",
   "name": "python",
   "nbconvert_exporter": "python",
   "pygments_lexer": "ipython2",
   "version": "2.7.14"
  },
  "toc": {
   "nav_menu": {},
   "number_sections": true,
   "sideBar": true,
   "skip_h1_title": false,
   "toc_cell": false,
   "toc_position": {},
   "toc_section_display": "block",
   "toc_window_display": false
  }
 },
 "nbformat": 4,
 "nbformat_minor": 2
}
