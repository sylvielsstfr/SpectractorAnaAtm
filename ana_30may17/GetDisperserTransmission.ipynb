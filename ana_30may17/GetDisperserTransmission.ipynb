{
 "cells": [
  {
   "cell_type": "markdown",
   "metadata": {},
   "source": [
    "# Show the Data Spectra and Compare it with simulations"
   ]
  },
  {
   "cell_type": "markdown",
   "metadata": {},
   "source": [
    "- need to increase the number of files to be open:\n",
    "\n",
    "    ulimit -a\n",
    "    \n",
    "    ulimit -n 2048\n",
    "    \n",
    "    ulimit -Sn 10000"
   ]
  },
  {
   "cell_type": "code",
   "execution_count": 1,
   "metadata": {},
   "outputs": [
    {
     "name": "stdout",
     "output_type": "stream",
     "text": [
      "core file size          (blocks, -c) 0\r\n",
      "data seg size           (kbytes, -d) unlimited\r\n",
      "file size               (blocks, -f) unlimited\r\n",
      "max locked memory       (kbytes, -l) unlimited\r\n",
      "max memory size         (kbytes, -m) unlimited\r\n",
      "open files                      (-n) 2048\r\n",
      "pipe size            (512 bytes, -p) 1\r\n",
      "stack size              (kbytes, -s) 8192\r\n",
      "cpu time               (seconds, -t) unlimited\r\n",
      "max user processes              (-u) 1418\r\n",
      "virtual memory          (kbytes, -v) unlimited\r\n"
     ]
    }
   ],
   "source": [
    "!ulimit -a"
   ]
  },
  {
   "cell_type": "markdown",
   "metadata": {},
   "source": [
    "## Setup"
   ]
  },
  {
   "cell_type": "markdown",
   "metadata": {},
   "source": [
    "### Notebook style"
   ]
  },
  {
   "cell_type": "code",
   "execution_count": 2,
   "metadata": {},
   "outputs": [
    {
     "data": {
      "text/html": [
       "<style>\n",
       "    @font-face {\n",
       "        font-family: \"Computer Modern\";\n",
       "        src: url('http://mirrors.ctan.org/fonts/cm-unicode/fonts/otf/cmunss.otf');\n",
       "    }\n",
       "    div.cell{\n",
       "        width: 90%;\n",
       "/*        margin-left:auto;*/\n",
       "/*        margin-right:auto;*/\n",
       "    }\n",
       "    ul {\n",
       "        line-height: 145%;\n",
       "        font-size: 90%;\n",
       "    }\n",
       "    li {\n",
       "        margin-bottom: 1em;\n",
       "    }\n",
       "    h1 {\n",
       "        font-family: Helvetica, serif;\n",
       "    }\n",
       "    h4{\n",
       "        margin-top: 12px;\n",
       "        margin-bottom: 3px;\n",
       "       }\n",
       "    div.text_cell_render{\n",
       "        font-family: Computer Modern, \"Helvetica Neue\", Arial, Helvetica, Geneva, sans-serif;\n",
       "        line-height: 145%;\n",
       "        font-size: 130%;\n",
       "        width: 90%;\n",
       "        margin-left:auto;\n",
       "        margin-right:auto;\n",
       "    }\n",
       "    .CodeMirror{\n",
       "            font-family: \"Source Code Pro\", source-code-pro,Consolas, monospace;\n",
       "    }\n",
       "/*    .prompt{\n",
       "        display: None;\n",
       "    }*/\n",
       "    .text_cell_render h5 {\n",
       "        font-weight: 300;\n",
       "        font-size: 16pt;\n",
       "        color: #4057A1;\n",
       "        font-style: italic;\n",
       "        margin-bottom: 0.5em;\n",
       "        margin-top: 0.5em;\n",
       "        display: block;\n",
       "    }\n",
       "\n",
       "    .warning{\n",
       "        color: rgb( 240, 20, 20 )\n",
       "        }\n",
       "</style>\n",
       "<script>\n",
       "    MathJax.Hub.Config({\n",
       "                        TeX: {\n",
       "                           extensions: [\"AMSmath.js\"]\n",
       "                           },\n",
       "                tex2jax: {\n",
       "                    inlineMath: [ ['$','$'], [\"\\\\(\",\"\\\\)\"] ],\n",
       "                    displayMath: [ ['$$','$$'], [\"\\\\[\",\"\\\\]\"] ]\n",
       "                },\n",
       "                displayAlign: 'center', // Change this to 'center' to center equations.\n",
       "                \"HTML-CSS\": {\n",
       "                    styles: {'.MathJax_Display': {\"margin\": 4}}\n",
       "                }\n",
       "        });\n",
       "</script>"
      ],
      "text/plain": [
       "<IPython.core.display.HTML object>"
      ]
     },
     "execution_count": 2,
     "metadata": {},
     "output_type": "execute_result"
    }
   ],
   "source": [
    "from IPython.core.display import HTML\n",
    "def css_styling():\n",
    "    styles = open(\"../styles/custom.css\", \"r\").read()\n",
    "    return HTML(styles)\n",
    "css_styling()"
   ]
  },
  {
   "cell_type": "markdown",
   "metadata": {},
   "source": [
    "### import"
   ]
  },
  {
   "cell_type": "code",
   "execution_count": 3,
   "metadata": {},
   "outputs": [],
   "source": [
    "import matplotlib.pyplot as plt\n",
    "import sys\n",
    "import os\n",
    "import pandas as pd\n",
    "import glob\n",
    "from matplotlib.backends.backend_pdf import PdfPages "
   ]
  },
  {
   "cell_type": "code",
   "execution_count": 4,
   "metadata": {},
   "outputs": [],
   "source": [
    "import seaborn as sns"
   ]
  },
  {
   "cell_type": "code",
   "execution_count": 5,
   "metadata": {},
   "outputs": [],
   "source": [
    "%matplotlib inline\n",
    "%load_ext autoreload\n",
    "%autoreload 2"
   ]
  },
  {
   "cell_type": "markdown",
   "metadata": {},
   "source": [
    "### Figure style"
   ]
  },
  {
   "cell_type": "code",
   "execution_count": 6,
   "metadata": {},
   "outputs": [],
   "source": [
    "# to enlarge the sizes\n",
    "params = {'legend.fontsize': 'x-large',\n",
    "          'figure.figsize': (15, 10),   #defines the default image size\n",
    "         'axes.labelsize': 'x-large',\n",
    "         'axes.titlesize':'x-large',\n",
    "         'xtick.labelsize':'x-large',\n",
    "         'ytick.labelsize':'x-large'}\n",
    "plt.rcParams.update(params)"
   ]
  },
  {
   "cell_type": "code",
   "execution_count": 7,
   "metadata": {},
   "outputs": [],
   "source": [
    "plt.rcParams.update({'figure.max_open_warning': 0}) # to see a large number of files"
   ]
  },
  {
   "cell_type": "markdown",
   "metadata": {},
   "source": [
    "## Initialisation"
   ]
  },
  {
   "cell_type": "markdown",
   "metadata": {},
   "source": [
    "### Spectractor"
   ]
  },
  {
   "cell_type": "code",
   "execution_count": 8,
   "metadata": {},
   "outputs": [],
   "source": [
    "PATH_SPECTRACTOR='../../Spectractor'\n",
    "PATH_SPECTRACTORSIM='../../SpectractorSim'\n",
    "PATH_GMAOMERRA='../merra2'"
   ]
  },
  {
   "cell_type": "code",
   "execution_count": 9,
   "metadata": {},
   "outputs": [],
   "source": [
    "sys.path.append(PATH_SPECTRACTOR)\n",
    "sys.path.append(PATH_SPECTRACTORSIM)\n",
    "sys.path.append(PATH_GMAOMERRA)"
   ]
  },
  {
   "cell_type": "code",
   "execution_count": 10,
   "metadata": {},
   "outputs": [],
   "source": [
    "from spectractor import *"
   ]
  },
  {
   "cell_type": "markdown",
   "metadata": {},
   "source": [
    "## Input spectra"
   ]
  },
  {
   "cell_type": "markdown",
   "metadata": {},
   "source": [
    "### LogBook"
   ]
  },
  {
   "cell_type": "code",
   "execution_count": 11,
   "metadata": {},
   "outputs": [],
   "source": [
    "file_logbook_csv=os.path.join(PATH_SPECTRACTOR,'ctiofulllogbook_jun2017_v4.csv')"
   ]
  },
  {
   "cell_type": "code",
   "execution_count": 12,
   "metadata": {},
   "outputs": [],
   "source": [
    "df_ctio_lbk=pd.read_csv(file_logbook_csv,sep=';')"
   ]
  },
  {
   "cell_type": "code",
   "execution_count": 13,
   "metadata": {},
   "outputs": [
    {
     "data": {
      "text/plain": [
       "Index([u'Unnamed: 0', u'date', u'subdir', u'index', u'object', u'filter',\n",
       "       u'disperser', u'airmass', u'exposure', u'focus', u'seeing', u'P', u'T',\n",
       "       u'RH', u'W', u'file', u'Obj-posXpix', u'Obj-posYpix', u'Dx', u'Dy',\n",
       "       u'comment', u'skip'],\n",
       "      dtype='object')"
      ]
     },
     "execution_count": 13,
     "metadata": {},
     "output_type": "execute_result"
    }
   ],
   "source": [
    "df_ctio_lbk.columns"
   ]
  },
  {
   "cell_type": "code",
   "execution_count": 14,
   "metadata": {},
   "outputs": [],
   "source": [
    "df_ctio_lbk=df_ctio_lbk.reindex(columns=['date','index','P','T','RH','airmass','seeing','exposure','object','filter','disperser','focus','W','subdir','file']).set_index('date').sort_index()"
   ]
  },
  {
   "cell_type": "markdown",
   "metadata": {},
   "source": [
    "### Spectra Data"
   ]
  },
  {
   "cell_type": "code",
   "execution_count": 15,
   "metadata": {},
   "outputs": [],
   "source": [
    "home=os.getenv('HOME')"
   ]
  },
  {
   "cell_type": "code",
   "execution_count": 16,
   "metadata": {},
   "outputs": [],
   "source": [
    "path_data=os.path.join(home,'DATA/CTIODataJune2017_reduced_RG715_v2_prod1')\n",
    "#path_data=os.path.join('/sps/lsst/data/AtmosphericCalibration','CTIODataJune2017_reduced_RG715_v2_prod1')"
   ]
  },
  {
   "cell_type": "code",
   "execution_count": 17,
   "metadata": {},
   "outputs": [],
   "source": [
    "All_Subdirs=np.array(['data_28may17','data_29may17','data_30may17','data_31may17','data_01jun17','data_02jun17',\n",
    "            'data_03jun17','data_04jun17','data_06jun17','data_08jun17','data_09jun17','data_10jun17',\n",
    "            'data_12jun17','data_13jun17'])"
   ]
  },
  {
   "cell_type": "code",
   "execution_count": 18,
   "metadata": {},
   "outputs": [],
   "source": [
    "Flag_Photometric_Nights=np.array([False,False,True,False,False,False,False,False,False,True,False,True,True,False])"
   ]
  },
  {
   "cell_type": "code",
   "execution_count": 19,
   "metadata": {},
   "outputs": [],
   "source": [
    "photometric_indexes=np.where(Flag_Photometric_Nights)[0]"
   ]
  },
  {
   "cell_type": "code",
   "execution_count": 20,
   "metadata": {},
   "outputs": [
    {
     "name": "stdout",
     "output_type": "stream",
     "text": [
      "Photometric indexes :  [ 2  9 11 12]\n"
     ]
    }
   ],
   "source": [
    "print 'Photometric indexes : ',photometric_indexes"
   ]
  },
  {
   "cell_type": "code",
   "execution_count": 21,
   "metadata": {},
   "outputs": [
    {
     "name": "stdout",
     "output_type": "stream",
     "text": [
      "Photometric nights :  ['data_30may17' 'data_08jun17' 'data_10jun17' 'data_12jun17']\n"
     ]
    }
   ],
   "source": [
    "print 'Photometric nights : ',All_Subdirs[photometric_indexes]"
   ]
  },
  {
   "cell_type": "markdown",
   "metadata": {},
   "source": [
    "### Sim spectra"
   ]
  },
  {
   "cell_type": "code",
   "execution_count": 22,
   "metadata": {},
   "outputs": [
    {
     "data": {
      "text/plain": [
       "'../../SpectractorSim'"
      ]
     },
     "execution_count": 22,
     "metadata": {},
     "output_type": "execute_result"
    }
   ],
   "source": [
    "PATH_SPECTRACTORSIM"
   ]
  },
  {
   "cell_type": "code",
   "execution_count": 23,
   "metadata": {},
   "outputs": [],
   "source": [
    "path_sim=os.path.join(PATH_SPECTRACTORSIM,'sim_prod/CTIODataJune2017_reduced_RG715_v2_prod1_SimSpectra')\n",
    "#path_sim=PATH_SPECTRACTORSIM+'/sim_prod/CTIODataJune2017_reduced_RG715_v2_prod1_SimSpectra'"
   ]
  },
  {
   "cell_type": "code",
   "execution_count": 24,
   "metadata": {},
   "outputs": [
    {
     "data": {
      "text/plain": [
       "'../../SpectractorSim/sim_prod/CTIODataJune2017_reduced_RG715_v2_prod1_SimSpectra'"
      ]
     },
     "execution_count": 24,
     "metadata": {},
     "output_type": "execute_result"
    }
   ],
   "source": [
    "path_sim"
   ]
  },
  {
   "cell_type": "code",
   "execution_count": null,
   "metadata": {},
   "outputs": [],
   "source": []
  },
  {
   "cell_type": "markdown",
   "metadata": {},
   "source": [
    "## Selection of night"
   ]
  },
  {
   "cell_type": "code",
   "execution_count": 25,
   "metadata": {},
   "outputs": [],
   "source": [
    "date=\"20170530\""
   ]
  },
  {
   "cell_type": "code",
   "execution_count": 26,
   "metadata": {},
   "outputs": [],
   "source": [
    "idx_sel_subdir=2"
   ]
  },
  {
   "cell_type": "markdown",
   "metadata": {},
   "source": [
    "### Logbook"
   ]
  },
  {
   "cell_type": "code",
   "execution_count": 27,
   "metadata": {},
   "outputs": [],
   "source": [
    "all_obs=df_ctio_lbk.loc[(df_ctio_lbk[\"subdir\"]==All_Subdirs[idx_sel_subdir])].sort_index()"
   ]
  },
  {
   "cell_type": "code",
   "execution_count": 28,
   "metadata": {},
   "outputs": [],
   "source": [
    "all_obs_extr=all_obs[[\"index\",\"object\"]]"
   ]
  },
  {
   "cell_type": "code",
   "execution_count": null,
   "metadata": {},
   "outputs": [],
   "source": []
  },
  {
   "cell_type": "markdown",
   "metadata": {},
   "source": [
    "### path for spectra"
   ]
  },
  {
   "cell_type": "code",
   "execution_count": 29,
   "metadata": {},
   "outputs": [],
   "source": [
    "path_spectra=os.path.join(path_data,All_Subdirs[idx_sel_subdir])\n",
    "path_spectrasim=os.path.join(path_sim,All_Subdirs[idx_sel_subdir])"
   ]
  },
  {
   "cell_type": "markdown",
   "metadata": {},
   "source": [
    "### find filename for data spectra"
   ]
  },
  {
   "cell_type": "code",
   "execution_count": 30,
   "metadata": {},
   "outputs": [],
   "source": [
    "search_string=os.path.join(path_spectra,'*.fits')\n",
    "all_spectrafiles=glob.glob(search_string)\n",
    "all_spectrafiles=sorted(all_spectrafiles)"
   ]
  },
  {
   "cell_type": "markdown",
   "metadata": {},
   "source": [
    "### extract the index from the data spectra filename"
   ]
  },
  {
   "cell_type": "code",
   "execution_count": 31,
   "metadata": {},
   "outputs": [],
   "source": [
    "SelectTagRe='^reduc_%s_([0-9]+)_spectrum.fits$' % (date)\n",
    "all_sel_indexes=[]\n",
    "for ffn in all_spectrafiles:\n",
    "    fn=ffn.split('/')[-1]\n",
    "    sel_index= int(re.findall(SelectTagRe,fn)[0])\n",
    "    all_sel_indexes.append(sel_index)\n",
    "all_sel_indexes=np.array(all_sel_indexes)    "
   ]
  },
  {
   "cell_type": "markdown",
   "metadata": {},
   "source": [
    "### extract the logbook rows corrsponding to the spectra\n",
    "\n",
    "- use the indexes obtained to extract the relevant rows from the logbook"
   ]
  },
  {
   "cell_type": "code",
   "execution_count": 32,
   "metadata": {},
   "outputs": [],
   "source": [
    "#SelFlag=[]\n",
    "#for index, row in all_obs.iterrows():\n",
    "#  if row[\"index\"] in all_sel_indexes:\n",
    "#    SelFlag.append(True)\n",
    "#  else:\n",
    "#    SelFlag.append(False)\n",
    "#sel_obs=all_obs[SelFlag]"
   ]
  },
  {
   "cell_type": "code",
   "execution_count": 33,
   "metadata": {},
   "outputs": [],
   "source": [
    "sel_obs=all_obs.loc[all_obs['index'].isin(all_sel_indexes)]"
   ]
  },
  {
   "cell_type": "code",
   "execution_count": 34,
   "metadata": {},
   "outputs": [
    {
     "data": {
      "text/html": [
       "<div>\n",
       "<style scoped>\n",
       "    .dataframe tbody tr th:only-of-type {\n",
       "        vertical-align: middle;\n",
       "    }\n",
       "\n",
       "    .dataframe tbody tr th {\n",
       "        vertical-align: top;\n",
       "    }\n",
       "\n",
       "    .dataframe thead th {\n",
       "        text-align: right;\n",
       "    }\n",
       "</style>\n",
       "<table border=\"1\" class=\"dataframe\">\n",
       "  <thead>\n",
       "    <tr style=\"text-align: right;\">\n",
       "      <th></th>\n",
       "      <th>index</th>\n",
       "      <th>P</th>\n",
       "      <th>T</th>\n",
       "      <th>RH</th>\n",
       "      <th>airmass</th>\n",
       "      <th>seeing</th>\n",
       "      <th>exposure</th>\n",
       "      <th>object</th>\n",
       "      <th>filter</th>\n",
       "      <th>disperser</th>\n",
       "      <th>focus</th>\n",
       "      <th>W</th>\n",
       "      <th>subdir</th>\n",
       "      <th>file</th>\n",
       "    </tr>\n",
       "    <tr>\n",
       "      <th>date</th>\n",
       "      <th></th>\n",
       "      <th></th>\n",
       "      <th></th>\n",
       "      <th></th>\n",
       "      <th></th>\n",
       "      <th></th>\n",
       "      <th></th>\n",
       "      <th></th>\n",
       "      <th></th>\n",
       "      <th></th>\n",
       "      <th></th>\n",
       "      <th></th>\n",
       "      <th></th>\n",
       "      <th></th>\n",
       "    </tr>\n",
       "  </thead>\n",
       "  <tbody>\n",
       "    <tr>\n",
       "      <th>2017-05-31T00:00:26.147</th>\n",
       "      <td>57</td>\n",
       "      <td>783</td>\n",
       "      <td>9,3</td>\n",
       "      <td>26</td>\n",
       "      <td>1,053</td>\n",
       "      <td>1,14</td>\n",
       "      <td>60</td>\n",
       "      <td>HD111980</td>\n",
       "      <td>dia</td>\n",
       "      <td>Ron400</td>\n",
       "      <td>12450</td>\n",
       "      <td>5,7</td>\n",
       "      <td>data_30may17</td>\n",
       "      <td>reduc_20170530_057.fits</td>\n",
       "    </tr>\n",
       "    <tr>\n",
       "      <th>2017-05-31T00:02:18.596</th>\n",
       "      <td>58</td>\n",
       "      <td>783</td>\n",
       "      <td>9,3</td>\n",
       "      <td>26</td>\n",
       "      <td>1,051</td>\n",
       "      <td>0,94</td>\n",
       "      <td>60</td>\n",
       "      <td>HD111980</td>\n",
       "      <td>dia</td>\n",
       "      <td>Thor300</td>\n",
       "      <td>12450</td>\n",
       "      <td>5,5</td>\n",
       "      <td>data_30may17</td>\n",
       "      <td>reduc_20170530_058.fits</td>\n",
       "    </tr>\n",
       "    <tr>\n",
       "      <th>2017-05-31T00:06:14.000</th>\n",
       "      <td>60</td>\n",
       "      <td>783</td>\n",
       "      <td>9,1</td>\n",
       "      <td>26</td>\n",
       "      <td>1,047</td>\n",
       "      <td>1,018</td>\n",
       "      <td>60</td>\n",
       "      <td>HD111980</td>\n",
       "      <td>dia</td>\n",
       "      <td>Ron400</td>\n",
       "      <td>12450</td>\n",
       "      <td>5,7</td>\n",
       "      <td>data_30may17</td>\n",
       "      <td>reduc_20170530_060.fits</td>\n",
       "    </tr>\n",
       "    <tr>\n",
       "      <th>2017-05-31T00:08:06.454</th>\n",
       "      <td>61</td>\n",
       "      <td>783</td>\n",
       "      <td>9,2</td>\n",
       "      <td>26</td>\n",
       "      <td>1,045</td>\n",
       "      <td>0,939</td>\n",
       "      <td>60</td>\n",
       "      <td>HD111980</td>\n",
       "      <td>dia</td>\n",
       "      <td>Thor300</td>\n",
       "      <td>12450</td>\n",
       "      <td>5,5</td>\n",
       "      <td>data_30may17</td>\n",
       "      <td>reduc_20170530_061.fits</td>\n",
       "    </tr>\n",
       "    <tr>\n",
       "      <th>2017-05-31T00:09:58.852</th>\n",
       "      <td>62</td>\n",
       "      <td>783</td>\n",
       "      <td>9,1</td>\n",
       "      <td>26</td>\n",
       "      <td>1,044</td>\n",
       "      <td>0,846</td>\n",
       "      <td>60</td>\n",
       "      <td>HD111980</td>\n",
       "      <td>dia</td>\n",
       "      <td>HoloPhP</td>\n",
       "      <td>12450</td>\n",
       "      <td>5,8</td>\n",
       "      <td>data_30may17</td>\n",
       "      <td>reduc_20170530_062.fits</td>\n",
       "    </tr>\n",
       "  </tbody>\n",
       "</table>\n",
       "</div>"
      ],
      "text/plain": [
       "                         index    P    T  RH airmass seeing exposure  \\\n",
       "date                                                                   \n",
       "2017-05-31T00:00:26.147     57  783  9,3  26   1,053   1,14       60   \n",
       "2017-05-31T00:02:18.596     58  783  9,3  26   1,051   0,94       60   \n",
       "2017-05-31T00:06:14.000     60  783  9,1  26   1,047  1,018       60   \n",
       "2017-05-31T00:08:06.454     61  783  9,2  26   1,045  0,939       60   \n",
       "2017-05-31T00:09:58.852     62  783  9,1  26   1,044  0,846       60   \n",
       "\n",
       "                           object filter disperser  focus    W        subdir  \\\n",
       "date                                                                           \n",
       "2017-05-31T00:00:26.147  HD111980    dia    Ron400  12450  5,7  data_30may17   \n",
       "2017-05-31T00:02:18.596  HD111980    dia   Thor300  12450  5,5  data_30may17   \n",
       "2017-05-31T00:06:14.000  HD111980    dia    Ron400  12450  5,7  data_30may17   \n",
       "2017-05-31T00:08:06.454  HD111980    dia   Thor300  12450  5,5  data_30may17   \n",
       "2017-05-31T00:09:58.852  HD111980    dia   HoloPhP  12450  5,8  data_30may17   \n",
       "\n",
       "                                            file  \n",
       "date                                              \n",
       "2017-05-31T00:00:26.147  reduc_20170530_057.fits  \n",
       "2017-05-31T00:02:18.596  reduc_20170530_058.fits  \n",
       "2017-05-31T00:06:14.000  reduc_20170530_060.fits  \n",
       "2017-05-31T00:08:06.454  reduc_20170530_061.fits  \n",
       "2017-05-31T00:09:58.852  reduc_20170530_062.fits  "
      ]
     },
     "execution_count": 34,
     "metadata": {},
     "output_type": "execute_result"
    }
   ],
   "source": [
    "sel_obs.head()"
   ]
  },
  {
   "cell_type": "code",
   "execution_count": 35,
   "metadata": {},
   "outputs": [
    {
     "data": {
      "text/html": [
       "<div>\n",
       "<style scoped>\n",
       "    .dataframe tbody tr th:only-of-type {\n",
       "        vertical-align: middle;\n",
       "    }\n",
       "\n",
       "    .dataframe tbody tr th {\n",
       "        vertical-align: top;\n",
       "    }\n",
       "\n",
       "    .dataframe thead th {\n",
       "        text-align: right;\n",
       "    }\n",
       "</style>\n",
       "<table border=\"1\" class=\"dataframe\">\n",
       "  <thead>\n",
       "    <tr style=\"text-align: right;\">\n",
       "      <th></th>\n",
       "      <th>index</th>\n",
       "      <th>P</th>\n",
       "      <th>T</th>\n",
       "      <th>RH</th>\n",
       "      <th>airmass</th>\n",
       "      <th>seeing</th>\n",
       "      <th>exposure</th>\n",
       "      <th>object</th>\n",
       "      <th>filter</th>\n",
       "      <th>disperser</th>\n",
       "      <th>focus</th>\n",
       "      <th>W</th>\n",
       "      <th>subdir</th>\n",
       "      <th>file</th>\n",
       "    </tr>\n",
       "    <tr>\n",
       "      <th>date</th>\n",
       "      <th></th>\n",
       "      <th></th>\n",
       "      <th></th>\n",
       "      <th></th>\n",
       "      <th></th>\n",
       "      <th></th>\n",
       "      <th></th>\n",
       "      <th></th>\n",
       "      <th></th>\n",
       "      <th></th>\n",
       "      <th></th>\n",
       "      <th></th>\n",
       "      <th></th>\n",
       "      <th></th>\n",
       "    </tr>\n",
       "  </thead>\n",
       "  <tbody>\n",
       "    <tr>\n",
       "      <th>2017-05-31T10:33:46.896</th>\n",
       "      <td>280</td>\n",
       "      <td>782</td>\n",
       "      <td>11</td>\n",
       "      <td>20</td>\n",
       "      <td>1,018</td>\n",
       "      <td>0,793</td>\n",
       "      <td>60</td>\n",
       "      <td>HD205905</td>\n",
       "      <td>dia</td>\n",
       "      <td>Ron400</td>\n",
       "      <td>12400</td>\n",
       "      <td>14,5</td>\n",
       "      <td>data_30may17</td>\n",
       "      <td>reduc_20170530_280.fits</td>\n",
       "    </tr>\n",
       "    <tr>\n",
       "      <th>2017-05-31T10:35:39.245</th>\n",
       "      <td>281</td>\n",
       "      <td>782</td>\n",
       "      <td>11,2</td>\n",
       "      <td>20</td>\n",
       "      <td>1,019</td>\n",
       "      <td>0,793</td>\n",
       "      <td>60</td>\n",
       "      <td>HD205905</td>\n",
       "      <td>dia</td>\n",
       "      <td>Thor300</td>\n",
       "      <td>12400</td>\n",
       "      <td>13,1</td>\n",
       "      <td>data_30may17</td>\n",
       "      <td>reduc_20170530_281.fits</td>\n",
       "    </tr>\n",
       "    <tr>\n",
       "      <th>2017-05-31T10:37:31.598</th>\n",
       "      <td>282</td>\n",
       "      <td>782</td>\n",
       "      <td>11</td>\n",
       "      <td>20</td>\n",
       "      <td>1,021</td>\n",
       "      <td>0,793</td>\n",
       "      <td>60</td>\n",
       "      <td>HD205905</td>\n",
       "      <td>dia</td>\n",
       "      <td>HoloPhP</td>\n",
       "      <td>12400</td>\n",
       "      <td>12,5</td>\n",
       "      <td>data_30may17</td>\n",
       "      <td>reduc_20170530_282.fits</td>\n",
       "    </tr>\n",
       "    <tr>\n",
       "      <th>2017-05-31T10:39:24.046</th>\n",
       "      <td>283</td>\n",
       "      <td>782</td>\n",
       "      <td>11</td>\n",
       "      <td>20</td>\n",
       "      <td>1,022</td>\n",
       "      <td>0,793</td>\n",
       "      <td>120</td>\n",
       "      <td>HD205905</td>\n",
       "      <td>dia</td>\n",
       "      <td>HoloPhAg</td>\n",
       "      <td>12400</td>\n",
       "      <td>12,8</td>\n",
       "      <td>data_30may17</td>\n",
       "      <td>reduc_20170530_283.fits</td>\n",
       "    </tr>\n",
       "    <tr>\n",
       "      <th>2017-05-31T10:42:16.450</th>\n",
       "      <td>284</td>\n",
       "      <td>782</td>\n",
       "      <td>11</td>\n",
       "      <td>20</td>\n",
       "      <td>1,024</td>\n",
       "      <td>0,793</td>\n",
       "      <td>120</td>\n",
       "      <td>HD205905</td>\n",
       "      <td>dia</td>\n",
       "      <td>HoloAmAg</td>\n",
       "      <td>12400</td>\n",
       "      <td>13,2</td>\n",
       "      <td>data_30may17</td>\n",
       "      <td>reduc_20170530_284.fits</td>\n",
       "    </tr>\n",
       "  </tbody>\n",
       "</table>\n",
       "</div>"
      ],
      "text/plain": [
       "                         index    P     T  RH airmass seeing exposure  \\\n",
       "date                                                                    \n",
       "2017-05-31T10:33:46.896    280  782    11  20   1,018  0,793       60   \n",
       "2017-05-31T10:35:39.245    281  782  11,2  20   1,019  0,793       60   \n",
       "2017-05-31T10:37:31.598    282  782    11  20   1,021  0,793       60   \n",
       "2017-05-31T10:39:24.046    283  782    11  20   1,022  0,793      120   \n",
       "2017-05-31T10:42:16.450    284  782    11  20   1,024  0,793      120   \n",
       "\n",
       "                           object filter disperser  focus     W        subdir  \\\n",
       "date                                                                            \n",
       "2017-05-31T10:33:46.896  HD205905    dia    Ron400  12400  14,5  data_30may17   \n",
       "2017-05-31T10:35:39.245  HD205905    dia   Thor300  12400  13,1  data_30may17   \n",
       "2017-05-31T10:37:31.598  HD205905    dia   HoloPhP  12400  12,5  data_30may17   \n",
       "2017-05-31T10:39:24.046  HD205905    dia  HoloPhAg  12400  12,8  data_30may17   \n",
       "2017-05-31T10:42:16.450  HD205905    dia  HoloAmAg  12400  13,2  data_30may17   \n",
       "\n",
       "                                            file  \n",
       "date                                              \n",
       "2017-05-31T10:33:46.896  reduc_20170530_280.fits  \n",
       "2017-05-31T10:35:39.245  reduc_20170530_281.fits  \n",
       "2017-05-31T10:37:31.598  reduc_20170530_282.fits  \n",
       "2017-05-31T10:39:24.046  reduc_20170530_283.fits  \n",
       "2017-05-31T10:42:16.450  reduc_20170530_284.fits  "
      ]
     },
     "execution_count": 35,
     "metadata": {},
     "output_type": "execute_result"
    }
   ],
   "source": [
    "sel_obs.tail()"
   ]
  },
  {
   "cell_type": "markdown",
   "metadata": {},
   "source": [
    "### Quick view on the kind of sources"
   ]
  },
  {
   "cell_type": "code",
   "execution_count": 36,
   "metadata": {},
   "outputs": [
    {
     "data": {
      "image/png": "[encoded data removed]",
      "text/plain": [
       "<Figure size 360x216 with 1 Axes>"
      ]
     },
     "metadata": {},
     "output_type": "display_data"
    }
   ],
   "source": [
    "plt.figure(figsize=(5,3))\n",
    "sns.countplot(y='object', data=sel_obs)\n",
    "plt.grid(True)"
   ]
  },
  {
   "cell_type": "code",
   "execution_count": 37,
   "metadata": {},
   "outputs": [
    {
     "data": {
      "image/png": "[encoded data removed]",
      "text/plain": [
       "<Figure size 360x216 with 1 Axes>"
      ]
     },
     "metadata": {},
     "output_type": "display_data"
    }
   ],
   "source": [
    "plt.figure(figsize=(5,3))\n",
    "sel_obs['object'].value_counts().plot(kind='bar',rot=0)\n",
    "plt.xticks(rotation=-45)\n",
    "plt.grid(True)"
   ]
  },
  {
   "cell_type": "markdown",
   "metadata": {},
   "source": [
    "### Remove bad sources\n",
    "\n",
    "- remove star **PNG336.3-05.6**"
   ]
  },
  {
   "cell_type": "code",
   "execution_count": 38,
   "metadata": {},
   "outputs": [],
   "source": [
    "bad_obs=sel_obs.loc[sel_obs['object'].isin(['PNG336.3-05.6'])]\n",
    "bad_indexes=bad_obs[\"index\"]"
   ]
  },
  {
   "cell_type": "code",
   "execution_count": 39,
   "metadata": {},
   "outputs": [
    {
     "data": {
      "text/html": [
       "<div>\n",
       "<style scoped>\n",
       "    .dataframe tbody tr th:only-of-type {\n",
       "        vertical-align: middle;\n",
       "    }\n",
       "\n",
       "    .dataframe tbody tr th {\n",
       "        vertical-align: top;\n",
       "    }\n",
       "\n",
       "    .dataframe thead th {\n",
       "        text-align: right;\n",
       "    }\n",
       "</style>\n",
       "<table border=\"1\" class=\"dataframe\">\n",
       "  <thead>\n",
       "    <tr style=\"text-align: right;\">\n",
       "      <th></th>\n",
       "      <th>index</th>\n",
       "      <th>P</th>\n",
       "      <th>T</th>\n",
       "      <th>RH</th>\n",
       "      <th>airmass</th>\n",
       "      <th>seeing</th>\n",
       "      <th>exposure</th>\n",
       "      <th>object</th>\n",
       "      <th>filter</th>\n",
       "      <th>disperser</th>\n",
       "      <th>focus</th>\n",
       "      <th>W</th>\n",
       "      <th>subdir</th>\n",
       "      <th>file</th>\n",
       "    </tr>\n",
       "    <tr>\n",
       "      <th>date</th>\n",
       "      <th></th>\n",
       "      <th></th>\n",
       "      <th></th>\n",
       "      <th></th>\n",
       "      <th></th>\n",
       "      <th></th>\n",
       "      <th></th>\n",
       "      <th></th>\n",
       "      <th></th>\n",
       "      <th></th>\n",
       "      <th></th>\n",
       "      <th></th>\n",
       "      <th></th>\n",
       "      <th></th>\n",
       "    </tr>\n",
       "  </thead>\n",
       "  <tbody>\n",
       "    <tr>\n",
       "      <th>2017-05-31T05:56:35.901</th>\n",
       "      <td>200</td>\n",
       "      <td>783</td>\n",
       "      <td>9,3</td>\n",
       "      <td>23</td>\n",
       "      <td>1,089</td>\n",
       "      <td>0,829</td>\n",
       "      <td>300</td>\n",
       "      <td>PNG336.3-05.6</td>\n",
       "      <td>dia</td>\n",
       "      <td>Thor300</td>\n",
       "      <td>12450</td>\n",
       "      <td>7</td>\n",
       "      <td>data_30may17</td>\n",
       "      <td>reduc_20170530_200.fits</td>\n",
       "    </tr>\n",
       "    <tr>\n",
       "      <th>2017-05-31T06:05:21.701</th>\n",
       "      <td>201</td>\n",
       "      <td>783</td>\n",
       "      <td>9,4</td>\n",
       "      <td>23</td>\n",
       "      <td>1,095</td>\n",
       "      <td>0,737</td>\n",
       "      <td>600</td>\n",
       "      <td>PNG336.3-05.6</td>\n",
       "      <td>dia</td>\n",
       "      <td>HoloPhP</td>\n",
       "      <td>12450</td>\n",
       "      <td>8,5</td>\n",
       "      <td>data_30may17</td>\n",
       "      <td>reduc_20170530_201.fits</td>\n",
       "    </tr>\n",
       "    <tr>\n",
       "      <th>2017-05-31T07:03:12.652</th>\n",
       "      <td>205</td>\n",
       "      <td>783</td>\n",
       "      <td>9,5</td>\n",
       "      <td>24</td>\n",
       "      <td>1,158</td>\n",
       "      <td>0,941</td>\n",
       "      <td>600</td>\n",
       "      <td>PNG336.3-05.6</td>\n",
       "      <td>dia</td>\n",
       "      <td>HoloPhP</td>\n",
       "      <td>12400</td>\n",
       "      <td>10,8</td>\n",
       "      <td>data_30may17</td>\n",
       "      <td>reduc_20170530_205.fits</td>\n",
       "    </tr>\n",
       "  </tbody>\n",
       "</table>\n",
       "</div>"
      ],
      "text/plain": [
       "                         index    P    T  RH airmass seeing exposure  \\\n",
       "date                                                                   \n",
       "2017-05-31T05:56:35.901    200  783  9,3  23   1,089  0,829      300   \n",
       "2017-05-31T06:05:21.701    201  783  9,4  23   1,095  0,737      600   \n",
       "2017-05-31T07:03:12.652    205  783  9,5  24   1,158  0,941      600   \n",
       "\n",
       "                                object filter disperser  focus     W  \\\n",
       "date                                                                   \n",
       "2017-05-31T05:56:35.901  PNG336.3-05.6    dia   Thor300  12450     7   \n",
       "2017-05-31T06:05:21.701  PNG336.3-05.6    dia   HoloPhP  12450   8,5   \n",
       "2017-05-31T07:03:12.652  PNG336.3-05.6    dia   HoloPhP  12400  10,8   \n",
       "\n",
       "                               subdir                     file  \n",
       "date                                                            \n",
       "2017-05-31T05:56:35.901  data_30may17  reduc_20170530_200.fits  \n",
       "2017-05-31T06:05:21.701  data_30may17  reduc_20170530_201.fits  \n",
       "2017-05-31T07:03:12.652  data_30may17  reduc_20170530_205.fits  "
      ]
     },
     "execution_count": 39,
     "metadata": {},
     "output_type": "execute_result"
    }
   ],
   "source": [
    "bad_obs"
   ]
  },
  {
   "cell_type": "code",
   "execution_count": 40,
   "metadata": {},
   "outputs": [],
   "source": [
    "bad_indexes=bad_obs.loc[:,\"index\"]"
   ]
  },
  {
   "cell_type": "code",
   "execution_count": 41,
   "metadata": {},
   "outputs": [
    {
     "data": {
      "text/plain": [
       "Index([u'2017-05-31T05:56:35.901', u'2017-05-31T06:05:21.701',\n",
       "       u'2017-05-31T07:03:12.652'],\n",
       "      dtype='object', name=u'date')"
      ]
     },
     "execution_count": 41,
     "metadata": {},
     "output_type": "execute_result"
    }
   ],
   "source": [
    "bad_indexes.index"
   ]
  },
  {
   "cell_type": "code",
   "execution_count": 42,
   "metadata": {},
   "outputs": [
    {
     "data": {
      "text/plain": [
       "array([200, 201, 205])"
      ]
     },
     "execution_count": 42,
     "metadata": {},
     "output_type": "execute_result"
    }
   ],
   "source": [
    "bad_indexes.values"
   ]
  },
  {
   "cell_type": "markdown",
   "metadata": {},
   "source": [
    "- keep stars **HD111980**, **HD205905**"
   ]
  },
  {
   "cell_type": "code",
   "execution_count": 43,
   "metadata": {},
   "outputs": [],
   "source": [
    "sel2_obs=sel_obs.loc[sel_obs['object'].isin(['HD111980','HD205905'])]"
   ]
  },
  {
   "cell_type": "code",
   "execution_count": 44,
   "metadata": {},
   "outputs": [
    {
     "data": {
      "image/png": "[encoded data removed]",
      "text/plain": [
       "<Figure size 360x216 with 1 Axes>"
      ]
     },
     "metadata": {},
     "output_type": "display_data"
    }
   ],
   "source": [
    "plt.figure(figsize=(5,3))\n",
    "sns.countplot(y='object', data=sel2_obs)\n",
    "plt.grid(True)"
   ]
  },
  {
   "cell_type": "markdown",
   "metadata": {},
   "source": [
    "### find filename for sim spectra"
   ]
  },
  {
   "cell_type": "code",
   "execution_count": 45,
   "metadata": {},
   "outputs": [],
   "source": [
    "path_sim1=os.path.join(path_spectrasim,'clearsky')\n",
    "path_sim2=os.path.join(path_spectrasim,'standard')\n",
    "path_sim3=os.path.join(path_spectrasim,'merra2')"
   ]
  },
  {
   "cell_type": "code",
   "execution_count": 46,
   "metadata": {},
   "outputs": [],
   "source": [
    "search_string=os.path.join(path_sim1,'*.fits')\n",
    "all_simspectrafiles1=glob.glob(search_string)\n",
    "all_simspectrafiles1=sorted(all_simspectrafiles1)"
   ]
  },
  {
   "cell_type": "code",
   "execution_count": 47,
   "metadata": {},
   "outputs": [
    {
     "data": {
      "text/plain": [
       "['../../SpectractorSim/sim_prod/CTIODataJune2017_reduced_RG715_v2_prod1_SimSpectra/data_30may17/clearsky/specsim_20170530_057_spectrum.fits',\n",
       " '../../SpectractorSim/sim_prod/CTIODataJune2017_reduced_RG715_v2_prod1_SimSpectra/data_30may17/clearsky/specsim_20170530_058_spectrum.fits',\n",
       " '../../SpectractorSim/sim_prod/CTIODataJune2017_reduced_RG715_v2_prod1_SimSpectra/data_30may17/clearsky/specsim_20170530_060_spectrum.fits']"
      ]
     },
     "execution_count": 47,
     "metadata": {},
     "output_type": "execute_result"
    }
   ],
   "source": [
    "all_simspectrafiles1[:3]"
   ]
  },
  {
   "cell_type": "code",
   "execution_count": 48,
   "metadata": {},
   "outputs": [],
   "source": [
    "search_string=os.path.join(path_sim2,'*.fits')\n",
    "all_simspectrafiles2=glob.glob(search_string)\n",
    "all_simspectrafiles2=sorted(all_simspectrafiles2)"
   ]
  },
  {
   "cell_type": "code",
   "execution_count": 49,
   "metadata": {},
   "outputs": [
    {
     "data": {
      "text/plain": [
       "['../../SpectractorSim/sim_prod/CTIODataJune2017_reduced_RG715_v2_prod1_SimSpectra/data_30may17/standard/specsim_20170530_057_spectrum.fits',\n",
       " '../../SpectractorSim/sim_prod/CTIODataJune2017_reduced_RG715_v2_prod1_SimSpectra/data_30may17/standard/specsim_20170530_058_spectrum.fits',\n",
       " '../../SpectractorSim/sim_prod/CTIODataJune2017_reduced_RG715_v2_prod1_SimSpectra/data_30may17/standard/specsim_20170530_060_spectrum.fits']"
      ]
     },
     "execution_count": 49,
     "metadata": {},
     "output_type": "execute_result"
    }
   ],
   "source": [
    "all_simspectrafiles2[:3]"
   ]
  },
  {
   "cell_type": "code",
   "execution_count": 50,
   "metadata": {},
   "outputs": [],
   "source": [
    "search_string=os.path.join(path_sim3,'*.fits')\n",
    "all_simspectrafiles3=glob.glob(search_string)\n",
    "all_simspectrafiles3=sorted(all_simspectrafiles3)"
   ]
  },
  {
   "cell_type": "code",
   "execution_count": 51,
   "metadata": {},
   "outputs": [
    {
     "data": {
      "text/plain": [
       "['../../SpectractorSim/sim_prod/CTIODataJune2017_reduced_RG715_v2_prod1_SimSpectra/data_30may17/merra2/specsim_20170530_057_spectrum.fits',\n",
       " '../../SpectractorSim/sim_prod/CTIODataJune2017_reduced_RG715_v2_prod1_SimSpectra/data_30may17/merra2/specsim_20170530_058_spectrum.fits',\n",
       " '../../SpectractorSim/sim_prod/CTIODataJune2017_reduced_RG715_v2_prod1_SimSpectra/data_30may17/merra2/specsim_20170530_060_spectrum.fits']"
      ]
     },
     "execution_count": 51,
     "metadata": {},
     "output_type": "execute_result"
    }
   ],
   "source": [
    "all_simspectrafiles3[:3]"
   ]
  },
  {
   "cell_type": "markdown",
   "metadata": {},
   "source": [
    "# Remove bad indexes"
   ]
  },
  {
   "cell_type": "code",
   "execution_count": 58,
   "metadata": {},
   "outputs": [],
   "source": [
    "file_toremove=[]\n",
    "SelectTagRe='^reduc_%s_([0-9]+)_spectrum.fits$' % (date)\n",
    "for ffn in all_spectrafiles:\n",
    "    fn=ffn.split('/')[-1]\n",
    "    sel_index= int(re.findall(SelectTagRe,fn)[0])\n",
    "    if sel_index in bad_indexes.values:\n",
    "        print ' remove ', fn\n",
    "        file_toremove.append(ffn)\n",
    "for f in file_toremove:\n",
    "    all_spectrafiles.remove(f)        "
   ]
  },
  {
   "cell_type": "code",
   "execution_count": 60,
   "metadata": {},
   "outputs": [],
   "source": [
    "file_toremove=[]\n",
    "SelectTagRe='^specsim_%s_([0-9]+)_spectrum.fits$' % (date)\n",
    "for ffn in all_simspectrafiles1:\n",
    "    fn=ffn.split('/')[-1]\n",
    "    sel_index= int(re.findall(SelectTagRe,fn)[0])\n",
    "    if sel_index in bad_indexes.values:\n",
    "        print ' remove ', fn\n",
    "        file_toremove.append(ffn)\n",
    "for f in file_toremove:\n",
    "    all_simspectrafiles1.remove(f)   "
   ]
  },
  {
   "cell_type": "code",
   "execution_count": 62,
   "metadata": {},
   "outputs": [],
   "source": [
    "file_toremove=[]\n",
    "SelectTagRe='^specsim_%s_([0-9]+)_spectrum.fits$' % (date)\n",
    "for ffn in all_simspectrafiles2:\n",
    "    fn=ffn.split('/')[-1]\n",
    "    sel_index= int(re.findall(SelectTagRe,fn)[0])\n",
    "    if sel_index in bad_indexes.values:\n",
    "        print ' remove ', fn\n",
    "        file_toremove.append(ffn)\n",
    "for f in file_toremove:\n",
    "    all_simspectrafiles2.remove(f)"
   ]
  },
  {
   "cell_type": "code",
   "execution_count": 63,
   "metadata": {},
   "outputs": [],
   "source": [
    "file_toremove=[]\n",
    "SelectTagRe='^specsim_%s_([0-9]+)_spectrum.fits$' % (date)\n",
    "for ffn in all_simspectrafiles3:\n",
    "    fn=ffn.split('/')[-1]\n",
    "    sel_index= int(re.findall(SelectTagRe,fn)[0])\n",
    "    if sel_index in bad_indexes.values:\n",
    "        print ' remove ', fn\n",
    "        file_toremove.append(ffn)\n",
    "for f in file_toremove:\n",
    "    all_simspectrafiles3.remove(f)"
   ]
  },
  {
   "cell_type": "code",
   "execution_count": null,
   "metadata": {},
   "outputs": [],
   "source": []
  }
 ],
 "metadata": {
  "kernelspec": {
   "display_name": "Python 2",
   "language": "python",
   "name": "python2"
  },
  "language_info": {
   "codemirror_mode": {
    "name": "ipython",
    "version": 2
   },
   "file_extension": ".py",
   "mimetype": "text/x-python",
   "name": "python",
   "nbconvert_exporter": "python",
   "pygments_lexer": "ipython2",
   "version": "2.7.14"
  },
  "toc": {
   "nav_menu": {},
   "number_sections": true,
   "sideBar": true,
   "skip_h1_title": false,
   "toc_cell": false,
   "toc_position": {},
   "toc_section_display": "block",
   "toc_window_display": false
  }
 },
 "nbformat": 4,
 "nbformat_minor": 2
}
