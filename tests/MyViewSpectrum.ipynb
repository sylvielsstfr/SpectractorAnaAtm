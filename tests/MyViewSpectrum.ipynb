{
 "cells": [
  {
   "cell_type": "code",
   "execution_count": 1,
   "metadata": {},
   "outputs": [
    {
     "data": {
      "text/html": [
       "<style>\n",
       "    @font-face {\n",
       "        font-family: \"Computer Modern\";\n",
       "        src: url('http://mirrors.ctan.org/fonts/cm-unicode/fonts/otf/cmunss.otf');\n",
       "    }\n",
       "    div.cell{\n",
       "        width: 90%;\n",
       "/*        margin-left:auto;*/\n",
       "/*        margin-right:auto;*/\n",
       "    }\n",
       "    ul {\n",
       "        line-height: 145%;\n",
       "        font-size: 90%;\n",
       "    }\n",
       "    li {\n",
       "        margin-bottom: 1em;\n",
       "    }\n",
       "    h1 {\n",
       "        font-family: Helvetica, serif;\n",
       "    }\n",
       "    h4{\n",
       "        margin-top: 12px;\n",
       "        margin-bottom: 3px;\n",
       "       }\n",
       "    div.text_cell_render{\n",
       "        font-family: Computer Modern, \"Helvetica Neue\", Arial, Helvetica, Geneva, sans-serif;\n",
       "        line-height: 145%;\n",
       "        font-size: 130%;\n",
       "        width: 90%;\n",
       "        margin-left:auto;\n",
       "        margin-right:auto;\n",
       "    }\n",
       "    .CodeMirror{\n",
       "            font-family: \"Source Code Pro\", source-code-pro,Consolas, monospace;\n",
       "    }\n",
       "/*    .prompt{\n",
       "        display: None;\n",
       "    }*/\n",
       "    .text_cell_render h5 {\n",
       "        font-weight: 300;\n",
       "        font-size: 16pt;\n",
       "        color: #4057A1;\n",
       "        font-style: italic;\n",
       "        margin-bottom: 0.5em;\n",
       "        margin-top: 0.5em;\n",
       "        display: block;\n",
       "    }\n",
       "\n",
       "    .warning{\n",
       "        color: rgb( 240, 20, 20 )\n",
       "        }\n",
       "</style>\n",
       "<script>\n",
       "    MathJax.Hub.Config({\n",
       "                        TeX: {\n",
       "                           extensions: [\"AMSmath.js\"]\n",
       "                           },\n",
       "                tex2jax: {\n",
       "                    inlineMath: [ ['$','$'], [\"\\\\(\",\"\\\\)\"] ],\n",
       "                    displayMath: [ ['$$','$$'], [\"\\\\[\",\"\\\\]\"] ]\n",
       "                },\n",
       "                displayAlign: 'center', // Change this to 'center' to center equations.\n",
       "                \"HTML-CSS\": {\n",
       "                    styles: {'.MathJax_Display': {\"margin\": 4}}\n",
       "                }\n",
       "        });\n",
       "</script>"
      ],
      "text/plain": [
       "<IPython.core.display.HTML object>"
      ]
     },
     "execution_count": 1,
     "metadata": {},
     "output_type": "execute_result"
    }
   ],
   "source": [
    "from IPython.core.display import HTML\n",
    "def css_styling():\n",
    "    styles = open(\"../styles/custom.css\", \"r\").read()\n",
    "    return HTML(styles)\n",
    "css_styling()"
   ]
  },
  {
   "cell_type": "code",
   "execution_count": 2,
   "metadata": {},
   "outputs": [],
   "source": [
    "import matplotlib.pyplot as plt\n",
    "import sys\n",
    "import os"
   ]
  },
  {
   "cell_type": "code",
   "execution_count": 3,
   "metadata": {},
   "outputs": [],
   "source": [
    "%matplotlib inline\n",
    "%load_ext autoreload\n",
    "%autoreload 2"
   ]
  },
  {
   "cell_type": "markdown",
   "metadata": {},
   "source": [
    "# Config"
   ]
  },
  {
   "cell_type": "code",
   "execution_count": 4,
   "metadata": {},
   "outputs": [],
   "source": [
    "# to enlarge the sizes\n",
    "params = {'legend.fontsize': 'x-large',\n",
    "          'figure.figsize': (15, 10),   #defines the default image size\n",
    "         'axes.labelsize': 'x-large',\n",
    "         'axes.titlesize':'x-large',\n",
    "         'xtick.labelsize':'x-large',\n",
    "         'ytick.labelsize':'x-large'}\n",
    "plt.rcParams.update(params)"
   ]
  },
  {
   "cell_type": "markdown",
   "metadata": {},
   "source": [
    "## Spectractor config "
   ]
  },
  {
   "cell_type": "code",
   "execution_count": 5,
   "metadata": {},
   "outputs": [],
   "source": [
    "PATH_SPECTRACTOR='../../Spectractor'"
   ]
  },
  {
   "cell_type": "code",
   "execution_count": 6,
   "metadata": {},
   "outputs": [],
   "source": [
    "infile='test/reduc_20170531_074_spectrum.fits'"
   ]
  },
  {
   "cell_type": "code",
   "execution_count": 7,
   "metadata": {},
   "outputs": [],
   "source": [
    "infile_fullpath=os.path.join(PATH_SPECTRACTOR,infile)"
   ]
  },
  {
   "cell_type": "code",
   "execution_count": 8,
   "metadata": {},
   "outputs": [],
   "source": [
    "sys.path.append(PATH_SPECTRACTOR)"
   ]
  },
  {
   "cell_type": "code",
   "execution_count": 9,
   "metadata": {},
   "outputs": [],
   "source": [
    "from spectractor import *"
   ]
  },
  {
   "cell_type": "markdown",
   "metadata": {},
   "source": [
    "# Read file"
   ]
  },
  {
   "cell_type": "code",
   "execution_count": 10,
   "metadata": {},
   "outputs": [
    {
     "name": "stdout",
     "output_type": "stream",
     "text": [
      "Loading /Users/dagoret/MacOSX/External/PySynPhotData/grp/hst/cdbs/calspec/hd111980_stis_001.fits\n",
      "Loading /Users/dagoret/MacOSX/External/PySynPhotData/grp/hst/cdbs/calspec/hd111980_stis_002.fits\n",
      "Loading /Users/dagoret/MacOSX/External/PySynPhotData/grp/hst/cdbs/calspec/hd111980_stis_003.fits\n"
     ]
    },
    {
     "data": {
      "image/png": "[encoded data removed]",
      "text/plain": [
       "<matplotlib.figure.Figure at 0x1c1895afd0>"
      ]
     },
     "metadata": {},
     "output_type": "display_data"
    }
   ],
   "source": [
    "\n",
    "\n",
    "s = Spectrum(infile_fullpath)\n",
    "s.plot_spectrum() "
   ]
  },
  {
   "cell_type": "code",
   "execution_count": 11,
   "metadata": {},
   "outputs": [],
   "source": [
    "from astropy.io import fits"
   ]
  },
  {
   "cell_type": "code",
   "execution_count": 12,
   "metadata": {},
   "outputs": [],
   "source": [
    "hdul = fits.open(infile_fullpath)"
   ]
  },
  {
   "cell_type": "code",
   "execution_count": 13,
   "metadata": {},
   "outputs": [
    {
     "name": "stdout",
     "output_type": "stream",
     "text": [
      "Filename: ../../Spectractor/test/reduc_20170531_074_spectrum.fits\n",
      "No.    Name      Ver    Type      Cards   Dimensions   Format\n",
      "  0  PRIMARY       1 PrimaryHDU     140   (292, 3)   float64   \n"
     ]
    }
   ],
   "source": [
    "hdul.info()"
   ]
  },
  {
   "cell_type": "code",
   "execution_count": 14,
   "metadata": {},
   "outputs": [
    {
     "data": {
      "text/plain": [
       "SIMPLE  =                    T / conforms to FITS standard                      \n",
       "BITPIX  =                  -64 / array data type                                \n",
       "NAXIS   =                    2 / number of array dimensions                     \n",
       "NAXIS1  =                  292                                                  \n",
       "NAXIS2  =                    3                                                  \n",
       "COMMENT   FITS (Flexible Image Transport System) format is defined in 'Astronomy\n",
       "COMMENT   and Astrophysics', volume 376, page 359; bibcode: 2001A&A...376..359H \n",
       "OBJECT  = 'HD111980'           / Name of object observed                        \n",
       "OBSERVER= '        '           / observer                                       \n",
       "PROPID  = '        '           / Proposal ID                                    \n",
       "RECID   = 'ct36.20170601.030908' / NOAO Archibe record ID                       \n",
       "PROPID  = '        '           / Proposal ID                                    \n",
       "IMAGETYP= 'object  '           / Type of picture (object, dark, comp, etc)      \n",
       "CCDSUM  = '1 1     '           / On chip summation (X, Y)                       \n",
       "XSTART  =                    1 / start of roi in X                              \n",
       "YSTART  =                    1 / start of roi in Y                              \n",
       "XLENGTH =                 2048 / length of roi in X                             \n",
       "YLENGTH =                 2048 / length of roi in Y                             \n",
       "UTSHUT  = '2017-06-01T03:09:08.102' / UT of shutter open                        \n",
       "UT      = '03:09:08.102'       / UT of TCS coordinates                          \n",
       "DATE-OBS= '2017-06-01T03:09:08.102' / date of observations start                \n",
       "DATE    = '2017-06-01T03:11:10' / file creation date (YYYY-MM-DDThh:mm:ss UT)   \n",
       "NAMPSYX = '2 2     '           / Num amps in y and x (eg. '2 2=quad')           \n",
       "AMPLIST = '11 12 21 22'        / Readout order in y,x                           \n",
       "GTRON11 =                  12. / (e-) predicted read noise, lower left          \n",
       "GTRON12 =                  12. / (e-) predicted read noise, lower right         \n",
       "GTRON21 =                  12. / (e-) predicted read noise, upper left          \n",
       "GTRON22 =                  12. / (e-) predicted read noise, upper right         \n",
       "GTGAIN11=                   3. / (e-/ADU) predicted gain, lower left            \n",
       "GTGAIN12=                   3. / (e-/ADU) predicted gain, lower right           \n",
       "GTGAIN21=                   3. / (e-/ADU) predicted gain, upper left            \n",
       "GTGAIN22=                   3. / (e-/ADU) predicted gain, upper right           \n",
       "ASEC11  = '[1:1084,1:1024]'    / amplifier section Amp11(LL) detID 1            \n",
       "BSEC11  = '[1045:1084,1:1024]' / bias section Amp11(LL) detID 1                 \n",
       "CSEC11  = '[1:1034,1:1024]'    / section in full ccd for DSEC Amp11(LL) detID 1 \n",
       "DSEC11  = '[1:1034,1:1024]'    / image section in raw frame Amp11(LL) detID 1   \n",
       "TSEC11  = '[11:1034,1:1024]'   / trim section Amp11(LL) detID 1                 \n",
       "ABSEC11 = '[1045:1084,1:1024]' / overscan inside amp                            \n",
       "ADSEC11 = '[1:1024,1:1024]'    / detector section only                          \n",
       "ASEC12  = '[1085:2168,1:1024]' / amplifier section Amp12(LR) detID 1            \n",
       "BSEC12  = '[1085:1124,1:1024]' / bias section Amp12(LR) detID 1                 \n",
       "CSEC12  = '[1035:2068,1:1024]' / section in full ccd for DSEC Amp12(LR) detID 1 \n",
       "DSEC12  = '[1135:2168,1:1024]' / image section in raw frame Amp12(LR) detID 1   \n",
       "TSEC12  = '[1135:2158,1:1024]' / trim section Amp12(LR) detID 1                 \n",
       "ABSEC12 = '[1:40,1:1024]'      / overscan inside amp                            \n",
       "ADSEC12 = '[1025:2048,1:1024]' / detector section only                          \n",
       "ASEC21  = '[1:1084,1025:2048]' / amplifier section Amp21(UL) detID 1            \n",
       "BSEC21  = '[1045:1084,1025:2048]' / bias section Amp21(UL) detID 1              \n",
       "CSEC21  = '[1:1034,1025:2048]' / section in full ccd for DSEC Amp21(UL) detID 1 \n",
       "DSEC21  = '[1:1034,1025:2048]' / image section in raw frame Amp21(UL) detID 1   \n",
       "TSEC21  = '[11:1034,1025:2048]' / trim section Amp21(UL) detID 1                \n",
       "ABSEC21 = '[1045:1084,1:1024]' / overscan inside amp                            \n",
       "ADSEC21 = '[1:1024,1025:2048]' / detector section only                          \n",
       "ASEC22  = '[1085:2168,1025:2048]' / amplifier section Amp22(UR) detID 1         \n",
       "BSEC22  = '[1085:1124,1025:2048]' / bias section Amp22(UR) detID 1              \n",
       "CSEC22  = '[1035:2068,1025:2048]' / section in full ccd for DSEC Amp22(UR) detID\n",
       "DSEC22  = '[1135:2168,1025:2048]' / image section in raw frame Amp22(UR) detID 1\n",
       "TSEC22  = '[1135:2158,1025:2048]' / trim section Amp22(UR) detID 1              \n",
       "ABSEC22 = '[1:40,1:1024]'      / overscan inside amp                            \n",
       "ADSEC22 = '[1025:2048,1025:2048]' / detector section only                       \n",
       "ROISEC00= '[1:2048,1:2048]'    / roi section                                    \n",
       "DETECTOR= 'Tek2K_3 '           / Detector Identifier                            \n",
       "FPA     = 'SITE2K  '           / focal plan array                               \n",
       "REXPTIME=                 120. / requested exposure time in secs                \n",
       "EXPTIME =                 120. / Exposure time in secs                          \n",
       "DARKTIME=                 120. / Total elapsed time in secs                     \n",
       "NIMAGES =                    1 / number of images requested in sequence         \n",
       "PIXELT  = '25000.000000'       / (ns) unbinned pixel read time                  \n",
       "DHEINF  = 'MNSN torrent hardware' / controller info                             \n",
       "DHEFIRM = '/home/observer/panview/fpas/_biw/config/DETECTOR/site2k_sequencer.uc'\n",
       "PIXTIME = '25      '           / pixel time (usecs)                             \n",
       "POWSTAT = '3.000   '           / power supplies status (3=OK)                   \n",
       "CCDSETP = '163.000 '           / ccd temperature setpoint                       \n",
       "CCDTEMP = '165.500 '           / CCD temperature                                \n",
       "NECKTEMP= '144.750 '           / dewar NECK temperature                         \n",
       "HEATERSP= '30.709  '           / Heater power percent.                          \n",
       "VDDA    = '23.989  '           / bias output amplifier A                        \n",
       "VDDB    = '23.959  '           / bias output amplifier B                        \n",
       "VDDC    = '24.378  '           / bias output amplifier C                        \n",
       "VDDD    = '24.184  '           / bias output amplifier D                        \n",
       "VRDA    = '13.810  '           / Reset Drain amplifier A                        \n",
       "VRDB    = '13.780  '           / Reset Drain amplifier B                        \n",
       "VRDC    = '14.019  '           / Reset Drain amplifier C                        \n",
       "VRDD    = '13.930  '           / Reset Drain amplifier D                        \n",
       "LGA     = '-2.022  '           / Reset Drain amplifier A                        \n",
       "LGB     = '-2.072  '           / Reset Drain amplifier B                        \n",
       "LGC     = '-1.972  '           / Reset Drain amplifier C                        \n",
       "LGD     = '-1.972  '           / Reset Drain amplifier D                        \n",
       "SLOT00  = 'LCB 0x188538 2.240000' / dhe board: <type> <serial> <firmware>       \n",
       "SLOT01  = 'PSM 0x45834F 2.210000' / dhe board: <type> <serial> <firmware>       \n",
       "SLOT02  = 'CFG 0xNONE 2.240000' / dhe board: <type> <serial> <firmware>         \n",
       "SLOT03  = 'PIX 0xNONE 2.210000' / dhe board: <type> <serial> <firmware>         \n",
       "SLOT04  = 'CCDAFE 0x188167 18805C 2.210000' / dhe board: <type> <serial> <firmwa\n",
       "SLOT07  = 'CB 0xNONE 2.240000' / dhe board: <type> <serial> <firmware>          \n",
       "SLOT02  = 'TSM 0x3C6784 NONE'  / dhe board: <type> <serial> <firmware>          \n",
       "VANPLUS =             10.54422 / analog voltage plus                            \n",
       "VANMINU =             -10.5137 / analog voltage minus                           \n",
       "FPGATEMP=             34.97537 / torrent fpga temperature                       \n",
       "ID      = '[ct36.20170601.030908]' / ID                                         \n",
       "OBSERVAT= 'CTIO    '           / Origin of data                                 \n",
       "TELESCOP= 'CTIO 0.9 meter telescope' / Specific system                          \n",
       "TELID   = 'ct36    '           / CTIO 0.9 meter telescope                       \n",
       "TCS-TIME= '2017-05-31T03:09:8.41' / date of observation start                   \n",
       "UT      = '03:09:8.41'         / UT of TCS coords                               \n",
       "RA      = '12:52:60.00'        / ra                                             \n",
       "DEC     = '-18:34:14.01'       / dec                                            \n",
       "EPOCH   =                2000. / epoch                                          \n",
       "ZD      =               31.911 / zenith distance                                \n",
       "HA      = '02:12:6.42'         / hour angle                                     \n",
       "ST      = '15:05:6.42'         / sidereal time                                  \n",
       "AIRMASS =                1.178 / airmass                                        \n",
       "ALT     = '-63.03  '           / altitud                                        \n",
       "TELFOCUS=               12350. / telescope focus                                \n",
       "WEATIME = '2017-06-01 03:10:01' / weather timestamp                             \n",
       "OUTTEMP =                 11.3 / outside temp (C)                               \n",
       "OUTHUM  =                   22 / outside humidity (%)                           \n",
       "OUTPRESS=                 781. / outside pressure (hPa)                         \n",
       "WNDSPEED=                  21. / wind speed (mph)                               \n",
       "WNDDIR  =                   43 / wind dir (degrees)                             \n",
       "SEETIME = '2017-06-01 03:09:35' / seeing timestamp                              \n",
       "SEEING  =                0.963 / seeing                                         \n",
       "SAIRMASS=                1.027 / seeing airmass                                 \n",
       "PANID   = '_biw    '           / PAN identification                             \n",
       "COMMENT image                                                                   \n",
       "COMMENT Image is trimmed                                                        \n",
       "FILTER1 = 'RG715   '           / Filter in wheel 1                              \n",
       "FNAME1  = 'RG715   '           / Full name of filter in wheel 1                 \n",
       "FILTER2 = 'Ron400  '           / Filter in wheel 2                              \n",
       "FNAME2  = 'Ronchi400'          / Full name of filter in wheel 2                 \n",
       "FILTERS = 'RG715 Ron400'       / Filter positions                               \n",
       "INSTRUME= 'cfccd   '           / cassegrain direct imager                       \n",
       "XPIXSIZE=                0.401 / Pixel size in X (arcsecs/pix)                  \n",
       "YPIXSIZE=                0.401 / Pixel size in Y (arcsecs/pix)                  \n",
       "TEST    =                   2. / my keyword                                     \n",
       "PARANGLE=   -62.47659777001434 / parallactic angle in degree                    \n",
       "TARGET  = 'HD111980'           / object targeted in the image                   \n",
       "REDSHIFT=                    0 / redshift of the target                         \n",
       "UNIT1   = 'nanometer'                                                           \n",
       "UNIT2   = 'ADU rate'                                                            \n",
       "COMMENTS= 'First column gives the wavelength in unit UNIT1, second column &'    \n",
       "CONTINUE  'gives the spectrum in unit UNIT2, third column the corresponding &'  \n",
       "CONTINUE  'errors.'                                                             "
      ]
     },
     "execution_count": 14,
     "metadata": {},
     "output_type": "execute_result"
    }
   ],
   "source": [
    "hdul[0].header"
   ]
  },
  {
   "cell_type": "code",
   "execution_count": 15,
   "metadata": {},
   "outputs": [],
   "source": [
    "image_data = hdul[0].data"
   ]
  },
  {
   "cell_type": "code",
   "execution_count": 16,
   "metadata": {},
   "outputs": [
    {
     "data": {
      "text/plain": [
       "(3, 292)"
      ]
     },
     "execution_count": 16,
     "metadata": {},
     "output_type": "execute_result"
    }
   ],
   "source": [
    "image_data.shape"
   ]
  },
  {
   "cell_type": "code",
   "execution_count": 17,
   "metadata": {},
   "outputs": [],
   "source": [
    "wl=image_data[0,:]\n",
    "spec=image_data[1,:]\n",
    "err=image_data[2,:]"
   ]
  },
  {
   "cell_type": "code",
   "execution_count": 18,
   "metadata": {},
   "outputs": [
    {
     "data": {
      "text/plain": [
       "<matplotlib.image.AxesImage at 0x1c18e70910>"
      ]
     },
     "execution_count": 18,
     "metadata": {},
     "output_type": "execute_result"
    },
    {
     "data": {
      "image/png": "[encoded data removed]",
      "text/plain": [
       "<matplotlib.figure.Figure at 0x1c192dd690>"
      ]
     },
     "metadata": {},
     "output_type": "display_data"
    }
   ],
   "source": [
    "plt.imshow(image_data, cmap='jet')\n",
    "#plt.colorbar()"
   ]
  },
  {
   "cell_type": "code",
   "execution_count": 19,
   "metadata": {},
   "outputs": [
    {
     "data": {
      "image/png": "[encoded data removed]",
      "text/plain": [
       "<matplotlib.figure.Figure at 0x1c18de0450>"
      ]
     },
     "metadata": {},
     "output_type": "display_data"
    }
   ],
   "source": [
    "plt.errorbar(wl,spec,yerr=err,color='blue')\n",
    "plt.grid()"
   ]
  },
  {
   "cell_type": "code",
   "execution_count": null,
   "metadata": {},
   "outputs": [],
   "source": []
  }
 ],
 "metadata": {
  "kernelspec": {
   "display_name": "Python 2",
   "language": "python",
   "name": "python2"
  },
  "language_info": {
   "codemirror_mode": {
    "name": "ipython",
    "version": 2
   },
   "file_extension": ".py",
   "mimetype": "text/x-python",
   "name": "python",
   "nbconvert_exporter": "python",
   "pygments_lexer": "ipython2",
   "version": "2.7.14"
  },
  "toc": {
   "nav_menu": {},
   "number_sections": true,
   "sideBar": true,
   "skip_h1_title": false,
   "toc_cell": false,
   "toc_position": {},
   "toc_section_display": "block",
   "toc_window_display": false
  }
 },
 "nbformat": 4,
 "nbformat_minor": 2
}
