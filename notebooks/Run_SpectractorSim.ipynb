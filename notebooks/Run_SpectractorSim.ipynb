{
 "cells": [
  {
   "cell_type": "markdown",
   "metadata": {},
   "source": [
    "# Spectractor Simulation\n",
    "\n",
    "Goal is to process a series of images in order to produce spectra\n",
    "\n",
    "- author Sylvie Dagoret-Campagne\n",
    "- date : April 05th 2018\n",
    "- update : April 09th 2018\n"
   ]
  },
  {
   "cell_type": "code",
   "execution_count": 1,
   "metadata": {},
   "outputs": [],
   "source": [
    "theNotebook=\"Run_SpectractorSim\""
   ]
  },
  {
   "cell_type": "markdown",
   "metadata": {},
   "source": [
    "# Spectractor Launcher"
   ]
  },
  {
   "cell_type": "code",
   "execution_count": 2,
   "metadata": {},
   "outputs": [
    {
     "data": {
      "text/html": [
       "<style>\n",
       "    @font-face {\n",
       "        font-family: \"Computer Modern\";\n",
       "        src: url('http://mirrors.ctan.org/fonts/cm-unicode/fonts/otf/cmunss.otf');\n",
       "    }\n",
       "    div.cell{\n",
       "        width: 90%;\n",
       "/*        margin-left:auto;*/\n",
       "/*        margin-right:auto;*/\n",
       "    }\n",
       "    ul {\n",
       "        line-height: 145%;\n",
       "        font-size: 90%;\n",
       "    }\n",
       "    li {\n",
       "        margin-bottom: 1em;\n",
       "    }\n",
       "    h1 {\n",
       "        font-family: Helvetica, serif;\n",
       "    }\n",
       "    h4{\n",
       "        margin-top: 12px;\n",
       "        margin-bottom: 3px;\n",
       "       }\n",
       "    div.text_cell_render{\n",
       "        font-family: Computer Modern, \"Helvetica Neue\", Arial, Helvetica, Geneva, sans-serif;\n",
       "        line-height: 145%;\n",
       "        font-size: 130%;\n",
       "        width: 90%;\n",
       "        margin-left:auto;\n",
       "        margin-right:auto;\n",
       "    }\n",
       "    .CodeMirror{\n",
       "            font-family: \"Source Code Pro\", source-code-pro,Consolas, monospace;\n",
       "    }\n",
       "/*    .prompt{\n",
       "        display: None;\n",
       "    }*/\n",
       "    .text_cell_render h5 {\n",
       "        font-weight: 300;\n",
       "        font-size: 16pt;\n",
       "        color: #4057A1;\n",
       "        font-style: italic;\n",
       "        margin-bottom: 0.5em;\n",
       "        margin-top: 0.5em;\n",
       "        display: block;\n",
       "    }\n",
       "\n",
       "    .warning{\n",
       "        color: rgb( 240, 20, 20 )\n",
       "        }\n",
       "</style>\n",
       "<script>\n",
       "    MathJax.Hub.Config({\n",
       "                        TeX: {\n",
       "                           extensions: [\"AMSmath.js\"]\n",
       "                           },\n",
       "                tex2jax: {\n",
       "                    inlineMath: [ ['$','$'], [\"\\\\(\",\"\\\\)\"] ],\n",
       "                    displayMath: [ ['$$','$$'], [\"\\\\[\",\"\\\\]\"] ]\n",
       "                },\n",
       "                displayAlign: 'center', // Change this to 'center' to center equations.\n",
       "                \"HTML-CSS\": {\n",
       "                    styles: {'.MathJax_Display': {\"margin\": 4}}\n",
       "                }\n",
       "        });\n",
       "</script>"
      ],
      "text/plain": [
       "<IPython.core.display.HTML object>"
      ]
     },
     "execution_count": 2,
     "metadata": {},
     "output_type": "execute_result"
    }
   ],
   "source": [
    "from IPython.core.display import HTML\n",
    "def css_styling():\n",
    "    styles = open(\"../styles/custom.css\", \"r\").read()\n",
    "    return HTML(styles)\n",
    "css_styling()"
   ]
  },
  {
   "cell_type": "markdown",
   "metadata": {},
   "source": [
    "## Required packages "
   ]
  },
  {
   "cell_type": "code",
   "execution_count": 3,
   "metadata": {},
   "outputs": [],
   "source": [
    "import matplotlib.pyplot as plt\n",
    "import sys\n",
    "import os\n",
    "import pandas as pd"
   ]
  },
  {
   "cell_type": "code",
   "execution_count": 4,
   "metadata": {},
   "outputs": [],
   "source": [
    "%matplotlib inline\n",
    "%load_ext autoreload\n",
    "%autoreload 2"
   ]
  },
  {
   "cell_type": "code",
   "execution_count": 5,
   "metadata": {},
   "outputs": [],
   "source": [
    "# to enlarge the sizes\n",
    "params = {'legend.fontsize': 'x-large',\n",
    "          'figure.figsize': (10, 6),   #defines the default image size\n",
    "         'axes.labelsize': 'x-large',\n",
    "         'axes.titlesize':'x-large',\n",
    "         'xtick.labelsize':'x-large',\n",
    "         'ytick.labelsize':'x-large'}\n",
    "plt.rcParams.update(params)"
   ]
  },
  {
   "cell_type": "code",
   "execution_count": 6,
   "metadata": {},
   "outputs": [],
   "source": [
    "plt.rcParams.update({'figure.max_open_warning': 0}) # to see a large number of files"
   ]
  },
  {
   "cell_type": "markdown",
   "metadata": {},
   "source": [
    "## Tools"
   ]
  },
  {
   "cell_type": "markdown",
   "metadata": {},
   "source": [
    "Spectractor is supposed to be installed in paralel to Spectractorsim"
   ]
  },
  {
   "cell_type": "code",
   "execution_count": 7,
   "metadata": {},
   "outputs": [],
   "source": [
    "PATH_SPECTRACTOR='../../Spectractor'\n",
    "PATH_SPECTRACTORSIM='../../SpectractorSim'\n",
    "PATH_SPECTRACTORANAATM='../../SpectractorAnaAtm'"
   ]
  },
  {
   "cell_type": "code",
   "execution_count": 8,
   "metadata": {},
   "outputs": [
    {
     "data": {
      "text/plain": [
       "'../../Spectractor'"
      ]
     },
     "execution_count": 8,
     "metadata": {},
     "output_type": "execute_result"
    }
   ],
   "source": [
    "PATH_SPECTRACTOR"
   ]
  },
  {
   "cell_type": "code",
   "execution_count": 9,
   "metadata": {},
   "outputs": [],
   "source": [
    "sys.path.append(PATH_SPECTRACTOR)\n",
    "sys.path.append(PATH_SPECTRACTORSIM)"
   ]
  },
  {
   "cell_type": "markdown",
   "metadata": {},
   "source": [
    "## Spectractor "
   ]
  },
  {
   "cell_type": "code",
   "execution_count": 10,
   "metadata": {},
   "outputs": [],
   "source": [
    "from spectractor import *"
   ]
  },
  {
   "cell_type": "code",
   "execution_count": 11,
   "metadata": {},
   "outputs": [],
   "source": [
    "from tools import *\n",
    "from holo_specs import *\n",
    "from targets import *\n",
    "from optics import *\n",
    "import parameters "
   ]
  },
  {
   "cell_type": "markdown",
   "metadata": {},
   "source": [
    "## SpectractorSim"
   ]
  },
  {
   "cell_type": "code",
   "execution_count": 12,
   "metadata": {},
   "outputs": [],
   "source": [
    "from spectractorsim import *"
   ]
  },
  {
   "cell_type": "markdown",
   "metadata": {},
   "source": [
    "# Configuration"
   ]
  },
  {
   "cell_type": "markdown",
   "metadata": {},
   "source": [
    "## Input Directory"
   ]
  },
  {
   "cell_type": "markdown",
   "metadata": {},
   "source": [
    "### So use HD205905"
   ]
  },
  {
   "cell_type": "code",
   "execution_count": 13,
   "metadata": {},
   "outputs": [],
   "source": [
    "#inputdir=\"/sps/lsst/data/AtmosphericCalibration/CTIODataJune2017_reduced_RG715_v2/data_30may17\"\n",
    "inputdir=\"/Users/dagoret/DATA/CTIODataJune2017_reduced_RG715_v2/data_30may17\"\n",
    "#MIN_IMGNUMBER=208\n",
    "MIN_IMGNUMBER=230\n",
    "MAX_IMGNUMBER=284\n",
    "date=\"20170530\"\n",
    "object_name='HD205905'\n",
    "tag = \"reduc\"\n",
    "SelectTagRe='^%s_%s_([0-9]+).fits$' % (tag,date) # regular expression to select the file\n",
    "SearchTagRe='^%s_%s_[0-9]+.fits$' % (tag,date)\n",
    "NBIMGPERROW=2\n",
    "subdir=os.path.basename(inputdir)"
   ]
  },
  {
   "cell_type": "markdown",
   "metadata": {},
   "source": [
    "# Output directory"
   ]
  },
  {
   "cell_type": "code",
   "execution_count": 14,
   "metadata": {},
   "outputs": [],
   "source": [
    "dir_top_images=\"images_notebooks/\"+theNotebook ### Top directory to save images\n",
    "ensure_dir(dir_top_images) # create that directory\n",
    "outputdir=\"./simspectra\"\n",
    "#ensure_dir(outputdir)"
   ]
  },
  {
   "cell_type": "markdown",
   "metadata": {},
   "source": [
    "# Logbook"
   ]
  },
  {
   "cell_type": "markdown",
   "metadata": {},
   "source": [
    "For the moment, the logbook is in the local directory"
   ]
  },
  {
   "cell_type": "code",
   "execution_count": 15,
   "metadata": {},
   "outputs": [
    {
     "name": "stdout",
     "output_type": "stream",
     "text": [
      "ctiofulllogbook_jun2017_v3.csv   ctiofulllogbook_jun2017_v4.xlsx\r\n",
      "ctiofulllogbook_jun2017_v3.xlsx\r\n"
     ]
    }
   ],
   "source": [
    "ls ../../SpectractorAnaAtm/common_info"
   ]
  },
  {
   "cell_type": "code",
   "execution_count": 16,
   "metadata": {},
   "outputs": [],
   "source": [
    "file_logbook_csv='ctiofulllogbook_jun2017_v3.csv'\n",
    "file_logbook_xlsx='../ctiofulllogbook_jun2017_v3.xlsx'\n",
    "file_logbook_xlsx=os.path.join(PATH_SPECTRACTORANAATM,'common_info/ctiofulllogbook_jun2017_v4.xlsx')"
   ]
  },
  {
   "cell_type": "code",
   "execution_count": 17,
   "metadata": {},
   "outputs": [
    {
     "data": {
      "text/plain": [
       "'../../SpectractorAnaAtm/common_info/ctiofulllogbook_jun2017_v4.xlsx'"
      ]
     },
     "execution_count": 17,
     "metadata": {},
     "output_type": "execute_result"
    }
   ],
   "source": [
    "file_logbook_xlsx"
   ]
  },
  {
   "cell_type": "code",
   "execution_count": 18,
   "metadata": {},
   "outputs": [],
   "source": [
    "#df=pd.read_csv(file_logbook_csv,index_col=0)\n",
    "df=pd.read_excel(file_logbook_xlsx,index_col=0)"
   ]
  },
  {
   "cell_type": "code",
   "execution_count": 19,
   "metadata": {},
   "outputs": [
    {
     "data": {
      "text/html": [
       "<div>\n",
       "<style scoped>\n",
       "    .dataframe tbody tr th:only-of-type {\n",
       "        vertical-align: middle;\n",
       "    }\n",
       "\n",
       "    .dataframe tbody tr th {\n",
       "        vertical-align: top;\n",
       "    }\n",
       "\n",
       "    .dataframe thead th {\n",
       "        text-align: right;\n",
       "    }\n",
       "</style>\n",
       "<table border=\"1\" class=\"dataframe\">\n",
       "  <thead>\n",
       "    <tr style=\"text-align: right;\">\n",
       "      <th></th>\n",
       "      <th>date</th>\n",
       "      <th>subdir</th>\n",
       "      <th>index</th>\n",
       "      <th>object</th>\n",
       "      <th>filter</th>\n",
       "      <th>disperser</th>\n",
       "      <th>airmass</th>\n",
       "      <th>exposure</th>\n",
       "      <th>focus</th>\n",
       "      <th>seeing</th>\n",
       "      <th>...</th>\n",
       "      <th>T</th>\n",
       "      <th>RH</th>\n",
       "      <th>W</th>\n",
       "      <th>file</th>\n",
       "      <th>Obj-posXpix</th>\n",
       "      <th>Obj-posYpix</th>\n",
       "      <th>Dx</th>\n",
       "      <th>Dy</th>\n",
       "      <th>comment</th>\n",
       "      <th>skip</th>\n",
       "    </tr>\n",
       "  </thead>\n",
       "  <tbody>\n",
       "    <tr>\n",
       "      <th>215</th>\n",
       "      <td>2017-05-30T21:17:00.652</td>\n",
       "      <td>data_30may17</td>\n",
       "      <td>1</td>\n",
       "      <td>bias</td>\n",
       "      <td>RG715</td>\n",
       "      <td>Ron400</td>\n",
       "      <td>1.181</td>\n",
       "      <td>0.0</td>\n",
       "      <td>12650</td>\n",
       "      <td>1.724</td>\n",
       "      <td>...</td>\n",
       "      <td>7.6</td>\n",
       "      <td>36</td>\n",
       "      <td>5.6</td>\n",
       "      <td>reduc_20170630_001.fits</td>\n",
       "      <td>NaN</td>\n",
       "      <td>NaN</td>\n",
       "      <td>NaN</td>\n",
       "      <td>NaN</td>\n",
       "      <td>NaN</td>\n",
       "      <td>NaN</td>\n",
       "    </tr>\n",
       "    <tr>\n",
       "      <th>147</th>\n",
       "      <td>2017-05-30T21:17:44.185</td>\n",
       "      <td>data_30may17</td>\n",
       "      <td>2</td>\n",
       "      <td>bias</td>\n",
       "      <td>RG715</td>\n",
       "      <td>Ron400</td>\n",
       "      <td>1.181</td>\n",
       "      <td>0.0</td>\n",
       "      <td>12650</td>\n",
       "      <td>1.724</td>\n",
       "      <td>...</td>\n",
       "      <td>7.6</td>\n",
       "      <td>36</td>\n",
       "      <td>5.6</td>\n",
       "      <td>reduc_20170630_002.fits</td>\n",
       "      <td>NaN</td>\n",
       "      <td>NaN</td>\n",
       "      <td>NaN</td>\n",
       "      <td>NaN</td>\n",
       "      <td>NaN</td>\n",
       "      <td>NaN</td>\n",
       "    </tr>\n",
       "    <tr>\n",
       "      <th>13</th>\n",
       "      <td>2017-05-30T21:18:27.708</td>\n",
       "      <td>data_30may17</td>\n",
       "      <td>3</td>\n",
       "      <td>bias</td>\n",
       "      <td>RG715</td>\n",
       "      <td>Ron400</td>\n",
       "      <td>1.181</td>\n",
       "      <td>0.0</td>\n",
       "      <td>12650</td>\n",
       "      <td>1.724</td>\n",
       "      <td>...</td>\n",
       "      <td>7.5</td>\n",
       "      <td>36</td>\n",
       "      <td>4.9</td>\n",
       "      <td>reduc_20170630_003.fits</td>\n",
       "      <td>NaN</td>\n",
       "      <td>NaN</td>\n",
       "      <td>NaN</td>\n",
       "      <td>NaN</td>\n",
       "      <td>NaN</td>\n",
       "      <td>NaN</td>\n",
       "    </tr>\n",
       "    <tr>\n",
       "      <th>45</th>\n",
       "      <td>2017-05-30T21:19:11.234</td>\n",
       "      <td>data_30may17</td>\n",
       "      <td>4</td>\n",
       "      <td>bias</td>\n",
       "      <td>RG715</td>\n",
       "      <td>Ron400</td>\n",
       "      <td>1.181</td>\n",
       "      <td>0.0</td>\n",
       "      <td>12650</td>\n",
       "      <td>1.724</td>\n",
       "      <td>...</td>\n",
       "      <td>7.5</td>\n",
       "      <td>36</td>\n",
       "      <td>4.7</td>\n",
       "      <td>reduc_20170630_004.fits</td>\n",
       "      <td>NaN</td>\n",
       "      <td>NaN</td>\n",
       "      <td>NaN</td>\n",
       "      <td>NaN</td>\n",
       "      <td>NaN</td>\n",
       "      <td>NaN</td>\n",
       "    </tr>\n",
       "    <tr>\n",
       "      <th>218</th>\n",
       "      <td>2017-05-30T21:19:54.772</td>\n",
       "      <td>data_30may17</td>\n",
       "      <td>5</td>\n",
       "      <td>bias</td>\n",
       "      <td>RG715</td>\n",
       "      <td>Ron400</td>\n",
       "      <td>1.181</td>\n",
       "      <td>0.0</td>\n",
       "      <td>12650</td>\n",
       "      <td>1.724</td>\n",
       "      <td>...</td>\n",
       "      <td>7.5</td>\n",
       "      <td>36</td>\n",
       "      <td>4.7</td>\n",
       "      <td>reduc_20170630_005.fits</td>\n",
       "      <td>NaN</td>\n",
       "      <td>NaN</td>\n",
       "      <td>NaN</td>\n",
       "      <td>NaN</td>\n",
       "      <td>NaN</td>\n",
       "      <td>NaN</td>\n",
       "    </tr>\n",
       "  </tbody>\n",
       "</table>\n",
       "<p>5 rows × 21 columns</p>\n",
       "</div>"
      ],
      "text/plain": [
       "                        date        subdir  index object filter disperser  \\\n",
       "215  2017-05-30T21:17:00.652  data_30may17      1   bias  RG715    Ron400   \n",
       "147  2017-05-30T21:17:44.185  data_30may17      2   bias  RG715    Ron400   \n",
       "13   2017-05-30T21:18:27.708  data_30may17      3   bias  RG715    Ron400   \n",
       "45   2017-05-30T21:19:11.234  data_30may17      4   bias  RG715    Ron400   \n",
       "218  2017-05-30T21:19:54.772  data_30may17      5   bias  RG715    Ron400   \n",
       "\n",
       "     airmass  exposure  focus  seeing ...     T  RH    W  \\\n",
       "215    1.181       0.0  12650   1.724 ...   7.6  36  5.6   \n",
       "147    1.181       0.0  12650   1.724 ...   7.6  36  5.6   \n",
       "13     1.181       0.0  12650   1.724 ...   7.5  36  4.9   \n",
       "45     1.181       0.0  12650   1.724 ...   7.5  36  4.7   \n",
       "218    1.181       0.0  12650   1.724 ...   7.5  36  4.7   \n",
       "\n",
       "                        file Obj-posXpix  Obj-posYpix  Dx  Dy  comment skip  \n",
       "215  reduc_20170630_001.fits         NaN          NaN NaN NaN      NaN  NaN  \n",
       "147  reduc_20170630_002.fits         NaN          NaN NaN NaN      NaN  NaN  \n",
       "13   reduc_20170630_003.fits         NaN          NaN NaN NaN      NaN  NaN  \n",
       "45   reduc_20170630_004.fits         NaN          NaN NaN NaN      NaN  NaN  \n",
       "218  reduc_20170630_005.fits         NaN          NaN NaN NaN      NaN  NaN  \n",
       "\n",
       "[5 rows x 21 columns]"
      ]
     },
     "execution_count": 19,
     "metadata": {},
     "output_type": "execute_result"
    }
   ],
   "source": [
    "df.head()"
   ]
  },
  {
   "cell_type": "markdown",
   "metadata": {},
   "source": [
    "# Extract the relevant data and sort by the column index"
   ]
  },
  {
   "cell_type": "code",
   "execution_count": 20,
   "metadata": {},
   "outputs": [],
   "source": [
    "all_obs=df.loc[(df[\"subdir\"]==subdir) & (df[\"object\"]==object_name),:].sort_values(by=['index'])"
   ]
  },
  {
   "cell_type": "code",
   "execution_count": 21,
   "metadata": {},
   "outputs": [
    {
     "data": {
      "text/html": [
       "<div>\n",
       "<style scoped>\n",
       "    .dataframe tbody tr th:only-of-type {\n",
       "        vertical-align: middle;\n",
       "    }\n",
       "\n",
       "    .dataframe tbody tr th {\n",
       "        vertical-align: top;\n",
       "    }\n",
       "\n",
       "    .dataframe thead th {\n",
       "        text-align: right;\n",
       "    }\n",
       "</style>\n",
       "<table border=\"1\" class=\"dataframe\">\n",
       "  <thead>\n",
       "    <tr style=\"text-align: right;\">\n",
       "      <th></th>\n",
       "      <th>date</th>\n",
       "      <th>subdir</th>\n",
       "      <th>index</th>\n",
       "      <th>object</th>\n",
       "      <th>filter</th>\n",
       "      <th>disperser</th>\n",
       "      <th>airmass</th>\n",
       "      <th>exposure</th>\n",
       "      <th>focus</th>\n",
       "      <th>seeing</th>\n",
       "      <th>...</th>\n",
       "      <th>T</th>\n",
       "      <th>RH</th>\n",
       "      <th>W</th>\n",
       "      <th>file</th>\n",
       "      <th>Obj-posXpix</th>\n",
       "      <th>Obj-posYpix</th>\n",
       "      <th>Dx</th>\n",
       "      <th>Dy</th>\n",
       "      <th>comment</th>\n",
       "      <th>skip</th>\n",
       "    </tr>\n",
       "  </thead>\n",
       "  <tbody>\n",
       "    <tr>\n",
       "      <th>71</th>\n",
       "      <td>2017-05-31T07:54:38.806</td>\n",
       "      <td>data_30may17</td>\n",
       "      <td>210</td>\n",
       "      <td>HD205905</td>\n",
       "      <td>dia</td>\n",
       "      <td>Ron400</td>\n",
       "      <td>1.101</td>\n",
       "      <td>60.0</td>\n",
       "      <td>12400</td>\n",
       "      <td>0.793</td>\n",
       "      <td>...</td>\n",
       "      <td>9.5</td>\n",
       "      <td>23</td>\n",
       "      <td>11.6</td>\n",
       "      <td>reduc_20170530_210.fits</td>\n",
       "      <td>790.0</td>\n",
       "      <td>700.0</td>\n",
       "      <td>100.0</td>\n",
       "      <td>100.0</td>\n",
       "      <td>NaN</td>\n",
       "      <td>NaN</td>\n",
       "    </tr>\n",
       "    <tr>\n",
       "      <th>39</th>\n",
       "      <td>2017-05-31T07:56:31.293</td>\n",
       "      <td>data_30may17</td>\n",
       "      <td>211</td>\n",
       "      <td>HD205905</td>\n",
       "      <td>dia</td>\n",
       "      <td>Thor300</td>\n",
       "      <td>1.097</td>\n",
       "      <td>60.0</td>\n",
       "      <td>12400</td>\n",
       "      <td>0.793</td>\n",
       "      <td>...</td>\n",
       "      <td>9.4</td>\n",
       "      <td>24</td>\n",
       "      <td>11.5</td>\n",
       "      <td>reduc_20170530_211.fits</td>\n",
       "      <td>790.0</td>\n",
       "      <td>700.0</td>\n",
       "      <td>100.0</td>\n",
       "      <td>100.0</td>\n",
       "      <td>NaN</td>\n",
       "      <td>NaN</td>\n",
       "    </tr>\n",
       "    <tr>\n",
       "      <th>5</th>\n",
       "      <td>2017-05-31T07:58:23.653</td>\n",
       "      <td>data_30may17</td>\n",
       "      <td>212</td>\n",
       "      <td>HD205905</td>\n",
       "      <td>dia</td>\n",
       "      <td>HoloPhP</td>\n",
       "      <td>1.094</td>\n",
       "      <td>60.0</td>\n",
       "      <td>12400</td>\n",
       "      <td>0.793</td>\n",
       "      <td>...</td>\n",
       "      <td>9.5</td>\n",
       "      <td>24</td>\n",
       "      <td>10.5</td>\n",
       "      <td>reduc_20170530_212.fits</td>\n",
       "      <td>790.0</td>\n",
       "      <td>700.0</td>\n",
       "      <td>100.0</td>\n",
       "      <td>100.0</td>\n",
       "      <td>NaN</td>\n",
       "      <td>NaN</td>\n",
       "    </tr>\n",
       "    <tr>\n",
       "      <th>110</th>\n",
       "      <td>2017-05-31T08:00:16.053</td>\n",
       "      <td>data_30may17</td>\n",
       "      <td>213</td>\n",
       "      <td>HD205905</td>\n",
       "      <td>dia</td>\n",
       "      <td>HoloPhAg</td>\n",
       "      <td>1.090</td>\n",
       "      <td>120.0</td>\n",
       "      <td>12400</td>\n",
       "      <td>0.793</td>\n",
       "      <td>...</td>\n",
       "      <td>9.7</td>\n",
       "      <td>23</td>\n",
       "      <td>12.0</td>\n",
       "      <td>reduc_20170530_213.fits</td>\n",
       "      <td>790.0</td>\n",
       "      <td>700.0</td>\n",
       "      <td>100.0</td>\n",
       "      <td>100.0</td>\n",
       "      <td>NaN</td>\n",
       "      <td>NaN</td>\n",
       "    </tr>\n",
       "    <tr>\n",
       "      <th>149</th>\n",
       "      <td>2017-05-31T08:03:08.495</td>\n",
       "      <td>data_30may17</td>\n",
       "      <td>214</td>\n",
       "      <td>HD205905</td>\n",
       "      <td>dia</td>\n",
       "      <td>HoloAmAg</td>\n",
       "      <td>1.085</td>\n",
       "      <td>120.0</td>\n",
       "      <td>12400</td>\n",
       "      <td>0.793</td>\n",
       "      <td>...</td>\n",
       "      <td>9.6</td>\n",
       "      <td>23</td>\n",
       "      <td>13.4</td>\n",
       "      <td>reduc_20170530_214.fits</td>\n",
       "      <td>790.0</td>\n",
       "      <td>700.0</td>\n",
       "      <td>100.0</td>\n",
       "      <td>100.0</td>\n",
       "      <td>NaN</td>\n",
       "      <td>NaN</td>\n",
       "    </tr>\n",
       "  </tbody>\n",
       "</table>\n",
       "<p>5 rows × 21 columns</p>\n",
       "</div>"
      ],
      "text/plain": [
       "                        date        subdir  index    object filter disperser  \\\n",
       "71   2017-05-31T07:54:38.806  data_30may17    210  HD205905    dia    Ron400   \n",
       "39   2017-05-31T07:56:31.293  data_30may17    211  HD205905    dia   Thor300   \n",
       "5    2017-05-31T07:58:23.653  data_30may17    212  HD205905    dia   HoloPhP   \n",
       "110  2017-05-31T08:00:16.053  data_30may17    213  HD205905    dia  HoloPhAg   \n",
       "149  2017-05-31T08:03:08.495  data_30may17    214  HD205905    dia  HoloAmAg   \n",
       "\n",
       "     airmass  exposure  focus  seeing ...     T  RH     W  \\\n",
       "71     1.101      60.0  12400   0.793 ...   9.5  23  11.6   \n",
       "39     1.097      60.0  12400   0.793 ...   9.4  24  11.5   \n",
       "5      1.094      60.0  12400   0.793 ...   9.5  24  10.5   \n",
       "110    1.090     120.0  12400   0.793 ...   9.7  23  12.0   \n",
       "149    1.085     120.0  12400   0.793 ...   9.6  23  13.4   \n",
       "\n",
       "                        file Obj-posXpix  Obj-posYpix     Dx     Dy  comment  \\\n",
       "71   reduc_20170530_210.fits       790.0        700.0  100.0  100.0      NaN   \n",
       "39   reduc_20170530_211.fits       790.0        700.0  100.0  100.0      NaN   \n",
       "5    reduc_20170530_212.fits       790.0        700.0  100.0  100.0      NaN   \n",
       "110  reduc_20170530_213.fits       790.0        700.0  100.0  100.0      NaN   \n",
       "149  reduc_20170530_214.fits       790.0        700.0  100.0  100.0      NaN   \n",
       "\n",
       "    skip  \n",
       "71   NaN  \n",
       "39   NaN  \n",
       "5    NaN  \n",
       "110  NaN  \n",
       "149  NaN  \n",
       "\n",
       "[5 rows x 21 columns]"
      ]
     },
     "execution_count": 21,
     "metadata": {},
     "output_type": "execute_result"
    }
   ],
   "source": [
    "all_obs.head()"
   ]
  },
  {
   "cell_type": "markdown",
   "metadata": {},
   "source": [
    "# Extract relevant info for SpectractorSim"
   ]
  },
  {
   "cell_type": "code",
   "execution_count": 22,
   "metadata": {},
   "outputs": [],
   "source": [
    "target_tosimspec=all_obs[['index','object','airmass','filter','disperser','exposure','P','T','RH','file','date']]"
   ]
  },
  {
   "cell_type": "code",
   "execution_count": 23,
   "metadata": {},
   "outputs": [
    {
     "data": {
      "text/html": [
       "<div>\n",
       "<style scoped>\n",
       "    .dataframe tbody tr th:only-of-type {\n",
       "        vertical-align: middle;\n",
       "    }\n",
       "\n",
       "    .dataframe tbody tr th {\n",
       "        vertical-align: top;\n",
       "    }\n",
       "\n",
       "    .dataframe thead th {\n",
       "        text-align: right;\n",
       "    }\n",
       "</style>\n",
       "<table border=\"1\" class=\"dataframe\">\n",
       "  <thead>\n",
       "    <tr style=\"text-align: right;\">\n",
       "      <th></th>\n",
       "      <th>index</th>\n",
       "      <th>object</th>\n",
       "      <th>airmass</th>\n",
       "      <th>filter</th>\n",
       "      <th>disperser</th>\n",
       "      <th>exposure</th>\n",
       "      <th>P</th>\n",
       "      <th>T</th>\n",
       "      <th>RH</th>\n",
       "      <th>file</th>\n",
       "      <th>date</th>\n",
       "    </tr>\n",
       "  </thead>\n",
       "  <tbody>\n",
       "    <tr>\n",
       "      <th>71</th>\n",
       "      <td>210</td>\n",
       "      <td>HD205905</td>\n",
       "      <td>1.101</td>\n",
       "      <td>dia</td>\n",
       "      <td>Ron400</td>\n",
       "      <td>60.0</td>\n",
       "      <td>782</td>\n",
       "      <td>9.5</td>\n",
       "      <td>23</td>\n",
       "      <td>reduc_20170530_210.fits</td>\n",
       "      <td>2017-05-31T07:54:38.806</td>\n",
       "    </tr>\n",
       "    <tr>\n",
       "      <th>39</th>\n",
       "      <td>211</td>\n",
       "      <td>HD205905</td>\n",
       "      <td>1.097</td>\n",
       "      <td>dia</td>\n",
       "      <td>Thor300</td>\n",
       "      <td>60.0</td>\n",
       "      <td>782</td>\n",
       "      <td>9.4</td>\n",
       "      <td>24</td>\n",
       "      <td>reduc_20170530_211.fits</td>\n",
       "      <td>2017-05-31T07:56:31.293</td>\n",
       "    </tr>\n",
       "    <tr>\n",
       "      <th>5</th>\n",
       "      <td>212</td>\n",
       "      <td>HD205905</td>\n",
       "      <td>1.094</td>\n",
       "      <td>dia</td>\n",
       "      <td>HoloPhP</td>\n",
       "      <td>60.0</td>\n",
       "      <td>782</td>\n",
       "      <td>9.5</td>\n",
       "      <td>24</td>\n",
       "      <td>reduc_20170530_212.fits</td>\n",
       "      <td>2017-05-31T07:58:23.653</td>\n",
       "    </tr>\n",
       "    <tr>\n",
       "      <th>110</th>\n",
       "      <td>213</td>\n",
       "      <td>HD205905</td>\n",
       "      <td>1.090</td>\n",
       "      <td>dia</td>\n",
       "      <td>HoloPhAg</td>\n",
       "      <td>120.0</td>\n",
       "      <td>782</td>\n",
       "      <td>9.7</td>\n",
       "      <td>23</td>\n",
       "      <td>reduc_20170530_213.fits</td>\n",
       "      <td>2017-05-31T08:00:16.053</td>\n",
       "    </tr>\n",
       "    <tr>\n",
       "      <th>149</th>\n",
       "      <td>214</td>\n",
       "      <td>HD205905</td>\n",
       "      <td>1.085</td>\n",
       "      <td>dia</td>\n",
       "      <td>HoloAmAg</td>\n",
       "      <td>120.0</td>\n",
       "      <td>782</td>\n",
       "      <td>9.6</td>\n",
       "      <td>23</td>\n",
       "      <td>reduc_20170530_214.fits</td>\n",
       "      <td>2017-05-31T08:03:08.495</td>\n",
       "    </tr>\n",
       "  </tbody>\n",
       "</table>\n",
       "</div>"
      ],
      "text/plain": [
       "     index    object  airmass filter disperser  exposure    P    T  RH  \\\n",
       "71     210  HD205905    1.101    dia    Ron400      60.0  782  9.5  23   \n",
       "39     211  HD205905    1.097    dia   Thor300      60.0  782  9.4  24   \n",
       "5      212  HD205905    1.094    dia   HoloPhP      60.0  782  9.5  24   \n",
       "110    213  HD205905    1.090    dia  HoloPhAg     120.0  782  9.7  23   \n",
       "149    214  HD205905    1.085    dia  HoloAmAg     120.0  782  9.6  23   \n",
       "\n",
       "                        file                     date  \n",
       "71   reduc_20170530_210.fits  2017-05-31T07:54:38.806  \n",
       "39   reduc_20170530_211.fits  2017-05-31T07:56:31.293  \n",
       "5    reduc_20170530_212.fits  2017-05-31T07:58:23.653  \n",
       "110  reduc_20170530_213.fits  2017-05-31T08:00:16.053  \n",
       "149  reduc_20170530_214.fits  2017-05-31T08:03:08.495  "
      ]
     },
     "execution_count": 23,
     "metadata": {},
     "output_type": "execute_result"
    }
   ],
   "source": [
    "target_tosimspec.head()"
   ]
  },
  {
   "cell_type": "markdown",
   "metadata": {},
   "source": [
    "### Setting the parameters of SpectractorSim"
   ]
  },
  {
   "cell_type": "code",
   "execution_count": null,
   "metadata": {},
   "outputs": [],
   "source": [
    "parameters.DEBUG = False\n",
    "parameters.VERBOSE = False"
   ]
  },
  {
   "cell_type": "code",
   "execution_count": null,
   "metadata": {},
   "outputs": [
    {
     "name": "stdout",
     "output_type": "stream",
     "text": [
      "******* spectrum id= reduc_20170530_210.fits  airmass = 1.101  pressure = 782\n",
      "Loading /Users/dagoret/MacOSX/External/PySynPhotData/grp/hst/cdbs/calspec/hd205905_stis_001.fits\n",
      "Loading /Users/dagoret/MacOSX/External/PySynPhotData/grp/hst/cdbs/calspec/hd205905_stis_002.fits\n",
      "Loading /Users/dagoret/MacOSX/External/PySynPhotData/grp/hst/cdbs/calspec/hd205905_stis_003.fits\n",
      "Loading /Users/dagoret/MacOSX/External/PySynPhotData/grp/hst/cdbs/calspec/hd205905_stis_004.fits\n",
      "******* spectrum id= reduc_20170530_211.fits  airmass = 1.097  pressure = 782\n",
      "Loading /Users/dagoret/MacOSX/External/PySynPhotData/grp/hst/cdbs/calspec/hd205905_stis_001.fits\n",
      "Loading /Users/dagoret/MacOSX/External/PySynPhotData/grp/hst/cdbs/calspec/hd205905_stis_002.fits\n",
      "Loading /Users/dagoret/MacOSX/External/PySynPhotData/grp/hst/cdbs/calspec/hd205905_stis_003.fits\n",
      "Loading /Users/dagoret/MacOSX/External/PySynPhotData/grp/hst/cdbs/calspec/hd205905_stis_004.fits\n",
      "******* spectrum id= reduc_20170530_212.fits  airmass = 1.094  pressure = 782\n",
      "Loading /Users/dagoret/MacOSX/External/PySynPhotData/grp/hst/cdbs/calspec/hd205905_stis_001.fits\n",
      "Loading /Users/dagoret/MacOSX/External/PySynPhotData/grp/hst/cdbs/calspec/hd205905_stis_002.fits\n",
      "Loading /Users/dagoret/MacOSX/External/PySynPhotData/grp/hst/cdbs/calspec/hd205905_stis_003.fits\n",
      "Loading /Users/dagoret/MacOSX/External/PySynPhotData/grp/hst/cdbs/calspec/hd205905_stis_004.fits\n",
      "******* spectrum id= reduc_20170530_213.fits  airmass = 1.09  pressure = 782\n",
      "Loading /Users/dagoret/MacOSX/External/PySynPhotData/grp/hst/cdbs/calspec/hd205905_stis_001.fits\n",
      "Loading /Users/dagoret/MacOSX/External/PySynPhotData/grp/hst/cdbs/calspec/hd205905_stis_002.fits\n",
      "Loading /Users/dagoret/MacOSX/External/PySynPhotData/grp/hst/cdbs/calspec/hd205905_stis_003.fits\n",
      "Loading /Users/dagoret/MacOSX/External/PySynPhotData/grp/hst/cdbs/calspec/hd205905_stis_004.fits\n",
      "******* spectrum id= reduc_20170530_214.fits  airmass = 1.085  pressure = 782\n",
      "Loading /Users/dagoret/MacOSX/External/PySynPhotData/grp/hst/cdbs/calspec/hd205905_stis_001.fits\n",
      "Loading /Users/dagoret/MacOSX/External/PySynPhotData/grp/hst/cdbs/calspec/hd205905_stis_002.fits\n",
      "Loading /Users/dagoret/MacOSX/External/PySynPhotData/grp/hst/cdbs/calspec/hd205905_stis_003.fits\n",
      "Loading /Users/dagoret/MacOSX/External/PySynPhotData/grp/hst/cdbs/calspec/hd205905_stis_004.fits\n",
      "******* spectrum id= reduc_20170530_215.fits  airmass = 1.08  pressure = 782\n"
     ]
    }
   ],
   "source": [
    "for index, row in target_tosimspec.iterrows():\n",
    "    index=row['file']\n",
    "    targetname=row['object']\n",
    "    airmass=row['airmass']\n",
    "    filename_data=row['file']\n",
    "    filtername=row['filter']\n",
    "    dispersername=row['disperser']\n",
    "    exposure=row['exposure']\n",
    "    pressure=row['P']\n",
    "    temperature=row['T']\n",
    "    rhumidity=row['RH']\n",
    "    date=row['date']\n",
    "    print '******* spectrum id=',index, ' airmass =',airmass,' pressure =',pressure\n",
    "    SpectractorSim(filename_data,outputdir,targetname,index,airmass,pressure,temperature,rhumidity,exposure,filtername,dispersername)\n",
    "    "
   ]
  },
  {
   "cell_type": "code",
   "execution_count": null,
   "metadata": {},
   "outputs": [],
   "source": []
  }
 ],
 "metadata": {
  "kernelspec": {
   "display_name": "Python 2",
   "language": "python",
   "name": "python2"
  },
  "language_info": {
   "codemirror_mode": {
    "name": "ipython",
    "version": 2
   },
   "file_extension": ".py",
   "mimetype": "text/x-python",
   "name": "python",
   "nbconvert_exporter": "python",
   "pygments_lexer": "ipython2",
   "version": "2.7.14"
  },
  "toc": {
   "nav_menu": {},
   "number_sections": true,
   "sideBar": true,
   "skip_h1_title": false,
   "toc_cell": false,
   "toc_position": {},
   "toc_section_display": "block",
   "toc_window_display": false
  }
 },
 "nbformat": 4,
 "nbformat_minor": 2
}
