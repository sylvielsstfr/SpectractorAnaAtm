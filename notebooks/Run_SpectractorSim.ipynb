{
 "cells": [
  {
   "cell_type": "markdown",
   "metadata": {},
   "source": [
    "# Spectractor Simulation\n",
    "\n",
    "Goal is to process a series of images in order to produce spectra\n",
    "\n",
    "- author Sylvie Dagoret-Campagne\n",
    "- date : April 05th 2018\n",
    "- update : April 09th 2018\n"
   ]
  },
  {
   "cell_type": "code",
   "execution_count": 1,
   "metadata": {},
   "outputs": [],
   "source": [
    "theNotebook=\"Run_SpectractorSim\""
   ]
  },
  {
   "cell_type": "markdown",
   "metadata": {},
   "source": [
    "# Spectractor Launcher"
   ]
  },
  {
   "cell_type": "code",
   "execution_count": 2,
   "metadata": {},
   "outputs": [
    {
     "data": {
      "text/html": [
       "<style>\n",
       "    @font-face {\n",
       "        font-family: \"Computer Modern\";\n",
       "        src: url('http://mirrors.ctan.org/fonts/cm-unicode/fonts/otf/cmunss.otf');\n",
       "    }\n",
       "    div.cell{\n",
       "        width: 90%;\n",
       "/*        margin-left:auto;*/\n",
       "/*        margin-right:auto;*/\n",
       "    }\n",
       "    ul {\n",
       "        line-height: 145%;\n",
       "        font-size: 90%;\n",
       "    }\n",
       "    li {\n",
       "        margin-bottom: 1em;\n",
       "    }\n",
       "    h1 {\n",
       "        font-family: Helvetica, serif;\n",
       "    }\n",
       "    h4{\n",
       "        margin-top: 12px;\n",
       "        margin-bottom: 3px;\n",
       "       }\n",
       "    div.text_cell_render{\n",
       "        font-family: Computer Modern, \"Helvetica Neue\", Arial, Helvetica, Geneva, sans-serif;\n",
       "        line-height: 145%;\n",
       "        font-size: 130%;\n",
       "        width: 90%;\n",
       "        margin-left:auto;\n",
       "        margin-right:auto;\n",
       "    }\n",
       "    .CodeMirror{\n",
       "            font-family: \"Source Code Pro\", source-code-pro,Consolas, monospace;\n",
       "    }\n",
       "/*    .prompt{\n",
       "        display: None;\n",
       "    }*/\n",
       "    .text_cell_render h5 {\n",
       "        font-weight: 300;\n",
       "        font-size: 16pt;\n",
       "        color: #4057A1;\n",
       "        font-style: italic;\n",
       "        margin-bottom: 0.5em;\n",
       "        margin-top: 0.5em;\n",
       "        display: block;\n",
       "    }\n",
       "\n",
       "    .warning{\n",
       "        color: rgb( 240, 20, 20 )\n",
       "        }\n",
       "</style>\n",
       "<script>\n",
       "    MathJax.Hub.Config({\n",
       "                        TeX: {\n",
       "                           extensions: [\"AMSmath.js\"]\n",
       "                           },\n",
       "                tex2jax: {\n",
       "                    inlineMath: [ ['$','$'], [\"\\\\(\",\"\\\\)\"] ],\n",
       "                    displayMath: [ ['$$','$$'], [\"\\\\[\",\"\\\\]\"] ]\n",
       "                },\n",
       "                displayAlign: 'center', // Change this to 'center' to center equations.\n",
       "                \"HTML-CSS\": {\n",
       "                    styles: {'.MathJax_Display': {\"margin\": 4}}\n",
       "                }\n",
       "        });\n",
       "</script>"
      ],
      "text/plain": [
       "<IPython.core.display.HTML object>"
      ]
     },
     "execution_count": 2,
     "metadata": {},
     "output_type": "execute_result"
    }
   ],
   "source": [
    "from IPython.core.display import HTML\n",
    "def css_styling():\n",
    "    styles = open(\"../styles/custom.css\", \"r\").read()\n",
    "    return HTML(styles)\n",
    "css_styling()"
   ]
  },
  {
   "cell_type": "markdown",
   "metadata": {},
   "source": [
    "## Required packages "
   ]
  },
  {
   "cell_type": "code",
   "execution_count": 3,
   "metadata": {},
   "outputs": [],
   "source": [
    "import matplotlib.pyplot as plt\n",
    "import sys\n",
    "import os\n",
    "import pandas as pd"
   ]
  },
  {
   "cell_type": "code",
   "execution_count": 4,
   "metadata": {},
   "outputs": [],
   "source": [
    "%matplotlib inline\n",
    "%load_ext autoreload\n",
    "%autoreload 2"
   ]
  },
  {
   "cell_type": "code",
   "execution_count": 5,
   "metadata": {},
   "outputs": [],
   "source": [
    "# to enlarge the sizes\n",
    "params = {'legend.fontsize': 'x-large',\n",
    "          'figure.figsize': (10, 6),   #defines the default image size\n",
    "         'axes.labelsize': 'x-large',\n",
    "         'axes.titlesize':'x-large',\n",
    "         'xtick.labelsize':'x-large',\n",
    "         'ytick.labelsize':'x-large'}\n",
    "plt.rcParams.update(params)"
   ]
  },
  {
   "cell_type": "code",
   "execution_count": 6,
   "metadata": {},
   "outputs": [],
   "source": [
    "plt.rcParams.update({'figure.max_open_warning': 0}) # to see a large number of files"
   ]
  },
  {
   "cell_type": "markdown",
   "metadata": {},
   "source": [
    "## Tools"
   ]
  },
  {
   "cell_type": "markdown",
   "metadata": {},
   "source": [
    "Spectractor is supposed to be installed in paralel to Spectractorsim"
   ]
  },
  {
   "cell_type": "code",
   "execution_count": 7,
   "metadata": {},
   "outputs": [],
   "source": [
    "PATH_SPECTRACTOR='../../Spectractor'\n",
    "PATH_SPECTRACTORSIM='../../SpectractorSim'\n",
    "PATH_SPECTRACTORANAATM='../../SpectractorAnaAtm'"
   ]
  },
  {
   "cell_type": "code",
   "execution_count": 8,
   "metadata": {},
   "outputs": [
    {
     "data": {
      "text/plain": [
       "'../../Spectractor'"
      ]
     },
     "execution_count": 8,
     "metadata": {},
     "output_type": "execute_result"
    }
   ],
   "source": [
    "PATH_SPECTRACTOR"
   ]
  },
  {
   "cell_type": "code",
   "execution_count": 9,
   "metadata": {},
   "outputs": [],
   "source": [
    "sys.path.append(PATH_SPECTRACTOR)\n",
    "sys.path.append(PATH_SPECTRACTORSIM)"
   ]
  },
  {
   "cell_type": "markdown",
   "metadata": {},
   "source": [
    "## Spectractor "
   ]
  },
  {
   "cell_type": "code",
   "execution_count": 10,
   "metadata": {},
   "outputs": [],
   "source": [
    "from spectractor import *"
   ]
  },
  {
   "cell_type": "code",
   "execution_count": 11,
   "metadata": {},
   "outputs": [],
   "source": [
    "from tools import *\n",
    "from holo_specs import *\n",
    "from targets import *\n",
    "from optics import *\n",
    "import parameters "
   ]
  },
  {
   "cell_type": "markdown",
   "metadata": {},
   "source": [
    "## SpectractorSim"
   ]
  },
  {
   "cell_type": "code",
   "execution_count": 12,
   "metadata": {},
   "outputs": [],
   "source": [
    "from spectractorsim import *"
   ]
  },
  {
   "cell_type": "markdown",
   "metadata": {},
   "source": [
    "# Configuration"
   ]
  },
  {
   "cell_type": "markdown",
   "metadata": {},
   "source": [
    "## Input Directory"
   ]
  },
  {
   "cell_type": "markdown",
   "metadata": {},
   "source": [
    "### So use HD205905"
   ]
  },
  {
   "cell_type": "code",
   "execution_count": 13,
   "metadata": {},
   "outputs": [],
   "source": [
    "if 0:\n",
    "    #inputdir=\"/sps/lsst/data/AtmosphericCalibration/CTIODataJune2017_reduced_RG715_v2/data_30may17\"\n",
    "    inputdir=\"/Users/dagoret/DATA/CTIODataJune2017_reduced_RG715_v2/data_30may17\"\n",
    "    #MIN_IMGNUMBER=208\n",
    "    MIN_IMGNUMBER=230\n",
    "    MAX_IMGNUMBER=284\n",
    "    date=\"20170530\"\n",
    "    object_name='HD205905'\n",
    "    tag = \"reduc\"\n",
    "    SelectTagRe='^%s_%s_([0-9]+).fits$' % (tag,date) # regular expression to select the file\n",
    "    SearchTagRe='^%s_%s_[0-9]+.fits$' % (tag,date)\n",
    "    NBIMGPERROW=2\n",
    "    subdir=os.path.basename(inputdir)"
   ]
  },
  {
   "cell_type": "code",
   "execution_count": 14,
   "metadata": {},
   "outputs": [],
   "source": [
    "# Simulation April 9th 2018 by Sylvie\n",
    "#inputdir=\"/sps/lsst/data/AtmosphericCalibration/CTIODataJune2017_reduced_RG715_v2/data_30may17\"\n",
    "inputdir=\"/Users/dagoret/DATA/CTIODataJune2017_reduced_RG715_v2/data_28may17\"\n",
    "#MIN_IMGNUMBER=208\n",
    "MIN_IMGNUMBER=56\n",
    "MAX_IMGNUMBER=135\n",
    "date=\"20170528\"\n",
    "object_name='HD185975'\n",
    "tag = \"reduc\"\n",
    "SelectTagRe='^%s_%s_([0-9]+).fits$' % (tag,date) # regular expression to select the file\n",
    "SearchTagRe='^%s_%s_[0-9]+.fits$' % (tag,date)\n",
    "NBIMGPERROW=2\n",
    "subdir=os.path.basename(inputdir)"
   ]
  },
  {
   "cell_type": "markdown",
   "metadata": {},
   "source": [
    "# Output directory"
   ]
  },
  {
   "cell_type": "code",
   "execution_count": 15,
   "metadata": {},
   "outputs": [],
   "source": [
    "dir_top_images=\"images_notebooks/\"+theNotebook ### Top directory to save images\n",
    "ensure_dir(dir_top_images) # create that directory\n",
    "outputdir=\"./simspectra\"\n",
    "outputdir=os.path.join(outputdir,subdir)\n",
    "#ensure_dir(outputdir)"
   ]
  },
  {
   "cell_type": "markdown",
   "metadata": {},
   "source": [
    "# Logbook"
   ]
  },
  {
   "cell_type": "markdown",
   "metadata": {},
   "source": [
    "For the moment, the logbook is in the local directory"
   ]
  },
  {
   "cell_type": "code",
   "execution_count": 16,
   "metadata": {},
   "outputs": [
    {
     "name": "stdout",
     "output_type": "stream",
     "text": [
      "ctiofulllogbook_jun2017_v3.csv   ctiofulllogbook_jun2017_v4.xlsx\r\n",
      "ctiofulllogbook_jun2017_v3.xlsx\r\n"
     ]
    }
   ],
   "source": [
    "ls ../../SpectractorAnaAtm/common_info"
   ]
  },
  {
   "cell_type": "code",
   "execution_count": 17,
   "metadata": {},
   "outputs": [],
   "source": [
    "file_logbook_csv='ctiofulllogbook_jun2017_v3.csv'\n",
    "file_logbook_xlsx='../ctiofulllogbook_jun2017_v3.xlsx'\n",
    "file_logbook_xlsx=os.path.join(PATH_SPECTRACTORANAATM,'common_info/ctiofulllogbook_jun2017_v4.xlsx')"
   ]
  },
  {
   "cell_type": "code",
   "execution_count": 18,
   "metadata": {},
   "outputs": [
    {
     "data": {
      "text/plain": [
       "'../../SpectractorAnaAtm/common_info/ctiofulllogbook_jun2017_v4.xlsx'"
      ]
     },
     "execution_count": 18,
     "metadata": {},
     "output_type": "execute_result"
    }
   ],
   "source": [
    "file_logbook_xlsx"
   ]
  },
  {
   "cell_type": "code",
   "execution_count": 19,
   "metadata": {},
   "outputs": [],
   "source": [
    "#df=pd.read_csv(file_logbook_csv,index_col=0)\n",
    "df=pd.read_excel(file_logbook_xlsx,index_col=0)"
   ]
  },
  {
   "cell_type": "code",
   "execution_count": 20,
   "metadata": {},
   "outputs": [
    {
     "data": {
      "text/html": [
       "<div>\n",
       "<style scoped>\n",
       "    .dataframe tbody tr th:only-of-type {\n",
       "        vertical-align: middle;\n",
       "    }\n",
       "\n",
       "    .dataframe tbody tr th {\n",
       "        vertical-align: top;\n",
       "    }\n",
       "\n",
       "    .dataframe thead th {\n",
       "        text-align: right;\n",
       "    }\n",
       "</style>\n",
       "<table border=\"1\" class=\"dataframe\">\n",
       "  <thead>\n",
       "    <tr style=\"text-align: right;\">\n",
       "      <th></th>\n",
       "      <th>date</th>\n",
       "      <th>subdir</th>\n",
       "      <th>index</th>\n",
       "      <th>object</th>\n",
       "      <th>filter</th>\n",
       "      <th>disperser</th>\n",
       "      <th>airmass</th>\n",
       "      <th>exposure</th>\n",
       "      <th>focus</th>\n",
       "      <th>seeing</th>\n",
       "      <th>...</th>\n",
       "      <th>T</th>\n",
       "      <th>RH</th>\n",
       "      <th>W</th>\n",
       "      <th>file</th>\n",
       "      <th>Obj-posXpix</th>\n",
       "      <th>Obj-posYpix</th>\n",
       "      <th>Dx</th>\n",
       "      <th>Dy</th>\n",
       "      <th>comment</th>\n",
       "      <th>skip</th>\n",
       "    </tr>\n",
       "  </thead>\n",
       "  <tbody>\n",
       "    <tr>\n",
       "      <th>31</th>\n",
       "      <td>2017-06-02T04:26:04.602</td>\n",
       "      <td>data_01jun17</td>\n",
       "      <td>15.0</td>\n",
       "      <td>HD185975</td>\n",
       "      <td>dia</td>\n",
       "      <td>HoloPhAg</td>\n",
       "      <td>1.919</td>\n",
       "      <td>120.0</td>\n",
       "      <td>12400.0</td>\n",
       "      <td>0.759</td>\n",
       "      <td>...</td>\n",
       "      <td>12.8</td>\n",
       "      <td>22.0</td>\n",
       "      <td>21.3</td>\n",
       "      <td>reduc_20170601_015.fits</td>\n",
       "      <td>NaN</td>\n",
       "      <td>NaN</td>\n",
       "      <td>NaN</td>\n",
       "      <td>NaN</td>\n",
       "      <td>mesure holo</td>\n",
       "      <td>NaN</td>\n",
       "    </tr>\n",
       "    <tr>\n",
       "      <th>30</th>\n",
       "      <td>2017-06-02T04:29:01.302</td>\n",
       "      <td>data_01jun17</td>\n",
       "      <td>16.0</td>\n",
       "      <td>HD185975</td>\n",
       "      <td>dia</td>\n",
       "      <td>HoloPhAg</td>\n",
       "      <td>1.918</td>\n",
       "      <td>120.0</td>\n",
       "      <td>12400.0</td>\n",
       "      <td>0.759</td>\n",
       "      <td>...</td>\n",
       "      <td>12.9</td>\n",
       "      <td>22.0</td>\n",
       "      <td>12.1</td>\n",
       "      <td>reduc_20170601_016.fits</td>\n",
       "      <td>NaN</td>\n",
       "      <td>NaN</td>\n",
       "      <td>NaN</td>\n",
       "      <td>NaN</td>\n",
       "      <td>mesure holo</td>\n",
       "      <td>NaN</td>\n",
       "    </tr>\n",
       "    <tr>\n",
       "      <th>99</th>\n",
       "      <td>2017-06-02T04:31:58.001</td>\n",
       "      <td>data_01jun17</td>\n",
       "      <td>17.0</td>\n",
       "      <td>HD185975</td>\n",
       "      <td>dia</td>\n",
       "      <td>HoloPhAg</td>\n",
       "      <td>1.917</td>\n",
       "      <td>120.0</td>\n",
       "      <td>12400.0</td>\n",
       "      <td>0.745</td>\n",
       "      <td>...</td>\n",
       "      <td>13.0</td>\n",
       "      <td>22.0</td>\n",
       "      <td>14.3</td>\n",
       "      <td>reduc_20170601_017.fits</td>\n",
       "      <td>NaN</td>\n",
       "      <td>NaN</td>\n",
       "      <td>NaN</td>\n",
       "      <td>NaN</td>\n",
       "      <td>mesure holo</td>\n",
       "      <td>NaN</td>\n",
       "    </tr>\n",
       "    <tr>\n",
       "      <th>50</th>\n",
       "      <td>2017-06-02T04:34:52.548</td>\n",
       "      <td>data_01jun17</td>\n",
       "      <td>18.0</td>\n",
       "      <td>HD185975</td>\n",
       "      <td>dia</td>\n",
       "      <td>HoloPhAg</td>\n",
       "      <td>1.917</td>\n",
       "      <td>120.0</td>\n",
       "      <td>12400.0</td>\n",
       "      <td>0.742</td>\n",
       "      <td>...</td>\n",
       "      <td>13.2</td>\n",
       "      <td>21.0</td>\n",
       "      <td>20.2</td>\n",
       "      <td>reduc_20170601_018.fits</td>\n",
       "      <td>NaN</td>\n",
       "      <td>NaN</td>\n",
       "      <td>NaN</td>\n",
       "      <td>NaN</td>\n",
       "      <td>mesure holo</td>\n",
       "      <td>NaN</td>\n",
       "    </tr>\n",
       "    <tr>\n",
       "      <th>6</th>\n",
       "      <td>2017-06-02T04:37:47.745</td>\n",
       "      <td>data_01jun17</td>\n",
       "      <td>19.0</td>\n",
       "      <td>HD185975</td>\n",
       "      <td>dia</td>\n",
       "      <td>HoloPhAg</td>\n",
       "      <td>1.916</td>\n",
       "      <td>120.0</td>\n",
       "      <td>12400.0</td>\n",
       "      <td>0.728</td>\n",
       "      <td>...</td>\n",
       "      <td>13.2</td>\n",
       "      <td>21.0</td>\n",
       "      <td>24.4</td>\n",
       "      <td>reduc_20170601_019.fits</td>\n",
       "      <td>NaN</td>\n",
       "      <td>NaN</td>\n",
       "      <td>NaN</td>\n",
       "      <td>NaN</td>\n",
       "      <td>mesure holo</td>\n",
       "      <td>NaN</td>\n",
       "    </tr>\n",
       "  </tbody>\n",
       "</table>\n",
       "<p>5 rows × 21 columns</p>\n",
       "</div>"
      ],
      "text/plain": [
       "                       date        subdir  index    object filter disperser  \\\n",
       "31  2017-06-02T04:26:04.602  data_01jun17   15.0  HD185975    dia  HoloPhAg   \n",
       "30  2017-06-02T04:29:01.302  data_01jun17   16.0  HD185975    dia  HoloPhAg   \n",
       "99  2017-06-02T04:31:58.001  data_01jun17   17.0  HD185975    dia  HoloPhAg   \n",
       "50  2017-06-02T04:34:52.548  data_01jun17   18.0  HD185975    dia  HoloPhAg   \n",
       "6   2017-06-02T04:37:47.745  data_01jun17   19.0  HD185975    dia  HoloPhAg   \n",
       "\n",
       "    airmass  exposure    focus  seeing ...      T    RH     W  \\\n",
       "31    1.919     120.0  12400.0   0.759 ...   12.8  22.0  21.3   \n",
       "30    1.918     120.0  12400.0   0.759 ...   12.9  22.0  12.1   \n",
       "99    1.917     120.0  12400.0   0.745 ...   13.0  22.0  14.3   \n",
       "50    1.917     120.0  12400.0   0.742 ...   13.2  21.0  20.2   \n",
       "6     1.916     120.0  12400.0   0.728 ...   13.2  21.0  24.4   \n",
       "\n",
       "                       file Obj-posXpix  Obj-posYpix  Dx  Dy      comment skip  \n",
       "31  reduc_20170601_015.fits         NaN          NaN NaN NaN  mesure holo  NaN  \n",
       "30  reduc_20170601_016.fits         NaN          NaN NaN NaN  mesure holo  NaN  \n",
       "99  reduc_20170601_017.fits         NaN          NaN NaN NaN  mesure holo  NaN  \n",
       "50  reduc_20170601_018.fits         NaN          NaN NaN NaN  mesure holo  NaN  \n",
       "6   reduc_20170601_019.fits         NaN          NaN NaN NaN  mesure holo  NaN  \n",
       "\n",
       "[5 rows x 21 columns]"
      ]
     },
     "execution_count": 20,
     "metadata": {},
     "output_type": "execute_result"
    }
   ],
   "source": [
    "df.head()"
   ]
  },
  {
   "cell_type": "markdown",
   "metadata": {},
   "source": [
    "# Extract the relevant data and sort by the column index"
   ]
  },
  {
   "cell_type": "code",
   "execution_count": 21,
   "metadata": {},
   "outputs": [],
   "source": [
    "all_obs=df.loc[(df[\"subdir\"]==subdir) & (df[\"object\"]==object_name),:].sort_values(by=['index'])"
   ]
  },
  {
   "cell_type": "code",
   "execution_count": 22,
   "metadata": {},
   "outputs": [],
   "source": [
    "all_obs=all_obs.loc[(all_obs[\"index\"]>=MIN_IMGNUMBER) &  (all_obs[\"index\"]<=MAX_IMGNUMBER),:]"
   ]
  },
  {
   "cell_type": "code",
   "execution_count": 23,
   "metadata": {},
   "outputs": [
    {
     "data": {
      "text/html": [
       "<div>\n",
       "<style scoped>\n",
       "    .dataframe tbody tr th:only-of-type {\n",
       "        vertical-align: middle;\n",
       "    }\n",
       "\n",
       "    .dataframe tbody tr th {\n",
       "        vertical-align: top;\n",
       "    }\n",
       "\n",
       "    .dataframe thead th {\n",
       "        text-align: right;\n",
       "    }\n",
       "</style>\n",
       "<table border=\"1\" class=\"dataframe\">\n",
       "  <thead>\n",
       "    <tr style=\"text-align: right;\">\n",
       "      <th></th>\n",
       "      <th>date</th>\n",
       "      <th>subdir</th>\n",
       "      <th>index</th>\n",
       "      <th>object</th>\n",
       "      <th>filter</th>\n",
       "      <th>disperser</th>\n",
       "      <th>airmass</th>\n",
       "      <th>exposure</th>\n",
       "      <th>focus</th>\n",
       "      <th>seeing</th>\n",
       "      <th>...</th>\n",
       "      <th>T</th>\n",
       "      <th>RH</th>\n",
       "      <th>W</th>\n",
       "      <th>file</th>\n",
       "      <th>Obj-posXpix</th>\n",
       "      <th>Obj-posYpix</th>\n",
       "      <th>Dx</th>\n",
       "      <th>Dy</th>\n",
       "      <th>comment</th>\n",
       "      <th>skip</th>\n",
       "    </tr>\n",
       "  </thead>\n",
       "  <tbody>\n",
       "    <tr>\n",
       "      <th>78</th>\n",
       "      <td>2017-05-29T04:16:11.205</td>\n",
       "      <td>data_28may17</td>\n",
       "      <td>56.0</td>\n",
       "      <td>HD185975</td>\n",
       "      <td>dia</td>\n",
       "      <td>HoloAmAg</td>\n",
       "      <td>1.931</td>\n",
       "      <td>30.0</td>\n",
       "      <td>12550.0</td>\n",
       "      <td>1.45</td>\n",
       "      <td>...</td>\n",
       "      <td>6.8</td>\n",
       "      <td>38.0</td>\n",
       "      <td>35.6</td>\n",
       "      <td>reduc_20170528_056.fits</td>\n",
       "      <td>780.0</td>\n",
       "      <td>650.0</td>\n",
       "      <td>50.0</td>\n",
       "      <td>100.0</td>\n",
       "      <td>atmosphère</td>\n",
       "      <td>NaN</td>\n",
       "    </tr>\n",
       "    <tr>\n",
       "      <th>63</th>\n",
       "      <td>2017-05-29T04:18:29.109</td>\n",
       "      <td>data_28may17</td>\n",
       "      <td>57.0</td>\n",
       "      <td>HD185975</td>\n",
       "      <td>dia</td>\n",
       "      <td>Thor300</td>\n",
       "      <td>1.929</td>\n",
       "      <td>30.0</td>\n",
       "      <td>12550.0</td>\n",
       "      <td>1.45</td>\n",
       "      <td>...</td>\n",
       "      <td>6.8</td>\n",
       "      <td>38.0</td>\n",
       "      <td>33.6</td>\n",
       "      <td>reduc_20170528_057.fits</td>\n",
       "      <td>780.0</td>\n",
       "      <td>650.0</td>\n",
       "      <td>50.0</td>\n",
       "      <td>100.0</td>\n",
       "      <td>atmosphère</td>\n",
       "      <td>NaN</td>\n",
       "    </tr>\n",
       "    <tr>\n",
       "      <th>7</th>\n",
       "      <td>2017-05-29T04:19:51.453</td>\n",
       "      <td>data_28may17</td>\n",
       "      <td>58.0</td>\n",
       "      <td>HD185975</td>\n",
       "      <td>dia</td>\n",
       "      <td>HoloPhP</td>\n",
       "      <td>1.929</td>\n",
       "      <td>30.0</td>\n",
       "      <td>12550.0</td>\n",
       "      <td>1.45</td>\n",
       "      <td>...</td>\n",
       "      <td>6.9</td>\n",
       "      <td>38.0</td>\n",
       "      <td>28.1</td>\n",
       "      <td>reduc_20170528_058.fits</td>\n",
       "      <td>780.0</td>\n",
       "      <td>650.0</td>\n",
       "      <td>50.0</td>\n",
       "      <td>100.0</td>\n",
       "      <td>atmosphère</td>\n",
       "      <td>NaN</td>\n",
       "    </tr>\n",
       "    <tr>\n",
       "      <th>73</th>\n",
       "      <td>2017-05-29T04:21:13.848</td>\n",
       "      <td>data_28may17</td>\n",
       "      <td>59.0</td>\n",
       "      <td>HD185975</td>\n",
       "      <td>dia</td>\n",
       "      <td>HoloPhAg</td>\n",
       "      <td>1.928</td>\n",
       "      <td>30.0</td>\n",
       "      <td>12550.0</td>\n",
       "      <td>1.45</td>\n",
       "      <td>...</td>\n",
       "      <td>6.6</td>\n",
       "      <td>39.0</td>\n",
       "      <td>24.8</td>\n",
       "      <td>reduc_20170528_059.fits</td>\n",
       "      <td>780.0</td>\n",
       "      <td>650.0</td>\n",
       "      <td>50.0</td>\n",
       "      <td>100.0</td>\n",
       "      <td>atmosphère</td>\n",
       "      <td>NaN</td>\n",
       "    </tr>\n",
       "    <tr>\n",
       "      <th>98</th>\n",
       "      <td>2017-05-29T04:27:42.796</td>\n",
       "      <td>data_28may17</td>\n",
       "      <td>60.0</td>\n",
       "      <td>HD185975</td>\n",
       "      <td>dia</td>\n",
       "      <td>Thor300</td>\n",
       "      <td>1.924</td>\n",
       "      <td>30.0</td>\n",
       "      <td>12550.0</td>\n",
       "      <td>1.45</td>\n",
       "      <td>...</td>\n",
       "      <td>6.2</td>\n",
       "      <td>41.0</td>\n",
       "      <td>29.2</td>\n",
       "      <td>reduc_20170528_060.fits</td>\n",
       "      <td>780.0</td>\n",
       "      <td>650.0</td>\n",
       "      <td>50.0</td>\n",
       "      <td>100.0</td>\n",
       "      <td>atmosphère</td>\n",
       "      <td>NaN</td>\n",
       "    </tr>\n",
       "  </tbody>\n",
       "</table>\n",
       "<p>5 rows × 21 columns</p>\n",
       "</div>"
      ],
      "text/plain": [
       "                       date        subdir  index    object filter disperser  \\\n",
       "78  2017-05-29T04:16:11.205  data_28may17   56.0  HD185975    dia  HoloAmAg   \n",
       "63  2017-05-29T04:18:29.109  data_28may17   57.0  HD185975    dia   Thor300   \n",
       "7   2017-05-29T04:19:51.453  data_28may17   58.0  HD185975    dia   HoloPhP   \n",
       "73  2017-05-29T04:21:13.848  data_28may17   59.0  HD185975    dia  HoloPhAg   \n",
       "98  2017-05-29T04:27:42.796  data_28may17   60.0  HD185975    dia   Thor300   \n",
       "\n",
       "    airmass  exposure    focus  seeing ...     T    RH     W  \\\n",
       "78    1.931      30.0  12550.0    1.45 ...   6.8  38.0  35.6   \n",
       "63    1.929      30.0  12550.0    1.45 ...   6.8  38.0  33.6   \n",
       "7     1.929      30.0  12550.0    1.45 ...   6.9  38.0  28.1   \n",
       "73    1.928      30.0  12550.0    1.45 ...   6.6  39.0  24.8   \n",
       "98    1.924      30.0  12550.0    1.45 ...   6.2  41.0  29.2   \n",
       "\n",
       "                       file Obj-posXpix  Obj-posYpix    Dx     Dy     comment  \\\n",
       "78  reduc_20170528_056.fits       780.0        650.0  50.0  100.0  atmosphère   \n",
       "63  reduc_20170528_057.fits       780.0        650.0  50.0  100.0  atmosphère   \n",
       "7   reduc_20170528_058.fits       780.0        650.0  50.0  100.0  atmosphère   \n",
       "73  reduc_20170528_059.fits       780.0        650.0  50.0  100.0  atmosphère   \n",
       "98  reduc_20170528_060.fits       780.0        650.0  50.0  100.0  atmosphère   \n",
       "\n",
       "   skip  \n",
       "78  NaN  \n",
       "63  NaN  \n",
       "7   NaN  \n",
       "73  NaN  \n",
       "98  NaN  \n",
       "\n",
       "[5 rows x 21 columns]"
      ]
     },
     "execution_count": 23,
     "metadata": {},
     "output_type": "execute_result"
    }
   ],
   "source": [
    "all_obs.head()"
   ]
  },
  {
   "cell_type": "markdown",
   "metadata": {},
   "source": [
    "# Extract relevant info for SpectractorSim"
   ]
  },
  {
   "cell_type": "code",
   "execution_count": 24,
   "metadata": {},
   "outputs": [],
   "source": [
    "target_tosimspec=all_obs[['index','object','airmass','filter','disperser','exposure','P','T','RH','file','date']]"
   ]
  },
  {
   "cell_type": "code",
   "execution_count": 25,
   "metadata": {},
   "outputs": [
    {
     "data": {
      "text/html": [
       "<div>\n",
       "<style scoped>\n",
       "    .dataframe tbody tr th:only-of-type {\n",
       "        vertical-align: middle;\n",
       "    }\n",
       "\n",
       "    .dataframe tbody tr th {\n",
       "        vertical-align: top;\n",
       "    }\n",
       "\n",
       "    .dataframe thead th {\n",
       "        text-align: right;\n",
       "    }\n",
       "</style>\n",
       "<table border=\"1\" class=\"dataframe\">\n",
       "  <thead>\n",
       "    <tr style=\"text-align: right;\">\n",
       "      <th></th>\n",
       "      <th>index</th>\n",
       "      <th>object</th>\n",
       "      <th>airmass</th>\n",
       "      <th>filter</th>\n",
       "      <th>disperser</th>\n",
       "      <th>exposure</th>\n",
       "      <th>P</th>\n",
       "      <th>T</th>\n",
       "      <th>RH</th>\n",
       "      <th>file</th>\n",
       "      <th>date</th>\n",
       "    </tr>\n",
       "  </thead>\n",
       "  <tbody>\n",
       "    <tr>\n",
       "      <th>78</th>\n",
       "      <td>56.0</td>\n",
       "      <td>HD185975</td>\n",
       "      <td>1.931</td>\n",
       "      <td>dia</td>\n",
       "      <td>HoloAmAg</td>\n",
       "      <td>30.0</td>\n",
       "      <td>777.0</td>\n",
       "      <td>6.8</td>\n",
       "      <td>38.0</td>\n",
       "      <td>reduc_20170528_056.fits</td>\n",
       "      <td>2017-05-29T04:16:11.205</td>\n",
       "    </tr>\n",
       "    <tr>\n",
       "      <th>63</th>\n",
       "      <td>57.0</td>\n",
       "      <td>HD185975</td>\n",
       "      <td>1.929</td>\n",
       "      <td>dia</td>\n",
       "      <td>Thor300</td>\n",
       "      <td>30.0</td>\n",
       "      <td>777.0</td>\n",
       "      <td>6.8</td>\n",
       "      <td>38.0</td>\n",
       "      <td>reduc_20170528_057.fits</td>\n",
       "      <td>2017-05-29T04:18:29.109</td>\n",
       "    </tr>\n",
       "    <tr>\n",
       "      <th>7</th>\n",
       "      <td>58.0</td>\n",
       "      <td>HD185975</td>\n",
       "      <td>1.929</td>\n",
       "      <td>dia</td>\n",
       "      <td>HoloPhP</td>\n",
       "      <td>30.0</td>\n",
       "      <td>778.0</td>\n",
       "      <td>6.9</td>\n",
       "      <td>38.0</td>\n",
       "      <td>reduc_20170528_058.fits</td>\n",
       "      <td>2017-05-29T04:19:51.453</td>\n",
       "    </tr>\n",
       "    <tr>\n",
       "      <th>73</th>\n",
       "      <td>59.0</td>\n",
       "      <td>HD185975</td>\n",
       "      <td>1.928</td>\n",
       "      <td>dia</td>\n",
       "      <td>HoloPhAg</td>\n",
       "      <td>30.0</td>\n",
       "      <td>778.0</td>\n",
       "      <td>6.6</td>\n",
       "      <td>39.0</td>\n",
       "      <td>reduc_20170528_059.fits</td>\n",
       "      <td>2017-05-29T04:21:13.848</td>\n",
       "    </tr>\n",
       "    <tr>\n",
       "      <th>98</th>\n",
       "      <td>60.0</td>\n",
       "      <td>HD185975</td>\n",
       "      <td>1.924</td>\n",
       "      <td>dia</td>\n",
       "      <td>Thor300</td>\n",
       "      <td>30.0</td>\n",
       "      <td>778.0</td>\n",
       "      <td>6.2</td>\n",
       "      <td>41.0</td>\n",
       "      <td>reduc_20170528_060.fits</td>\n",
       "      <td>2017-05-29T04:27:42.796</td>\n",
       "    </tr>\n",
       "  </tbody>\n",
       "</table>\n",
       "</div>"
      ],
      "text/plain": [
       "    index    object  airmass filter disperser  exposure      P    T    RH  \\\n",
       "78   56.0  HD185975    1.931    dia  HoloAmAg      30.0  777.0  6.8  38.0   \n",
       "63   57.0  HD185975    1.929    dia   Thor300      30.0  777.0  6.8  38.0   \n",
       "7    58.0  HD185975    1.929    dia   HoloPhP      30.0  778.0  6.9  38.0   \n",
       "73   59.0  HD185975    1.928    dia  HoloPhAg      30.0  778.0  6.6  39.0   \n",
       "98   60.0  HD185975    1.924    dia   Thor300      30.0  778.0  6.2  41.0   \n",
       "\n",
       "                       file                     date  \n",
       "78  reduc_20170528_056.fits  2017-05-29T04:16:11.205  \n",
       "63  reduc_20170528_057.fits  2017-05-29T04:18:29.109  \n",
       "7   reduc_20170528_058.fits  2017-05-29T04:19:51.453  \n",
       "73  reduc_20170528_059.fits  2017-05-29T04:21:13.848  \n",
       "98  reduc_20170528_060.fits  2017-05-29T04:27:42.796  "
      ]
     },
     "execution_count": 25,
     "metadata": {},
     "output_type": "execute_result"
    }
   ],
   "source": [
    "target_tosimspec.head()"
   ]
  },
  {
   "cell_type": "markdown",
   "metadata": {},
   "source": [
    "### Setting the parameters of SpectractorSim"
   ]
  },
  {
   "cell_type": "code",
   "execution_count": null,
   "metadata": {},
   "outputs": [],
   "source": [
    "parameters.DEBUG = False\n",
    "parameters.VERBOSE = False"
   ]
  },
  {
   "cell_type": "code",
   "execution_count": null,
   "metadata": {},
   "outputs": [
    {
     "name": "stdout",
     "output_type": "stream",
     "text": [
      "*************************************************************************************************\n",
      "*********** spectrum id= reduc_20170528_056.fits  num = 56.0  airmass = 1.931  pressure = 777.0 *****\n",
      "*************************************************************************************************\n",
      "Loading /Users/dagoret/MacOSX/External/PySynPhotData/grp/hst/cdbs/calspec/hd185975_stis_001.fits\n",
      "Loading /Users/dagoret/MacOSX/External/PySynPhotData/grp/hst/cdbs/calspec/hd185975_stis_002.fits\n",
      "Loading /Users/dagoret/MacOSX/External/PySynPhotData/grp/hst/cdbs/calspec/hd185975_stis_003.fits\n",
      "*************************************************************************************************\n",
      "*********** spectrum id= reduc_20170528_057.fits  num = 57.0  airmass = 1.929  pressure = 777.0 *****\n",
      "*************************************************************************************************\n",
      "Loading /Users/dagoret/MacOSX/External/PySynPhotData/grp/hst/cdbs/calspec/hd185975_stis_001.fits\n",
      "Loading /Users/dagoret/MacOSX/External/PySynPhotData/grp/hst/cdbs/calspec/hd185975_stis_002.fits\n",
      "Loading /Users/dagoret/MacOSX/External/PySynPhotData/grp/hst/cdbs/calspec/hd185975_stis_003.fits\n",
      "*************************************************************************************************\n",
      "*********** spectrum id= reduc_20170528_058.fits  num = 58.0  airmass = 1.929  pressure = 778.0 *****\n",
      "*************************************************************************************************\n",
      "Loading /Users/dagoret/MacOSX/External/PySynPhotData/grp/hst/cdbs/calspec/hd185975_stis_001.fits\n",
      "Loading /Users/dagoret/MacOSX/External/PySynPhotData/grp/hst/cdbs/calspec/hd185975_stis_002.fits\n",
      "Loading /Users/dagoret/MacOSX/External/PySynPhotData/grp/hst/cdbs/calspec/hd185975_stis_003.fits\n",
      "*************************************************************************************************\n",
      "*********** spectrum id= reduc_20170528_059.fits  num = 59.0  airmass = 1.928  pressure = 778.0 *****\n",
      "*************************************************************************************************\n",
      "Loading /Users/dagoret/MacOSX/External/PySynPhotData/grp/hst/cdbs/calspec/hd185975_stis_001.fits\n",
      "Loading /Users/dagoret/MacOSX/External/PySynPhotData/grp/hst/cdbs/calspec/hd185975_stis_002.fits\n",
      "Loading /Users/dagoret/MacOSX/External/PySynPhotData/grp/hst/cdbs/calspec/hd185975_stis_003.fits\n",
      "*************************************************************************************************\n",
      "*********** spectrum id= reduc_20170528_060.fits  num = 60.0  airmass = 1.924  pressure = 778.0 *****\n",
      "*************************************************************************************************\n"
     ]
    }
   ],
   "source": [
    "for index, row in target_tosimspec.iterrows():\n",
    "    index=row['file']\n",
    "    num=row['index']\n",
    "    targetname=row['object']\n",
    "    airmass=row['airmass']\n",
    "    filename_data=row['file']\n",
    "    filtername=row['filter']\n",
    "    dispersername=row['disperser']\n",
    "    exposure=row['exposure']\n",
    "    pressure=row['P']\n",
    "    temperature=row['T']\n",
    "    rhumidity=row['RH']\n",
    "    date=row['date']\n",
    "    \n",
    "    print '*************************************************************************************************'\n",
    "    print '*********** spectrum id=',index, ' num =',num,' airmass =',airmass,' pressure =',pressure, '*****'\n",
    "    print '*************************************************************************************************'\n",
    "    \n",
    "   \n",
    "    SpectractorSim(filename_data,outputdir,targetname,index,airmass,pressure,temperature,rhumidity,exposure,filtername,dispersername)\n",
    "    "
   ]
  },
  {
   "cell_type": "code",
   "execution_count": null,
   "metadata": {},
   "outputs": [],
   "source": []
  }
 ],
 "metadata": {
  "kernelspec": {
   "display_name": "Python 2",
   "language": "python",
   "name": "python2"
  },
  "language_info": {
   "codemirror_mode": {
    "name": "ipython",
    "version": 2
   },
   "file_extension": ".py",
   "mimetype": "text/x-python",
   "name": "python",
   "nbconvert_exporter": "python",
   "pygments_lexer": "ipython2",
   "version": "2.7.14"
  },
  "toc": {
   "nav_menu": {},
   "number_sections": true,
   "sideBar": true,
   "skip_h1_title": false,
   "toc_cell": false,
   "toc_position": {},
   "toc_section_display": "block",
   "toc_window_display": false
  }
 },
 "nbformat": 4,
 "nbformat_minor": 2
}
